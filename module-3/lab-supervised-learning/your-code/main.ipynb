{
 "cells": [
  {
   "cell_type": "markdown",
   "metadata": {},
   "source": [
    "# Before your start:\n",
    "- Read the README.md file\n",
    "- Comment as much as you can and use the resources in the README.md file\n",
    "- Happy learning!"
   ]
  },
  {
   "cell_type": "code",
   "execution_count": 1,
   "metadata": {},
   "outputs": [],
   "source": [
    "# Import your libraries:\n",
    "\n",
    "%matplotlib inline\n",
    "\n",
    "import numpy as np\n",
    "import pandas as pd"
   ]
  },
  {
   "cell_type": "markdown",
   "metadata": {},
   "source": [
    "In this lab, we will explore a dataset that describes websites with different features and labels them either benign or malicious . We will use supervised learning algorithms to figure out what feature patterns malicious websites are likely to have and use our model to predict malicious websites.\n",
    "\n",
    "# Challenge 1 - Explore The Dataset\n",
    "\n",
    "Let's start by exploring the dataset. First load the data file:"
   ]
  },
  {
   "cell_type": "code",
   "execution_count": 2,
   "metadata": {},
   "outputs": [],
   "source": [
    "websites = pd.read_csv('../website.csv')"
   ]
  },
  {
   "cell_type": "markdown",
   "metadata": {},
   "source": [
    "#### Explore the data from an bird's-eye view.\n",
    "\n",
    "You should already been very familiar with the procedures now so we won't provide the instructions step by step. Reflect on what you did in the previous labs and explore the dataset.\n",
    "\n",
    "Things you'll be looking for:\n",
    "\n",
    "* What the dataset looks like?\n",
    "* What are the data types?\n",
    "* Which columns contain the features of the websites?\n",
    "* Which column contains the feature we will predict? What is the code standing for benign vs malicious websites?\n",
    "* Do we need to transform any of the columns from categorical to ordinal values? If so what are these columns?\n",
    "\n",
    "Feel free to add additional cells for your explorations. Make sure to comment what you find out."
   ]
  },
  {
   "cell_type": "code",
   "execution_count": 3,
   "metadata": {},
   "outputs": [
    {
     "output_type": "stream",
     "name": "stdout",
     "text": [
      "<class 'pandas.core.frame.DataFrame'>\nRangeIndex: 1781 entries, 0 to 1780\nData columns (total 21 columns):\n #   Column                     Non-Null Count  Dtype  \n---  ------                     --------------  -----  \n 0   URL                        1781 non-null   object \n 1   URL_LENGTH                 1781 non-null   int64  \n 2   NUMBER_SPECIAL_CHARACTERS  1781 non-null   int64  \n 3   CHARSET                    1781 non-null   object \n 4   SERVER                     1780 non-null   object \n 5   CONTENT_LENGTH             969 non-null    float64\n 6   WHOIS_COUNTRY              1781 non-null   object \n 7   WHOIS_STATEPRO             1781 non-null   object \n 8   WHOIS_REGDATE              1781 non-null   object \n 9   WHOIS_UPDATED_DATE         1781 non-null   object \n 10  TCP_CONVERSATION_EXCHANGE  1781 non-null   int64  \n 11  DIST_REMOTE_TCP_PORT       1781 non-null   int64  \n 12  REMOTE_IPS                 1781 non-null   int64  \n 13  APP_BYTES                  1781 non-null   int64  \n 14  SOURCE_APP_PACKETS         1781 non-null   int64  \n 15  REMOTE_APP_PACKETS         1781 non-null   int64  \n 16  SOURCE_APP_BYTES           1781 non-null   int64  \n 17  REMOTE_APP_BYTES           1781 non-null   int64  \n 18  APP_PACKETS                1781 non-null   int64  \n 19  DNS_QUERY_TIMES            1780 non-null   float64\n 20  Type                       1781 non-null   int64  \ndtypes: float64(2), int64(12), object(7)\nmemory usage: 292.3+ KB\n"
     ]
    }
   ],
   "source": [
    "# Your code here\n",
    "websites.info()"
   ]
  },
  {
   "cell_type": "code",
   "execution_count": 4,
   "metadata": {},
   "outputs": [
    {
     "output_type": "execute_result",
     "data": {
      "text/plain": [
       "URL                            0\n",
       "URL_LENGTH                     0\n",
       "NUMBER_SPECIAL_CHARACTERS      0\n",
       "CHARSET                        0\n",
       "SERVER                         1\n",
       "CONTENT_LENGTH               812\n",
       "WHOIS_COUNTRY                  0\n",
       "WHOIS_STATEPRO                 0\n",
       "WHOIS_REGDATE                  0\n",
       "WHOIS_UPDATED_DATE             0\n",
       "TCP_CONVERSATION_EXCHANGE      0\n",
       "DIST_REMOTE_TCP_PORT           0\n",
       "REMOTE_IPS                     0\n",
       "APP_BYTES                      0\n",
       "SOURCE_APP_PACKETS             0\n",
       "REMOTE_APP_PACKETS             0\n",
       "SOURCE_APP_BYTES               0\n",
       "REMOTE_APP_BYTES               0\n",
       "APP_PACKETS                    0\n",
       "DNS_QUERY_TIMES                1\n",
       "Type                           0\n",
       "dtype: int64"
      ]
     },
     "metadata": {},
     "execution_count": 4
    }
   ],
   "source": [
    "# Your comment here\n",
    "websites.isnull().sum(axis=0)"
   ]
  },
  {
   "cell_type": "code",
   "execution_count": 5,
   "metadata": {},
   "outputs": [
    {
     "output_type": "execute_result",
     "data": {
      "text/plain": [
       "(1781, 21)"
      ]
     },
     "metadata": {},
     "execution_count": 5
    }
   ],
   "source": [
    "websites.shape"
   ]
  },
  {
   "cell_type": "code",
   "execution_count": 6,
   "metadata": {},
   "outputs": [
    {
     "output_type": "execute_result",
     "data": {
      "text/plain": [
       "URL                            0\n",
       "URL_LENGTH                     0\n",
       "NUMBER_SPECIAL_CHARACTERS      0\n",
       "CHARSET                        0\n",
       "SERVER                         1\n",
       "CONTENT_LENGTH               812\n",
       "WHOIS_COUNTRY                  0\n",
       "WHOIS_STATEPRO                 0\n",
       "WHOIS_REGDATE                  0\n",
       "WHOIS_UPDATED_DATE             0\n",
       "TCP_CONVERSATION_EXCHANGE      0\n",
       "DIST_REMOTE_TCP_PORT           0\n",
       "REMOTE_IPS                     0\n",
       "APP_BYTES                      0\n",
       "SOURCE_APP_PACKETS             0\n",
       "REMOTE_APP_PACKETS             0\n",
       "SOURCE_APP_BYTES               0\n",
       "REMOTE_APP_BYTES               0\n",
       "APP_PACKETS                    0\n",
       "DNS_QUERY_TIMES                1\n",
       "Type                           0\n",
       "dtype: int64"
      ]
     },
     "metadata": {},
     "execution_count": 6
    }
   ],
   "source": [
    "websites.isna().sum(axis=0)"
   ]
  },
  {
   "cell_type": "code",
   "execution_count": 7,
   "metadata": {},
   "outputs": [],
   "source": [
    "websites = websites.drop(columns=\"CONTENT_LENGTH\") #Eliminamos esta columna debido a su alto número de faltantes"
   ]
  },
  {
   "cell_type": "code",
   "execution_count": 8,
   "metadata": {},
   "outputs": [],
   "source": [
    "websites_clean = websites.dropna() #Eliminamos las filas con valores nulos, que en este caso son 2"
   ]
  },
  {
   "cell_type": "code",
   "execution_count": 9,
   "metadata": {},
   "outputs": [
    {
     "output_type": "execute_result",
     "data": {
      "text/plain": [
       "URL                           object\n",
       "URL_LENGTH                     int64\n",
       "NUMBER_SPECIAL_CHARACTERS      int64\n",
       "CHARSET                       object\n",
       "SERVER                        object\n",
       "WHOIS_COUNTRY                 object\n",
       "WHOIS_STATEPRO                object\n",
       "WHOIS_REGDATE                 object\n",
       "WHOIS_UPDATED_DATE            object\n",
       "TCP_CONVERSATION_EXCHANGE      int64\n",
       "DIST_REMOTE_TCP_PORT           int64\n",
       "REMOTE_IPS                     int64\n",
       "APP_BYTES                      int64\n",
       "SOURCE_APP_PACKETS             int64\n",
       "REMOTE_APP_PACKETS             int64\n",
       "SOURCE_APP_BYTES               int64\n",
       "REMOTE_APP_BYTES               int64\n",
       "APP_PACKETS                    int64\n",
       "DNS_QUERY_TIMES              float64\n",
       "Type                           int64\n",
       "dtype: object"
      ]
     },
     "metadata": {},
     "execution_count": 9
    }
   ],
   "source": [
    "websites_clean.dtypes #Comprobamos los tipos de datos"
   ]
  },
  {
   "cell_type": "code",
   "execution_count": 10,
   "metadata": {},
   "outputs": [
    {
     "output_type": "execute_result",
     "data": {
      "text/plain": [
       "        URL_LENGTH  NUMBER_SPECIAL_CHARACTERS  TCP_CONVERSATION_EXCHANGE  \\\n",
       "count  1779.000000                1779.000000                1779.000000   \n",
       "mean     56.931422                  11.109612                  16.268690   \n",
       "std      27.550441                   4.551519                  40.522693   \n",
       "min      16.000000                   5.000000                   0.000000   \n",
       "25%      39.000000                   8.000000                   0.000000   \n",
       "50%      49.000000                  10.000000                   7.000000   \n",
       "75%      68.000000                  13.000000                  22.000000   \n",
       "max     249.000000                  43.000000                1194.000000   \n",
       "\n",
       "       DIST_REMOTE_TCP_PORT   REMOTE_IPS     APP_BYTES  SOURCE_APP_PACKETS  \\\n",
       "count           1779.000000  1779.000000  1.779000e+03         1779.000000   \n",
       "mean               5.476672     3.060708  2.984960e+03           18.550309   \n",
       "std               21.819277     3.388713  5.608203e+04           41.649066   \n",
       "min                0.000000     0.000000  0.000000e+00            0.000000   \n",
       "25%                0.000000     0.000000  0.000000e+00            0.000000   \n",
       "50%                0.000000     2.000000  6.720000e+02            8.000000   \n",
       "75%                5.000000     5.000000  2.328500e+03           26.000000   \n",
       "max              708.000000    17.000000  2.362906e+06         1198.000000   \n",
       "\n",
       "       REMOTE_APP_PACKETS  SOURCE_APP_BYTES  REMOTE_APP_BYTES  APP_PACKETS  \\\n",
       "count         1779.000000      1.779000e+03      1.779000e+03  1779.000000   \n",
       "mean            18.762226      1.591004e+04      3.158414e+03    18.550309   \n",
       "std             46.421592      6.989926e+04      5.608523e+04    41.649066   \n",
       "min              0.000000      0.000000e+00      0.000000e+00     0.000000   \n",
       "25%              0.000000      0.000000e+00      0.000000e+00     0.000000   \n",
       "50%              9.000000      5.930000e+02      7.350000e+02     8.000000   \n",
       "75%             25.000000      9.808500e+03      2.708000e+03    26.000000   \n",
       "max           1284.000000      2.060012e+06      2.362906e+06  1198.000000   \n",
       "\n",
       "       DNS_QUERY_TIMES         Type  \n",
       "count      1779.000000  1779.000000  \n",
       "mean          2.264755     0.121417  \n",
       "std           2.931185     0.326703  \n",
       "min           0.000000     0.000000  \n",
       "25%           0.000000     0.000000  \n",
       "50%           0.000000     0.000000  \n",
       "75%           4.000000     0.000000  \n",
       "max          20.000000     1.000000  "
      ],
      "text/html": "<div>\n<style scoped>\n    .dataframe tbody tr th:only-of-type {\n        vertical-align: middle;\n    }\n\n    .dataframe tbody tr th {\n        vertical-align: top;\n    }\n\n    .dataframe thead th {\n        text-align: right;\n    }\n</style>\n<table border=\"1\" class=\"dataframe\">\n  <thead>\n    <tr style=\"text-align: right;\">\n      <th></th>\n      <th>URL_LENGTH</th>\n      <th>NUMBER_SPECIAL_CHARACTERS</th>\n      <th>TCP_CONVERSATION_EXCHANGE</th>\n      <th>DIST_REMOTE_TCP_PORT</th>\n      <th>REMOTE_IPS</th>\n      <th>APP_BYTES</th>\n      <th>SOURCE_APP_PACKETS</th>\n      <th>REMOTE_APP_PACKETS</th>\n      <th>SOURCE_APP_BYTES</th>\n      <th>REMOTE_APP_BYTES</th>\n      <th>APP_PACKETS</th>\n      <th>DNS_QUERY_TIMES</th>\n      <th>Type</th>\n    </tr>\n  </thead>\n  <tbody>\n    <tr>\n      <th>count</th>\n      <td>1779.000000</td>\n      <td>1779.000000</td>\n      <td>1779.000000</td>\n      <td>1779.000000</td>\n      <td>1779.000000</td>\n      <td>1.779000e+03</td>\n      <td>1779.000000</td>\n      <td>1779.000000</td>\n      <td>1.779000e+03</td>\n      <td>1.779000e+03</td>\n      <td>1779.000000</td>\n      <td>1779.000000</td>\n      <td>1779.000000</td>\n    </tr>\n    <tr>\n      <th>mean</th>\n      <td>56.931422</td>\n      <td>11.109612</td>\n      <td>16.268690</td>\n      <td>5.476672</td>\n      <td>3.060708</td>\n      <td>2.984960e+03</td>\n      <td>18.550309</td>\n      <td>18.762226</td>\n      <td>1.591004e+04</td>\n      <td>3.158414e+03</td>\n      <td>18.550309</td>\n      <td>2.264755</td>\n      <td>0.121417</td>\n    </tr>\n    <tr>\n      <th>std</th>\n      <td>27.550441</td>\n      <td>4.551519</td>\n      <td>40.522693</td>\n      <td>21.819277</td>\n      <td>3.388713</td>\n      <td>5.608203e+04</td>\n      <td>41.649066</td>\n      <td>46.421592</td>\n      <td>6.989926e+04</td>\n      <td>5.608523e+04</td>\n      <td>41.649066</td>\n      <td>2.931185</td>\n      <td>0.326703</td>\n    </tr>\n    <tr>\n      <th>min</th>\n      <td>16.000000</td>\n      <td>5.000000</td>\n      <td>0.000000</td>\n      <td>0.000000</td>\n      <td>0.000000</td>\n      <td>0.000000e+00</td>\n      <td>0.000000</td>\n      <td>0.000000</td>\n      <td>0.000000e+00</td>\n      <td>0.000000e+00</td>\n      <td>0.000000</td>\n      <td>0.000000</td>\n      <td>0.000000</td>\n    </tr>\n    <tr>\n      <th>25%</th>\n      <td>39.000000</td>\n      <td>8.000000</td>\n      <td>0.000000</td>\n      <td>0.000000</td>\n      <td>0.000000</td>\n      <td>0.000000e+00</td>\n      <td>0.000000</td>\n      <td>0.000000</td>\n      <td>0.000000e+00</td>\n      <td>0.000000e+00</td>\n      <td>0.000000</td>\n      <td>0.000000</td>\n      <td>0.000000</td>\n    </tr>\n    <tr>\n      <th>50%</th>\n      <td>49.000000</td>\n      <td>10.000000</td>\n      <td>7.000000</td>\n      <td>0.000000</td>\n      <td>2.000000</td>\n      <td>6.720000e+02</td>\n      <td>8.000000</td>\n      <td>9.000000</td>\n      <td>5.930000e+02</td>\n      <td>7.350000e+02</td>\n      <td>8.000000</td>\n      <td>0.000000</td>\n      <td>0.000000</td>\n    </tr>\n    <tr>\n      <th>75%</th>\n      <td>68.000000</td>\n      <td>13.000000</td>\n      <td>22.000000</td>\n      <td>5.000000</td>\n      <td>5.000000</td>\n      <td>2.328500e+03</td>\n      <td>26.000000</td>\n      <td>25.000000</td>\n      <td>9.808500e+03</td>\n      <td>2.708000e+03</td>\n      <td>26.000000</td>\n      <td>4.000000</td>\n      <td>0.000000</td>\n    </tr>\n    <tr>\n      <th>max</th>\n      <td>249.000000</td>\n      <td>43.000000</td>\n      <td>1194.000000</td>\n      <td>708.000000</td>\n      <td>17.000000</td>\n      <td>2.362906e+06</td>\n      <td>1198.000000</td>\n      <td>1284.000000</td>\n      <td>2.060012e+06</td>\n      <td>2.362906e+06</td>\n      <td>1198.000000</td>\n      <td>20.000000</td>\n      <td>1.000000</td>\n    </tr>\n  </tbody>\n</table>\n</div>"
     },
     "metadata": {},
     "execution_count": 10
    }
   ],
   "source": [
    "websites_clean.describe() #Vemos los valores estadísticos"
   ]
  },
  {
   "cell_type": "code",
   "execution_count": 11,
   "metadata": {},
   "outputs": [
    {
     "output_type": "execute_result",
     "data": {
      "text/plain": [
       "URL                          1.000000\n",
       "URL_LENGTH                   0.079820\n",
       "NUMBER_SPECIAL_CHARACTERS    0.017426\n",
       "CHARSET                      0.005059\n",
       "SERVER                       0.134345\n",
       "WHOIS_COUNTRY                0.027544\n",
       "WHOIS_STATEPRO               0.101743\n",
       "WHOIS_REGDATE                0.499719\n",
       "WHOIS_UPDATED_DATE           0.333333\n",
       "TCP_CONVERSATION_EXCHANGE    0.057898\n",
       "DIST_REMOTE_TCP_PORT         0.037099\n",
       "REMOTE_IPS                   0.010118\n",
       "APP_BYTES                    0.463744\n",
       "SOURCE_APP_PACKETS           0.063519\n",
       "REMOTE_APP_PACKETS           0.065205\n",
       "SOURCE_APP_BYTES             0.497470\n",
       "REMOTE_APP_BYTES             0.462057\n",
       "APP_PACKETS                  0.063519\n",
       "DNS_QUERY_TIMES              0.005621\n",
       "Type                         0.001124\n",
       "dtype: float64"
      ]
     },
     "metadata": {},
     "execution_count": 11
    }
   ],
   "source": [
    "websites_clean.nunique()/websites_clean.shape[0] #Vemos la cardinalidad de las diferentes columnas"
   ]
  },
  {
   "cell_type": "code",
   "execution_count": 12,
   "metadata": {},
   "outputs": [
    {
     "output_type": "execute_result",
     "data": {
      "text/plain": [
       "0    1563\n",
       "1     216\n",
       "Name: Type, dtype: int64"
      ]
     },
     "metadata": {},
     "execution_count": 12
    }
   ],
   "source": [
    "websites_clean[\"Type\"].value_counts() #Tenemos 1563 páginas benignas frente a 216 maliciosas"
   ]
  },
  {
   "cell_type": "code",
   "execution_count": 13,
   "metadata": {},
   "outputs": [
    {
     "output_type": "execute_result",
     "data": {
      "text/plain": [
       "       URL  URL_LENGTH  NUMBER_SPECIAL_CHARACTERS     CHARSET  \\\n",
       "0   M0_109          16                          7  iso-8859-1   \n",
       "1  B0_2314          16                          6       UTF-8   \n",
       "2   B0_911          16                          6    us-ascii   \n",
       "3   B0_113          17                          6  ISO-8859-1   \n",
       "4   B0_403          17                          6       UTF-8   \n",
       "\n",
       "                  SERVER WHOIS_COUNTRY WHOIS_STATEPRO     WHOIS_REGDATE  \\\n",
       "0                  nginx          None           None  10/10/2015 18:21   \n",
       "1          Apache/2.4.10          None           None              None   \n",
       "2  Microsoft-HTTPAPI/2.0          None           None              None   \n",
       "3                  nginx            US             AK    7/10/1997 4:00   \n",
       "4                   None            US             TX   12/05/1996 0:00   \n",
       "\n",
       "  WHOIS_UPDATED_DATE  TCP_CONVERSATION_EXCHANGE  DIST_REMOTE_TCP_PORT  \\\n",
       "0               None                          7                     0   \n",
       "1               None                         17                     7   \n",
       "2               None                          0                     0   \n",
       "3    12/09/2013 0:45                         31                    22   \n",
       "4    11/04/2017 0:00                         57                     2   \n",
       "\n",
       "   REMOTE_IPS  APP_BYTES  SOURCE_APP_PACKETS  REMOTE_APP_PACKETS  \\\n",
       "0           2        700                   9                  10   \n",
       "1           4       1230                  17                  19   \n",
       "2           0          0                   0                   0   \n",
       "3           3       3812                  39                  37   \n",
       "4           5       4278                  61                  62   \n",
       "\n",
       "   SOURCE_APP_BYTES  REMOTE_APP_BYTES  APP_PACKETS  DNS_QUERY_TIMES  Type  \n",
       "0              1153               832            9              2.0     1  \n",
       "1              1265              1230           17              0.0     0  \n",
       "2                 0                 0            0              0.0     0  \n",
       "3             18784              4380           39              8.0     0  \n",
       "4            129889              4586           61              4.0     0  "
      ],
      "text/html": "<div>\n<style scoped>\n    .dataframe tbody tr th:only-of-type {\n        vertical-align: middle;\n    }\n\n    .dataframe tbody tr th {\n        vertical-align: top;\n    }\n\n    .dataframe thead th {\n        text-align: right;\n    }\n</style>\n<table border=\"1\" class=\"dataframe\">\n  <thead>\n    <tr style=\"text-align: right;\">\n      <th></th>\n      <th>URL</th>\n      <th>URL_LENGTH</th>\n      <th>NUMBER_SPECIAL_CHARACTERS</th>\n      <th>CHARSET</th>\n      <th>SERVER</th>\n      <th>WHOIS_COUNTRY</th>\n      <th>WHOIS_STATEPRO</th>\n      <th>WHOIS_REGDATE</th>\n      <th>WHOIS_UPDATED_DATE</th>\n      <th>TCP_CONVERSATION_EXCHANGE</th>\n      <th>DIST_REMOTE_TCP_PORT</th>\n      <th>REMOTE_IPS</th>\n      <th>APP_BYTES</th>\n      <th>SOURCE_APP_PACKETS</th>\n      <th>REMOTE_APP_PACKETS</th>\n      <th>SOURCE_APP_BYTES</th>\n      <th>REMOTE_APP_BYTES</th>\n      <th>APP_PACKETS</th>\n      <th>DNS_QUERY_TIMES</th>\n      <th>Type</th>\n    </tr>\n  </thead>\n  <tbody>\n    <tr>\n      <th>0</th>\n      <td>M0_109</td>\n      <td>16</td>\n      <td>7</td>\n      <td>iso-8859-1</td>\n      <td>nginx</td>\n      <td>None</td>\n      <td>None</td>\n      <td>10/10/2015 18:21</td>\n      <td>None</td>\n      <td>7</td>\n      <td>0</td>\n      <td>2</td>\n      <td>700</td>\n      <td>9</td>\n      <td>10</td>\n      <td>1153</td>\n      <td>832</td>\n      <td>9</td>\n      <td>2.0</td>\n      <td>1</td>\n    </tr>\n    <tr>\n      <th>1</th>\n      <td>B0_2314</td>\n      <td>16</td>\n      <td>6</td>\n      <td>UTF-8</td>\n      <td>Apache/2.4.10</td>\n      <td>None</td>\n      <td>None</td>\n      <td>None</td>\n      <td>None</td>\n      <td>17</td>\n      <td>7</td>\n      <td>4</td>\n      <td>1230</td>\n      <td>17</td>\n      <td>19</td>\n      <td>1265</td>\n      <td>1230</td>\n      <td>17</td>\n      <td>0.0</td>\n      <td>0</td>\n    </tr>\n    <tr>\n      <th>2</th>\n      <td>B0_911</td>\n      <td>16</td>\n      <td>6</td>\n      <td>us-ascii</td>\n      <td>Microsoft-HTTPAPI/2.0</td>\n      <td>None</td>\n      <td>None</td>\n      <td>None</td>\n      <td>None</td>\n      <td>0</td>\n      <td>0</td>\n      <td>0</td>\n      <td>0</td>\n      <td>0</td>\n      <td>0</td>\n      <td>0</td>\n      <td>0</td>\n      <td>0</td>\n      <td>0.0</td>\n      <td>0</td>\n    </tr>\n    <tr>\n      <th>3</th>\n      <td>B0_113</td>\n      <td>17</td>\n      <td>6</td>\n      <td>ISO-8859-1</td>\n      <td>nginx</td>\n      <td>US</td>\n      <td>AK</td>\n      <td>7/10/1997 4:00</td>\n      <td>12/09/2013 0:45</td>\n      <td>31</td>\n      <td>22</td>\n      <td>3</td>\n      <td>3812</td>\n      <td>39</td>\n      <td>37</td>\n      <td>18784</td>\n      <td>4380</td>\n      <td>39</td>\n      <td>8.0</td>\n      <td>0</td>\n    </tr>\n    <tr>\n      <th>4</th>\n      <td>B0_403</td>\n      <td>17</td>\n      <td>6</td>\n      <td>UTF-8</td>\n      <td>None</td>\n      <td>US</td>\n      <td>TX</td>\n      <td>12/05/1996 0:00</td>\n      <td>11/04/2017 0:00</td>\n      <td>57</td>\n      <td>2</td>\n      <td>5</td>\n      <td>4278</td>\n      <td>61</td>\n      <td>62</td>\n      <td>129889</td>\n      <td>4586</td>\n      <td>61</td>\n      <td>4.0</td>\n      <td>0</td>\n    </tr>\n  </tbody>\n</table>\n</div>"
     },
     "metadata": {},
     "execution_count": 13
    }
   ],
   "source": [
    "websites_clean.head()"
   ]
  },
  {
   "source": [
    "### Las columnas que más información nos ofrecen son los `bytes de la app`, los `bytes fuente` y los `bytes remotos`"
   ],
   "cell_type": "markdown",
   "metadata": {}
  },
  {
   "cell_type": "markdown",
   "metadata": {},
   "source": [
    "#### Next, evaluate if the columns in this dataset are strongly correlated.\n",
    "\n",
    "In the Mushroom supervised learning lab we did recently, we mentioned we are concerned if our dataset has strongly correlated columns because if it is the case we need to choose certain ML algorithms instead of others. We need to evaluate this for our dataset now.\n",
    "\n",
    "Luckily, most of the columns in this dataset are ordinal which makes things a lot easier for us. In the next cells below, evaluate the level of collinearity of the data.\n",
    "\n",
    "We provide some general directions for you to consult in order to complete this step:\n",
    "\n",
    "1. You will create a correlation matrix using the numeric columns in the dataset.\n",
    "\n",
    "1. Create a heatmap using `seaborn` to visualize which columns have high collinearity.\n",
    "\n",
    "1. Comment on which columns you might need to remove due to high collinearity."
   ]
  },
  {
   "cell_type": "code",
   "execution_count": 14,
   "metadata": {},
   "outputs": [],
   "source": [
    "import seaborn as sns\n",
    "from matplotlib import pyplot as plt"
   ]
  },
  {
   "cell_type": "code",
   "execution_count": 15,
   "metadata": {},
   "outputs": [],
   "source": [
    "# Your code here\n",
    "websites_clean_numeric = websites_clean.select_dtypes(include=np.number)"
   ]
  },
  {
   "cell_type": "code",
   "execution_count": 16,
   "metadata": {},
   "outputs": [
    {
     "output_type": "execute_result",
     "data": {
      "text/plain": [
       "      URL_LENGTH  NUMBER_SPECIAL_CHARACTERS  TCP_CONVERSATION_EXCHANGE  \\\n",
       "0             16                          7                          7   \n",
       "1             16                          6                         17   \n",
       "2             16                          6                          0   \n",
       "3             17                          6                         31   \n",
       "4             17                          6                         57   \n",
       "...          ...                        ...                        ...   \n",
       "1776         194                         16                          0   \n",
       "1777         198                         17                          0   \n",
       "1778         201                         34                         83   \n",
       "1779         234                         34                          0   \n",
       "1780         249                         40                         19   \n",
       "\n",
       "      DIST_REMOTE_TCP_PORT  REMOTE_IPS  APP_BYTES  SOURCE_APP_PACKETS  \\\n",
       "0                        0           2        700                   9   \n",
       "1                        7           4       1230                  17   \n",
       "2                        0           0          0                   0   \n",
       "3                       22           3       3812                  39   \n",
       "4                        2           5       4278                  61   \n",
       "...                    ...         ...        ...                 ...   \n",
       "1776                     0           0          0                   0   \n",
       "1777                     0           0          0                   0   \n",
       "1778                     2           6       6631                  87   \n",
       "1779                     0           0          0                   0   \n",
       "1780                     6          11       2314                  25   \n",
       "\n",
       "      REMOTE_APP_PACKETS  SOURCE_APP_BYTES  REMOTE_APP_BYTES  APP_PACKETS  \\\n",
       "0                     10              1153               832            9   \n",
       "1                     19              1265              1230           17   \n",
       "2                      0                 0                 0            0   \n",
       "3                     37             18784              4380           39   \n",
       "4                     62            129889              4586           61   \n",
       "...                  ...               ...               ...          ...   \n",
       "1776                   3               186                 0            0   \n",
       "1777                   2               124                 0            0   \n",
       "1778                  89            132181              6945           87   \n",
       "1779                   0                 0                 0            0   \n",
       "1780                  28              3039              2776           25   \n",
       "\n",
       "      DNS_QUERY_TIMES  Type  \n",
       "0                 2.0     1  \n",
       "1                 0.0     0  \n",
       "2                 0.0     0  \n",
       "3                 8.0     0  \n",
       "4                 4.0     0  \n",
       "...               ...   ...  \n",
       "1776              0.0     1  \n",
       "1777              0.0     1  \n",
       "1778              4.0     0  \n",
       "1779              0.0     0  \n",
       "1780              6.0     0  \n",
       "\n",
       "[1779 rows x 13 columns]"
      ],
      "text/html": "<div>\n<style scoped>\n    .dataframe tbody tr th:only-of-type {\n        vertical-align: middle;\n    }\n\n    .dataframe tbody tr th {\n        vertical-align: top;\n    }\n\n    .dataframe thead th {\n        text-align: right;\n    }\n</style>\n<table border=\"1\" class=\"dataframe\">\n  <thead>\n    <tr style=\"text-align: right;\">\n      <th></th>\n      <th>URL_LENGTH</th>\n      <th>NUMBER_SPECIAL_CHARACTERS</th>\n      <th>TCP_CONVERSATION_EXCHANGE</th>\n      <th>DIST_REMOTE_TCP_PORT</th>\n      <th>REMOTE_IPS</th>\n      <th>APP_BYTES</th>\n      <th>SOURCE_APP_PACKETS</th>\n      <th>REMOTE_APP_PACKETS</th>\n      <th>SOURCE_APP_BYTES</th>\n      <th>REMOTE_APP_BYTES</th>\n      <th>APP_PACKETS</th>\n      <th>DNS_QUERY_TIMES</th>\n      <th>Type</th>\n    </tr>\n  </thead>\n  <tbody>\n    <tr>\n      <th>0</th>\n      <td>16</td>\n      <td>7</td>\n      <td>7</td>\n      <td>0</td>\n      <td>2</td>\n      <td>700</td>\n      <td>9</td>\n      <td>10</td>\n      <td>1153</td>\n      <td>832</td>\n      <td>9</td>\n      <td>2.0</td>\n      <td>1</td>\n    </tr>\n    <tr>\n      <th>1</th>\n      <td>16</td>\n      <td>6</td>\n      <td>17</td>\n      <td>7</td>\n      <td>4</td>\n      <td>1230</td>\n      <td>17</td>\n      <td>19</td>\n      <td>1265</td>\n      <td>1230</td>\n      <td>17</td>\n      <td>0.0</td>\n      <td>0</td>\n    </tr>\n    <tr>\n      <th>2</th>\n      <td>16</td>\n      <td>6</td>\n      <td>0</td>\n      <td>0</td>\n      <td>0</td>\n      <td>0</td>\n      <td>0</td>\n      <td>0</td>\n      <td>0</td>\n      <td>0</td>\n      <td>0</td>\n      <td>0.0</td>\n      <td>0</td>\n    </tr>\n    <tr>\n      <th>3</th>\n      <td>17</td>\n      <td>6</td>\n      <td>31</td>\n      <td>22</td>\n      <td>3</td>\n      <td>3812</td>\n      <td>39</td>\n      <td>37</td>\n      <td>18784</td>\n      <td>4380</td>\n      <td>39</td>\n      <td>8.0</td>\n      <td>0</td>\n    </tr>\n    <tr>\n      <th>4</th>\n      <td>17</td>\n      <td>6</td>\n      <td>57</td>\n      <td>2</td>\n      <td>5</td>\n      <td>4278</td>\n      <td>61</td>\n      <td>62</td>\n      <td>129889</td>\n      <td>4586</td>\n      <td>61</td>\n      <td>4.0</td>\n      <td>0</td>\n    </tr>\n    <tr>\n      <th>...</th>\n      <td>...</td>\n      <td>...</td>\n      <td>...</td>\n      <td>...</td>\n      <td>...</td>\n      <td>...</td>\n      <td>...</td>\n      <td>...</td>\n      <td>...</td>\n      <td>...</td>\n      <td>...</td>\n      <td>...</td>\n      <td>...</td>\n    </tr>\n    <tr>\n      <th>1776</th>\n      <td>194</td>\n      <td>16</td>\n      <td>0</td>\n      <td>0</td>\n      <td>0</td>\n      <td>0</td>\n      <td>0</td>\n      <td>3</td>\n      <td>186</td>\n      <td>0</td>\n      <td>0</td>\n      <td>0.0</td>\n      <td>1</td>\n    </tr>\n    <tr>\n      <th>1777</th>\n      <td>198</td>\n      <td>17</td>\n      <td>0</td>\n      <td>0</td>\n      <td>0</td>\n      <td>0</td>\n      <td>0</td>\n      <td>2</td>\n      <td>124</td>\n      <td>0</td>\n      <td>0</td>\n      <td>0.0</td>\n      <td>1</td>\n    </tr>\n    <tr>\n      <th>1778</th>\n      <td>201</td>\n      <td>34</td>\n      <td>83</td>\n      <td>2</td>\n      <td>6</td>\n      <td>6631</td>\n      <td>87</td>\n      <td>89</td>\n      <td>132181</td>\n      <td>6945</td>\n      <td>87</td>\n      <td>4.0</td>\n      <td>0</td>\n    </tr>\n    <tr>\n      <th>1779</th>\n      <td>234</td>\n      <td>34</td>\n      <td>0</td>\n      <td>0</td>\n      <td>0</td>\n      <td>0</td>\n      <td>0</td>\n      <td>0</td>\n      <td>0</td>\n      <td>0</td>\n      <td>0</td>\n      <td>0.0</td>\n      <td>0</td>\n    </tr>\n    <tr>\n      <th>1780</th>\n      <td>249</td>\n      <td>40</td>\n      <td>19</td>\n      <td>6</td>\n      <td>11</td>\n      <td>2314</td>\n      <td>25</td>\n      <td>28</td>\n      <td>3039</td>\n      <td>2776</td>\n      <td>25</td>\n      <td>6.0</td>\n      <td>0</td>\n    </tr>\n  </tbody>\n</table>\n<p>1779 rows × 13 columns</p>\n</div>"
     },
     "metadata": {},
     "execution_count": 16
    }
   ],
   "source": [
    "# Your comment here\n",
    "websites_clean_numeric"
   ]
  },
  {
   "cell_type": "code",
   "execution_count": 17,
   "metadata": {},
   "outputs": [],
   "source": [
    "cmap = sns.diverging_palette(220, 20, as_cmap=True)"
   ]
  },
  {
   "cell_type": "code",
   "execution_count": 18,
   "metadata": {},
   "outputs": [
    {
     "output_type": "display_data",
     "data": {
      "text/plain": "<Figure size 432x288 with 2 Axes>",
      "image/svg+xml": "<?xml version=\"1.0\" encoding=\"utf-8\" standalone=\"no\"?>\r\n<!DOCTYPE svg PUBLIC \"-//W3C//DTD SVG 1.1//EN\"\r\n  \"http://www.w3.org/Graphics/SVG/1.1/DTD/svg11.dtd\">\r\n<!-- Created with matplotlib (https://matplotlib.org/) -->\r\n<svg height=\"405.964219pt\" version=\"1.1\" viewBox=\"0 0 517.822312 405.964219\" width=\"517.822312pt\" xmlns=\"http://www.w3.org/2000/svg\" xmlns:xlink=\"http://www.w3.org/1999/xlink\">\r\n <defs>\r\n  <style type=\"text/css\">\r\n*{stroke-linecap:butt;stroke-linejoin:round;}\r\n  </style>\r\n </defs>\r\n <g id=\"figure_1\">\r\n  <g id=\"patch_1\">\r\n   <path d=\"M 0 405.964219 \r\nL 517.822312 405.964219 \r\nL 517.822312 0 \r\nL 0 0 \r\nz\r\n\" style=\"fill:none;\"/>\r\n  </g>\r\n  <g id=\"axes_1\">\r\n   <g id=\"patch_2\">\r\n    <path d=\"M 177.525 228.439219 \r\nL 445.365 228.439219 \r\nL 445.365 10.999219 \r\nL 177.525 10.999219 \r\nz\r\n\" style=\"fill:#ffffff;\"/>\r\n   </g>\r\n   <g id=\"QuadMesh_1\">\r\n    <path clip-path=\"url(#pe67749e1cb)\" d=\"M 177.525 10.999219 \r\nL 198.128077 10.999219 \r\nL 198.128077 27.725373 \r\nL 177.525 27.725373 \r\nL 177.525 10.999219 \r\n\" style=\"fill:#c3553a;\"/>\r\n    <path clip-path=\"url(#pe67749e1cb)\" d=\"M 198.128077 10.999219 \r\nL 218.731154 10.999219 \r\nL 218.731154 27.725373 \r\nL 198.128077 27.725373 \r\nL 198.128077 10.999219 \r\n\" style=\"fill:#c66248;\"/>\r\n    <path clip-path=\"url(#pe67749e1cb)\" d=\"M 218.731154 10.999219 \r\nL 239.334231 10.999219 \r\nL 239.334231 27.725373 \r\nL 218.731154 27.725373 \r\nL 218.731154 10.999219 \r\n\" style=\"fill:#eaeef0;\"/>\r\n    <path clip-path=\"url(#pe67749e1cb)\" d=\"M 239.334231 10.999219 \r\nL 259.937308 10.999219 \r\nL 259.937308 27.725373 \r\nL 239.334231 27.725373 \r\nL 239.334231 10.999219 \r\n\" style=\"fill:#e8edef;\"/>\r\n    <path clip-path=\"url(#pe67749e1cb)\" d=\"M 259.937308 10.999219 \r\nL 280.540385 10.999219 \r\nL 280.540385 27.725373 \r\nL 259.937308 27.725373 \r\nL 259.937308 10.999219 \r\n\" style=\"fill:#e8edef;\"/>\r\n    <path clip-path=\"url(#pe67749e1cb)\" d=\"M 280.540385 10.999219 \r\nL 301.143462 10.999219 \r\nL 301.143462 27.725373 \r\nL 280.540385 27.725373 \r\nL 280.540385 10.999219 \r\n\" style=\"fill:#ebeff0;\"/>\r\n    <path clip-path=\"url(#pe67749e1cb)\" d=\"M 301.143462 10.999219 \r\nL 321.746538 10.999219 \r\nL 321.746538 27.725373 \r\nL 301.143462 27.725373 \r\nL 301.143462 10.999219 \r\n\" style=\"fill:#e8edef;\"/>\r\n    <path clip-path=\"url(#pe67749e1cb)\" d=\"M 321.746538 10.999219 \r\nL 342.349615 10.999219 \r\nL 342.349615 27.725373 \r\nL 321.746538 27.725373 \r\nL 321.746538 10.999219 \r\n\" style=\"fill:#eaeef0;\"/>\r\n    <path clip-path=\"url(#pe67749e1cb)\" d=\"M 342.349615 10.999219 \r\nL 362.952692 10.999219 \r\nL 362.952692 27.725373 \r\nL 342.349615 27.725373 \r\nL 342.349615 10.999219 \r\n\" style=\"fill:#eef1f2;\"/>\r\n    <path clip-path=\"url(#pe67749e1cb)\" d=\"M 362.952692 10.999219 \r\nL 383.555769 10.999219 \r\nL 383.555769 27.725373 \r\nL 362.952692 27.725373 \r\nL 362.952692 10.999219 \r\n\" style=\"fill:#ebeff0;\"/>\r\n    <path clip-path=\"url(#pe67749e1cb)\" d=\"M 383.555769 10.999219 \r\nL 404.158846 10.999219 \r\nL 404.158846 27.725373 \r\nL 383.555769 27.725373 \r\nL 383.555769 10.999219 \r\n\" style=\"fill:#e8edef;\"/>\r\n    <path clip-path=\"url(#pe67749e1cb)\" d=\"M 404.158846 10.999219 \r\nL 424.761923 10.999219 \r\nL 424.761923 27.725373 \r\nL 404.158846 27.725373 \r\nL 404.158846 10.999219 \r\n\" style=\"fill:#e4eaed;\"/>\r\n    <path clip-path=\"url(#pe67749e1cb)\" d=\"M 424.761923 10.999219 \r\nL 445.365 10.999219 \r\nL 445.365 27.725373 \r\nL 424.761923 27.725373 \r\nL 424.761923 10.999219 \r\n\" style=\"fill:#ebd8d4;\"/>\r\n    <path clip-path=\"url(#pe67749e1cb)\" d=\"M 177.525 27.725373 \r\nL 198.128077 27.725373 \r\nL 198.128077 44.451526 \r\nL 177.525 44.451526 \r\nL 177.525 27.725373 \r\n\" style=\"fill:#c66248;\"/>\r\n    <path clip-path=\"url(#pe67749e1cb)\" d=\"M 198.128077 27.725373 \r\nL 218.731154 27.725373 \r\nL 218.731154 44.451526 \r\nL 198.128077 44.451526 \r\nL 198.128077 27.725373 \r\n\" style=\"fill:#c3553a;\"/>\r\n    <path clip-path=\"url(#pe67749e1cb)\" d=\"M 218.731154 27.725373 \r\nL 239.334231 27.725373 \r\nL 239.334231 44.451526 \r\nL 218.731154 44.451526 \r\nL 218.731154 27.725373 \r\n\" style=\"fill:#eaeef0;\"/>\r\n    <path clip-path=\"url(#pe67749e1cb)\" d=\"M 239.334231 27.725373 \r\nL 259.937308 27.725373 \r\nL 259.937308 44.451526 \r\nL 239.334231 44.451526 \r\nL 239.334231 27.725373 \r\n\" style=\"fill:#e8edef;\"/>\r\n    <path clip-path=\"url(#pe67749e1cb)\" d=\"M 259.937308 27.725373 \r\nL 280.540385 27.725373 \r\nL 280.540385 44.451526 \r\nL 259.937308 44.451526 \r\nL 259.937308 27.725373 \r\n\" style=\"fill:#e7ecee;\"/>\r\n    <path clip-path=\"url(#pe67749e1cb)\" d=\"M 280.540385 27.725373 \r\nL 301.143462 27.725373 \r\nL 301.143462 44.451526 \r\nL 280.540385 44.451526 \r\nL 280.540385 27.725373 \r\n\" style=\"fill:#ebeff0;\"/>\r\n    <path clip-path=\"url(#pe67749e1cb)\" d=\"M 301.143462 27.725373 \r\nL 321.746538 27.725373 \r\nL 321.746538 44.451526 \r\nL 301.143462 44.451526 \r\nL 301.143462 27.725373 \r\n\" style=\"fill:#e8edef;\"/>\r\n    <path clip-path=\"url(#pe67749e1cb)\" d=\"M 321.746538 27.725373 \r\nL 342.349615 27.725373 \r\nL 342.349615 44.451526 \r\nL 321.746538 44.451526 \r\nL 321.746538 27.725373 \r\n\" style=\"fill:#ebeff0;\"/>\r\n    <path clip-path=\"url(#pe67749e1cb)\" d=\"M 342.349615 27.725373 \r\nL 362.952692 27.725373 \r\nL 362.952692 44.451526 \r\nL 342.349615 44.451526 \r\nL 342.349615 27.725373 \r\n\" style=\"fill:#eef1f2;\"/>\r\n    <path clip-path=\"url(#pe67749e1cb)\" d=\"M 362.952692 27.725373 \r\nL 383.555769 27.725373 \r\nL 383.555769 44.451526 \r\nL 362.952692 44.451526 \r\nL 362.952692 27.725373 \r\n\" style=\"fill:#ebeff0;\"/>\r\n    <path clip-path=\"url(#pe67749e1cb)\" d=\"M 383.555769 27.725373 \r\nL 404.158846 27.725373 \r\nL 404.158846 44.451526 \r\nL 383.555769 44.451526 \r\nL 383.555769 27.725373 \r\n\" style=\"fill:#e8edef;\"/>\r\n    <path clip-path=\"url(#pe67749e1cb)\" d=\"M 404.158846 27.725373 \r\nL 424.761923 27.725373 \r\nL 424.761923 44.451526 \r\nL 404.158846 44.451526 \r\nL 404.158846 27.725373 \r\n\" style=\"fill:#e7ecee;\"/>\r\n    <path clip-path=\"url(#pe67749e1cb)\" d=\"M 424.761923 27.725373 \r\nL 445.365 27.725373 \r\nL 445.365 44.451526 \r\nL 424.761923 44.451526 \r\nL 424.761923 27.725373 \r\n\" style=\"fill:#e5c6be;\"/>\r\n    <path clip-path=\"url(#pe67749e1cb)\" d=\"M 177.525 44.451526 \r\nL 198.128077 44.451526 \r\nL 198.128077 61.17768 \r\nL 177.525 61.17768 \r\nL 177.525 44.451526 \r\n\" style=\"fill:#eaeef0;\"/>\r\n    <path clip-path=\"url(#pe67749e1cb)\" d=\"M 198.128077 44.451526 \r\nL 218.731154 44.451526 \r\nL 218.731154 61.17768 \r\nL 198.128077 61.17768 \r\nL 198.128077 44.451526 \r\n\" style=\"fill:#eaeef0;\"/>\r\n    <path clip-path=\"url(#pe67749e1cb)\" d=\"M 218.731154 44.451526 \r\nL 239.334231 44.451526 \r\nL 239.334231 61.17768 \r\nL 218.731154 61.17768 \r\nL 218.731154 44.451526 \r\n\" style=\"fill:#c3553a;\"/>\r\n    <path clip-path=\"url(#pe67749e1cb)\" d=\"M 239.334231 44.451526 \r\nL 259.937308 44.451526 \r\nL 259.937308 61.17768 \r\nL 239.334231 61.17768 \r\nL 239.334231 44.451526 \r\n\" style=\"fill:#d89a8a;\"/>\r\n    <path clip-path=\"url(#pe67749e1cb)\" d=\"M 259.937308 44.451526 \r\nL 280.540385 44.451526 \r\nL 280.540385 61.17768 \r\nL 259.937308 61.17768 \r\nL 259.937308 44.451526 \r\n\" style=\"fill:#e3beb4;\"/>\r\n    <path clip-path=\"url(#pe67749e1cb)\" d=\"M 280.540385 44.451526 \r\nL 301.143462 44.451526 \r\nL 301.143462 61.17768 \r\nL 280.540385 61.17768 \r\nL 280.540385 44.451526 \r\n\" style=\"fill:#ddaa9d;\"/>\r\n    <path clip-path=\"url(#pe67749e1cb)\" d=\"M 301.143462 44.451526 \r\nL 321.746538 44.451526 \r\nL 321.746538 61.17768 \r\nL 301.143462 61.17768 \r\nL 301.143462 44.451526 \r\n\" style=\"fill:#c3553a;\"/>\r\n    <path clip-path=\"url(#pe67749e1cb)\" d=\"M 321.746538 44.451526 \r\nL 342.349615 44.451526 \r\nL 342.349615 61.17768 \r\nL 321.746538 61.17768 \r\nL 321.746538 44.451526 \r\n\" style=\"fill:#c3573b;\"/>\r\n    <path clip-path=\"url(#pe67749e1cb)\" d=\"M 342.349615 44.451526 \r\nL 362.952692 44.451526 \r\nL 362.952692 61.17768 \r\nL 342.349615 61.17768 \r\nL 342.349615 44.451526 \r\n\" style=\"fill:#c96a52;\"/>\r\n    <path clip-path=\"url(#pe67749e1cb)\" d=\"M 362.952692 44.451526 \r\nL 383.555769 44.451526 \r\nL 383.555769 61.17768 \r\nL 362.952692 61.17768 \r\nL 362.952692 44.451526 \r\n\" style=\"fill:#ddaa9d;\"/>\r\n    <path clip-path=\"url(#pe67749e1cb)\" d=\"M 383.555769 44.451526 \r\nL 404.158846 44.451526 \r\nL 404.158846 61.17768 \r\nL 383.555769 61.17768 \r\nL 383.555769 44.451526 \r\n\" style=\"fill:#c3553a;\"/>\r\n    <path clip-path=\"url(#pe67749e1cb)\" d=\"M 404.158846 44.451526 \r\nL 424.761923 44.451526 \r\nL 424.761923 61.17768 \r\nL 404.158846 61.17768 \r\nL 404.158846 44.451526 \r\n\" style=\"fill:#e2bbb1;\"/>\r\n    <path clip-path=\"url(#pe67749e1cb)\" d=\"M 424.761923 44.451526 \r\nL 445.365 44.451526 \r\nL 445.365 61.17768 \r\nL 424.761923 61.17768 \r\nL 424.761923 44.451526 \r\n\" style=\"fill:#e8edef;\"/>\r\n    <path clip-path=\"url(#pe67749e1cb)\" d=\"M 177.525 61.17768 \r\nL 198.128077 61.17768 \r\nL 198.128077 77.903834 \r\nL 177.525 77.903834 \r\nL 177.525 61.17768 \r\n\" style=\"fill:#e8edef;\"/>\r\n    <path clip-path=\"url(#pe67749e1cb)\" d=\"M 198.128077 61.17768 \r\nL 218.731154 61.17768 \r\nL 218.731154 77.903834 \r\nL 198.128077 77.903834 \r\nL 198.128077 61.17768 \r\n\" style=\"fill:#e8edef;\"/>\r\n    <path clip-path=\"url(#pe67749e1cb)\" d=\"M 218.731154 61.17768 \r\nL 239.334231 61.17768 \r\nL 239.334231 77.903834 \r\nL 218.731154 77.903834 \r\nL 218.731154 61.17768 \r\n\" style=\"fill:#d89a8a;\"/>\r\n    <path clip-path=\"url(#pe67749e1cb)\" d=\"M 239.334231 61.17768 \r\nL 259.937308 61.17768 \r\nL 259.937308 77.903834 \r\nL 239.334231 77.903834 \r\nL 239.334231 61.17768 \r\n\" style=\"fill:#c3553a;\"/>\r\n    <path clip-path=\"url(#pe67749e1cb)\" d=\"M 259.937308 61.17768 \r\nL 280.540385 61.17768 \r\nL 280.540385 77.903834 \r\nL 259.937308 77.903834 \r\nL 259.937308 61.17768 \r\n\" style=\"fill:#e9d1cb;\"/>\r\n    <path clip-path=\"url(#pe67749e1cb)\" d=\"M 280.540385 61.17768 \r\nL 301.143462 61.17768 \r\nL 301.143462 77.903834 \r\nL 280.540385 77.903834 \r\nL 280.540385 61.17768 \r\n\" style=\"fill:#cd7862;\"/>\r\n    <path clip-path=\"url(#pe67749e1cb)\" d=\"M 301.143462 61.17768 \r\nL 321.746538 61.17768 \r\nL 321.746538 77.903834 \r\nL 301.143462 77.903834 \r\nL 301.143462 61.17768 \r\n\" style=\"fill:#d89a8a;\"/>\r\n    <path clip-path=\"url(#pe67749e1cb)\" d=\"M 321.746538 61.17768 \r\nL 342.349615 61.17768 \r\nL 342.349615 77.903834 \r\nL 321.746538 77.903834 \r\nL 321.746538 61.17768 \r\n\" style=\"fill:#d69584;\"/>\r\n    <path clip-path=\"url(#pe67749e1cb)\" d=\"M 342.349615 61.17768 \r\nL 362.952692 61.17768 \r\nL 362.952692 77.903834 \r\nL 342.349615 77.903834 \r\nL 342.349615 61.17768 \r\n\" style=\"fill:#e3c0b7;\"/>\r\n    <path clip-path=\"url(#pe67749e1cb)\" d=\"M 362.952692 61.17768 \r\nL 383.555769 61.17768 \r\nL 383.555769 77.903834 \r\nL 362.952692 77.903834 \r\nL 362.952692 61.17768 \r\n\" style=\"fill:#cd7862;\"/>\r\n    <path clip-path=\"url(#pe67749e1cb)\" d=\"M 383.555769 61.17768 \r\nL 404.158846 61.17768 \r\nL 404.158846 77.903834 \r\nL 383.555769 77.903834 \r\nL 383.555769 61.17768 \r\n\" style=\"fill:#d89a8a;\"/>\r\n    <path clip-path=\"url(#pe67749e1cb)\" d=\"M 404.158846 61.17768 \r\nL 424.761923 61.17768 \r\nL 424.761923 77.903834 \r\nL 404.158846 77.903834 \r\nL 404.158846 61.17768 \r\n\" style=\"fill:#e6c9c1;\"/>\r\n    <path clip-path=\"url(#pe67749e1cb)\" d=\"M 424.761923 61.17768 \r\nL 445.365 61.17768 \r\nL 445.365 77.903834 \r\nL 424.761923 77.903834 \r\nL 424.761923 61.17768 \r\n\" style=\"fill:#e1e9eb;\"/>\r\n    <path clip-path=\"url(#pe67749e1cb)\" d=\"M 177.525 77.903834 \r\nL 198.128077 77.903834 \r\nL 198.128077 94.629988 \r\nL 177.525 94.629988 \r\nL 177.525 77.903834 \r\n\" style=\"fill:#e8edef;\"/>\r\n    <path clip-path=\"url(#pe67749e1cb)\" d=\"M 198.128077 77.903834 \r\nL 218.731154 77.903834 \r\nL 218.731154 94.629988 \r\nL 198.128077 94.629988 \r\nL 198.128077 77.903834 \r\n\" style=\"fill:#e7ecee;\"/>\r\n    <path clip-path=\"url(#pe67749e1cb)\" d=\"M 218.731154 77.903834 \r\nL 239.334231 77.903834 \r\nL 239.334231 94.629988 \r\nL 218.731154 94.629988 \r\nL 218.731154 77.903834 \r\n\" style=\"fill:#e3beb4;\"/>\r\n    <path clip-path=\"url(#pe67749e1cb)\" d=\"M 239.334231 77.903834 \r\nL 259.937308 77.903834 \r\nL 259.937308 94.629988 \r\nL 239.334231 94.629988 \r\nL 239.334231 77.903834 \r\n\" style=\"fill:#e9d1cb;\"/>\r\n    <path clip-path=\"url(#pe67749e1cb)\" d=\"M 259.937308 77.903834 \r\nL 280.540385 77.903834 \r\nL 280.540385 94.629988 \r\nL 259.937308 94.629988 \r\nL 259.937308 77.903834 \r\n\" style=\"fill:#c3553a;\"/>\r\n    <path clip-path=\"url(#pe67749e1cb)\" d=\"M 280.540385 77.903834 \r\nL 301.143462 77.903834 \r\nL 301.143462 94.629988 \r\nL 280.540385 94.629988 \r\nL 280.540385 77.903834 \r\n\" style=\"fill:#f2eeee;\"/>\r\n    <path clip-path=\"url(#pe67749e1cb)\" d=\"M 301.143462 77.903834 \r\nL 321.746538 77.903834 \r\nL 321.746538 94.629988 \r\nL 301.143462 94.629988 \r\nL 301.143462 77.903834 \r\n\" style=\"fill:#e1b9af;\"/>\r\n    <path clip-path=\"url(#pe67749e1cb)\" d=\"M 321.746538 77.903834 \r\nL 342.349615 77.903834 \r\nL 342.349615 94.629988 \r\nL 321.746538 94.629988 \r\nL 321.746538 77.903834 \r\n\" style=\"fill:#e4c1b9;\"/>\r\n    <path clip-path=\"url(#pe67749e1cb)\" d=\"M 342.349615 77.903834 \r\nL 362.952692 77.903834 \r\nL 362.952692 94.629988 \r\nL 342.349615 94.629988 \r\nL 342.349615 77.903834 \r\n\" style=\"fill:#ebd7d2;\"/>\r\n    <path clip-path=\"url(#pe67749e1cb)\" d=\"M 362.952692 77.903834 \r\nL 383.555769 77.903834 \r\nL 383.555769 94.629988 \r\nL 362.952692 94.629988 \r\nL 362.952692 77.903834 \r\n\" style=\"fill:#f1edec;\"/>\r\n    <path clip-path=\"url(#pe67749e1cb)\" d=\"M 383.555769 77.903834 \r\nL 404.158846 77.903834 \r\nL 404.158846 94.629988 \r\nL 383.555769 94.629988 \r\nL 383.555769 77.903834 \r\n\" style=\"fill:#e1b9af;\"/>\r\n    <path clip-path=\"url(#pe67749e1cb)\" d=\"M 404.158846 77.903834 \r\nL 424.761923 77.903834 \r\nL 424.761923 94.629988 \r\nL 404.158846 94.629988 \r\nL 404.158846 77.903834 \r\n\" style=\"fill:#d89b8b;\"/>\r\n    <path clip-path=\"url(#pe67749e1cb)\" d=\"M 424.761923 77.903834 \r\nL 445.365 77.903834 \r\nL 445.365 94.629988 \r\nL 424.761923 94.629988 \r\nL 424.761923 77.903834 \r\n\" style=\"fill:#e1e9eb;\"/>\r\n    <path clip-path=\"url(#pe67749e1cb)\" d=\"M 177.525 94.629988 \r\nL 198.128077 94.629988 \r\nL 198.128077 111.356142 \r\nL 177.525 111.356142 \r\nL 177.525 94.629988 \r\n\" style=\"fill:#ebeff0;\"/>\r\n    <path clip-path=\"url(#pe67749e1cb)\" d=\"M 198.128077 94.629988 \r\nL 218.731154 94.629988 \r\nL 218.731154 111.356142 \r\nL 198.128077 111.356142 \r\nL 198.128077 94.629988 \r\n\" style=\"fill:#ebeff0;\"/>\r\n    <path clip-path=\"url(#pe67749e1cb)\" d=\"M 218.731154 94.629988 \r\nL 239.334231 94.629988 \r\nL 239.334231 111.356142 \r\nL 218.731154 111.356142 \r\nL 218.731154 94.629988 \r\n\" style=\"fill:#ddaa9d;\"/>\r\n    <path clip-path=\"url(#pe67749e1cb)\" d=\"M 239.334231 94.629988 \r\nL 259.937308 94.629988 \r\nL 259.937308 111.356142 \r\nL 239.334231 111.356142 \r\nL 239.334231 94.629988 \r\n\" style=\"fill:#cd7862;\"/>\r\n    <path clip-path=\"url(#pe67749e1cb)\" d=\"M 259.937308 94.629988 \r\nL 280.540385 94.629988 \r\nL 280.540385 111.356142 \r\nL 259.937308 111.356142 \r\nL 259.937308 94.629988 \r\n\" style=\"fill:#f2eeee;\"/>\r\n    <path clip-path=\"url(#pe67749e1cb)\" d=\"M 280.540385 94.629988 \r\nL 301.143462 94.629988 \r\nL 301.143462 111.356142 \r\nL 280.540385 111.356142 \r\nL 280.540385 94.629988 \r\n\" style=\"fill:#c3553a;\"/>\r\n    <path clip-path=\"url(#pe67749e1cb)\" d=\"M 301.143462 94.629988 \r\nL 321.746538 94.629988 \r\nL 321.746538 111.356142 \r\nL 301.143462 111.356142 \r\nL 301.143462 94.629988 \r\n\" style=\"fill:#ddab9f;\"/>\r\n    <path clip-path=\"url(#pe67749e1cb)\" d=\"M 321.746538 94.629988 \r\nL 342.349615 94.629988 \r\nL 342.349615 111.356142 \r\nL 321.746538 111.356142 \r\nL 321.746538 94.629988 \r\n\" style=\"fill:#dca89a;\"/>\r\n    <path clip-path=\"url(#pe67749e1cb)\" d=\"M 342.349615 94.629988 \r\nL 362.952692 94.629988 \r\nL 362.952692 111.356142 \r\nL 342.349615 111.356142 \r\nL 342.349615 94.629988 \r\n\" style=\"fill:#efe6e4;\"/>\r\n    <path clip-path=\"url(#pe67749e1cb)\" d=\"M 362.952692 94.629988 \r\nL 383.555769 94.629988 \r\nL 383.555769 111.356142 \r\nL 362.952692 111.356142 \r\nL 362.952692 94.629988 \r\n\" style=\"fill:#c3553a;\"/>\r\n    <path clip-path=\"url(#pe67749e1cb)\" d=\"M 383.555769 94.629988 \r\nL 404.158846 94.629988 \r\nL 404.158846 111.356142 \r\nL 383.555769 111.356142 \r\nL 383.555769 94.629988 \r\n\" style=\"fill:#ddab9f;\"/>\r\n    <path clip-path=\"url(#pe67749e1cb)\" d=\"M 404.158846 94.629988 \r\nL 424.761923 94.629988 \r\nL 424.761923 111.356142 \r\nL 404.158846 111.356142 \r\nL 404.158846 94.629988 \r\n\" style=\"fill:#f2f0ef;\"/>\r\n    <path clip-path=\"url(#pe67749e1cb)\" d=\"M 424.761923 94.629988 \r\nL 445.365 94.629988 \r\nL 445.365 111.356142 \r\nL 424.761923 111.356142 \r\nL 424.761923 94.629988 \r\n\" style=\"fill:#eef1f2;\"/>\r\n    <path clip-path=\"url(#pe67749e1cb)\" d=\"M 177.525 111.356142 \r\nL 198.128077 111.356142 \r\nL 198.128077 128.082296 \r\nL 177.525 128.082296 \r\nL 177.525 111.356142 \r\n\" style=\"fill:#e8edef;\"/>\r\n    <path clip-path=\"url(#pe67749e1cb)\" d=\"M 198.128077 111.356142 \r\nL 218.731154 111.356142 \r\nL 218.731154 128.082296 \r\nL 198.128077 128.082296 \r\nL 198.128077 111.356142 \r\n\" style=\"fill:#e8edef;\"/>\r\n    <path clip-path=\"url(#pe67749e1cb)\" d=\"M 218.731154 111.356142 \r\nL 239.334231 111.356142 \r\nL 239.334231 128.082296 \r\nL 218.731154 128.082296 \r\nL 218.731154 111.356142 \r\n\" style=\"fill:#c3553a;\"/>\r\n    <path clip-path=\"url(#pe67749e1cb)\" d=\"M 239.334231 111.356142 \r\nL 259.937308 111.356142 \r\nL 259.937308 128.082296 \r\nL 239.334231 128.082296 \r\nL 239.334231 111.356142 \r\n\" style=\"fill:#d89a8a;\"/>\r\n    <path clip-path=\"url(#pe67749e1cb)\" d=\"M 259.937308 111.356142 \r\nL 280.540385 111.356142 \r\nL 280.540385 128.082296 \r\nL 259.937308 128.082296 \r\nL 259.937308 111.356142 \r\n\" style=\"fill:#e1b9af;\"/>\r\n    <path clip-path=\"url(#pe67749e1cb)\" d=\"M 280.540385 111.356142 \r\nL 301.143462 111.356142 \r\nL 301.143462 128.082296 \r\nL 280.540385 128.082296 \r\nL 280.540385 111.356142 \r\n\" style=\"fill:#ddab9f;\"/>\r\n    <path clip-path=\"url(#pe67749e1cb)\" d=\"M 301.143462 111.356142 \r\nL 321.746538 111.356142 \r\nL 321.746538 128.082296 \r\nL 301.143462 128.082296 \r\nL 301.143462 111.356142 \r\n\" style=\"fill:#c3553a;\"/>\r\n    <path clip-path=\"url(#pe67749e1cb)\" d=\"M 321.746538 111.356142 \r\nL 342.349615 111.356142 \r\nL 342.349615 128.082296 \r\nL 321.746538 128.082296 \r\nL 321.746538 111.356142 \r\n\" style=\"fill:#c3573b;\"/>\r\n    <path clip-path=\"url(#pe67749e1cb)\" d=\"M 342.349615 111.356142 \r\nL 362.952692 111.356142 \r\nL 362.952692 128.082296 \r\nL 342.349615 128.082296 \r\nL 342.349615 111.356142 \r\n\" style=\"fill:#c96b53;\"/>\r\n    <path clip-path=\"url(#pe67749e1cb)\" d=\"M 362.952692 111.356142 \r\nL 383.555769 111.356142 \r\nL 383.555769 128.082296 \r\nL 362.952692 128.082296 \r\nL 362.952692 111.356142 \r\n\" style=\"fill:#ddab9f;\"/>\r\n    <path clip-path=\"url(#pe67749e1cb)\" d=\"M 383.555769 111.356142 \r\nL 404.158846 111.356142 \r\nL 404.158846 128.082296 \r\nL 383.555769 128.082296 \r\nL 383.555769 111.356142 \r\n\" style=\"fill:#c3553a;\"/>\r\n    <path clip-path=\"url(#pe67749e1cb)\" d=\"M 404.158846 111.356142 \r\nL 424.761923 111.356142 \r\nL 424.761923 128.082296 \r\nL 404.158846 128.082296 \r\nL 404.158846 111.356142 \r\n\" style=\"fill:#dfb1a6;\"/>\r\n    <path clip-path=\"url(#pe67749e1cb)\" d=\"M 424.761923 111.356142 \r\nL 445.365 111.356142 \r\nL 445.365 128.082296 \r\nL 424.761923 128.082296 \r\nL 424.761923 111.356142 \r\n\" style=\"fill:#eaeef0;\"/>\r\n    <path clip-path=\"url(#pe67749e1cb)\" d=\"M 177.525 128.082296 \r\nL 198.128077 128.082296 \r\nL 198.128077 144.80845 \r\nL 177.525 144.80845 \r\nL 177.525 128.082296 \r\n\" style=\"fill:#eaeef0;\"/>\r\n    <path clip-path=\"url(#pe67749e1cb)\" d=\"M 198.128077 128.082296 \r\nL 218.731154 128.082296 \r\nL 218.731154 144.80845 \r\nL 198.128077 144.80845 \r\nL 198.128077 128.082296 \r\n\" style=\"fill:#ebeff0;\"/>\r\n    <path clip-path=\"url(#pe67749e1cb)\" d=\"M 218.731154 128.082296 \r\nL 239.334231 128.082296 \r\nL 239.334231 144.80845 \r\nL 218.731154 144.80845 \r\nL 218.731154 128.082296 \r\n\" style=\"fill:#c3573b;\"/>\r\n    <path clip-path=\"url(#pe67749e1cb)\" d=\"M 239.334231 128.082296 \r\nL 259.937308 128.082296 \r\nL 259.937308 144.80845 \r\nL 239.334231 144.80845 \r\nL 239.334231 128.082296 \r\n\" style=\"fill:#d69584;\"/>\r\n    <path clip-path=\"url(#pe67749e1cb)\" d=\"M 259.937308 128.082296 \r\nL 280.540385 128.082296 \r\nL 280.540385 144.80845 \r\nL 259.937308 144.80845 \r\nL 259.937308 128.082296 \r\n\" style=\"fill:#e4c1b9;\"/>\r\n    <path clip-path=\"url(#pe67749e1cb)\" d=\"M 280.540385 128.082296 \r\nL 301.143462 128.082296 \r\nL 301.143462 144.80845 \r\nL 280.540385 144.80845 \r\nL 280.540385 128.082296 \r\n\" style=\"fill:#dca89a;\"/>\r\n    <path clip-path=\"url(#pe67749e1cb)\" d=\"M 301.143462 128.082296 \r\nL 321.746538 128.082296 \r\nL 321.746538 144.80845 \r\nL 301.143462 144.80845 \r\nL 301.143462 128.082296 \r\n\" style=\"fill:#c3573b;\"/>\r\n    <path clip-path=\"url(#pe67749e1cb)\" d=\"M 321.746538 128.082296 \r\nL 342.349615 128.082296 \r\nL 342.349615 144.80845 \r\nL 321.746538 144.80845 \r\nL 321.746538 128.082296 \r\n\" style=\"fill:#c3553a;\"/>\r\n    <path clip-path=\"url(#pe67749e1cb)\" d=\"M 342.349615 128.082296 \r\nL 362.952692 128.082296 \r\nL 362.952692 144.80845 \r\nL 342.349615 144.80845 \r\nL 342.349615 128.082296 \r\n\" style=\"fill:#c8684f;\"/>\r\n    <path clip-path=\"url(#pe67749e1cb)\" d=\"M 362.952692 128.082296 \r\nL 383.555769 128.082296 \r\nL 383.555769 144.80845 \r\nL 362.952692 144.80845 \r\nL 362.952692 128.082296 \r\n\" style=\"fill:#dca89a;\"/>\r\n    <path clip-path=\"url(#pe67749e1cb)\" d=\"M 383.555769 128.082296 \r\nL 404.158846 128.082296 \r\nL 404.158846 144.80845 \r\nL 383.555769 144.80845 \r\nL 383.555769 128.082296 \r\n\" style=\"fill:#c3573b;\"/>\r\n    <path clip-path=\"url(#pe67749e1cb)\" d=\"M 404.158846 128.082296 \r\nL 424.761923 128.082296 \r\nL 424.761923 144.80845 \r\nL 404.158846 144.80845 \r\nL 404.158846 128.082296 \r\n\" style=\"fill:#e2bab0;\"/>\r\n    <path clip-path=\"url(#pe67749e1cb)\" d=\"M 424.761923 128.082296 \r\nL 445.365 128.082296 \r\nL 445.365 144.80845 \r\nL 424.761923 144.80845 \r\nL 424.761923 128.082296 \r\n\" style=\"fill:#eaeef0;\"/>\r\n    <path clip-path=\"url(#pe67749e1cb)\" d=\"M 177.525 144.80845 \r\nL 198.128077 144.80845 \r\nL 198.128077 161.534603 \r\nL 177.525 161.534603 \r\nL 177.525 144.80845 \r\n\" style=\"fill:#eef1f2;\"/>\r\n    <path clip-path=\"url(#pe67749e1cb)\" d=\"M 198.128077 144.80845 \r\nL 218.731154 144.80845 \r\nL 218.731154 161.534603 \r\nL 198.128077 161.534603 \r\nL 198.128077 144.80845 \r\n\" style=\"fill:#eef1f2;\"/>\r\n    <path clip-path=\"url(#pe67749e1cb)\" d=\"M 218.731154 144.80845 \r\nL 239.334231 144.80845 \r\nL 239.334231 161.534603 \r\nL 218.731154 161.534603 \r\nL 218.731154 144.80845 \r\n\" style=\"fill:#c96a52;\"/>\r\n    <path clip-path=\"url(#pe67749e1cb)\" d=\"M 239.334231 144.80845 \r\nL 259.937308 144.80845 \r\nL 259.937308 161.534603 \r\nL 239.334231 161.534603 \r\nL 239.334231 144.80845 \r\n\" style=\"fill:#e3c0b7;\"/>\r\n    <path clip-path=\"url(#pe67749e1cb)\" d=\"M 259.937308 144.80845 \r\nL 280.540385 144.80845 \r\nL 280.540385 161.534603 \r\nL 259.937308 161.534603 \r\nL 259.937308 144.80845 \r\n\" style=\"fill:#ebd7d2;\"/>\r\n    <path clip-path=\"url(#pe67749e1cb)\" d=\"M 280.540385 144.80845 \r\nL 301.143462 144.80845 \r\nL 301.143462 161.534603 \r\nL 280.540385 161.534603 \r\nL 280.540385 144.80845 \r\n\" style=\"fill:#efe6e4;\"/>\r\n    <path clip-path=\"url(#pe67749e1cb)\" d=\"M 301.143462 144.80845 \r\nL 321.746538 144.80845 \r\nL 321.746538 161.534603 \r\nL 301.143462 161.534603 \r\nL 301.143462 144.80845 \r\n\" style=\"fill:#c96b53;\"/>\r\n    <path clip-path=\"url(#pe67749e1cb)\" d=\"M 321.746538 144.80845 \r\nL 342.349615 144.80845 \r\nL 342.349615 161.534603 \r\nL 321.746538 161.534603 \r\nL 321.746538 144.80845 \r\n\" style=\"fill:#c8684f;\"/>\r\n    <path clip-path=\"url(#pe67749e1cb)\" d=\"M 342.349615 144.80845 \r\nL 362.952692 144.80845 \r\nL 362.952692 161.534603 \r\nL 342.349615 161.534603 \r\nL 342.349615 144.80845 \r\n\" style=\"fill:#c3553a;\"/>\r\n    <path clip-path=\"url(#pe67749e1cb)\" d=\"M 362.952692 144.80845 \r\nL 383.555769 144.80845 \r\nL 383.555769 161.534603 \r\nL 362.952692 161.534603 \r\nL 362.952692 144.80845 \r\n\" style=\"fill:#efe6e4;\"/>\r\n    <path clip-path=\"url(#pe67749e1cb)\" d=\"M 383.555769 144.80845 \r\nL 404.158846 144.80845 \r\nL 404.158846 161.534603 \r\nL 383.555769 161.534603 \r\nL 383.555769 144.80845 \r\n\" style=\"fill:#c96b53;\"/>\r\n    <path clip-path=\"url(#pe67749e1cb)\" d=\"M 404.158846 144.80845 \r\nL 424.761923 144.80845 \r\nL 424.761923 161.534603 \r\nL 404.158846 161.534603 \r\nL 404.158846 144.80845 \r\n\" style=\"fill:#e8d0ca;\"/>\r\n    <path clip-path=\"url(#pe67749e1cb)\" d=\"M 424.761923 144.80845 \r\nL 445.365 144.80845 \r\nL 445.365 161.534603 \r\nL 424.761923 161.534603 \r\nL 424.761923 144.80845 \r\n\" style=\"fill:#e8edef;\"/>\r\n    <path clip-path=\"url(#pe67749e1cb)\" d=\"M 177.525 161.534603 \r\nL 198.128077 161.534603 \r\nL 198.128077 178.260757 \r\nL 177.525 178.260757 \r\nL 177.525 161.534603 \r\n\" style=\"fill:#ebeff0;\"/>\r\n    <path clip-path=\"url(#pe67749e1cb)\" d=\"M 198.128077 161.534603 \r\nL 218.731154 161.534603 \r\nL 218.731154 178.260757 \r\nL 198.128077 178.260757 \r\nL 198.128077 161.534603 \r\n\" style=\"fill:#ebeff0;\"/>\r\n    <path clip-path=\"url(#pe67749e1cb)\" d=\"M 218.731154 161.534603 \r\nL 239.334231 161.534603 \r\nL 239.334231 178.260757 \r\nL 218.731154 178.260757 \r\nL 218.731154 161.534603 \r\n\" style=\"fill:#ddaa9d;\"/>\r\n    <path clip-path=\"url(#pe67749e1cb)\" d=\"M 239.334231 161.534603 \r\nL 259.937308 161.534603 \r\nL 259.937308 178.260757 \r\nL 239.334231 178.260757 \r\nL 239.334231 161.534603 \r\n\" style=\"fill:#cd7862;\"/>\r\n    <path clip-path=\"url(#pe67749e1cb)\" d=\"M 259.937308 161.534603 \r\nL 280.540385 161.534603 \r\nL 280.540385 178.260757 \r\nL 259.937308 178.260757 \r\nL 259.937308 161.534603 \r\n\" style=\"fill:#f1edec;\"/>\r\n    <path clip-path=\"url(#pe67749e1cb)\" d=\"M 280.540385 161.534603 \r\nL 301.143462 161.534603 \r\nL 301.143462 178.260757 \r\nL 280.540385 178.260757 \r\nL 280.540385 161.534603 \r\n\" style=\"fill:#c3553a;\"/>\r\n    <path clip-path=\"url(#pe67749e1cb)\" d=\"M 301.143462 161.534603 \r\nL 321.746538 161.534603 \r\nL 321.746538 178.260757 \r\nL 301.143462 178.260757 \r\nL 301.143462 161.534603 \r\n\" style=\"fill:#ddab9f;\"/>\r\n    <path clip-path=\"url(#pe67749e1cb)\" d=\"M 321.746538 161.534603 \r\nL 342.349615 161.534603 \r\nL 342.349615 178.260757 \r\nL 321.746538 178.260757 \r\nL 321.746538 161.534603 \r\n\" style=\"fill:#dca89a;\"/>\r\n    <path clip-path=\"url(#pe67749e1cb)\" d=\"M 342.349615 161.534603 \r\nL 362.952692 161.534603 \r\nL 362.952692 178.260757 \r\nL 342.349615 178.260757 \r\nL 342.349615 161.534603 \r\n\" style=\"fill:#efe6e4;\"/>\r\n    <path clip-path=\"url(#pe67749e1cb)\" d=\"M 362.952692 161.534603 \r\nL 383.555769 161.534603 \r\nL 383.555769 178.260757 \r\nL 362.952692 178.260757 \r\nL 362.952692 161.534603 \r\n\" style=\"fill:#c3553a;\"/>\r\n    <path clip-path=\"url(#pe67749e1cb)\" d=\"M 383.555769 161.534603 \r\nL 404.158846 161.534603 \r\nL 404.158846 178.260757 \r\nL 383.555769 178.260757 \r\nL 383.555769 161.534603 \r\n\" style=\"fill:#ddab9f;\"/>\r\n    <path clip-path=\"url(#pe67749e1cb)\" d=\"M 404.158846 161.534603 \r\nL 424.761923 161.534603 \r\nL 424.761923 178.260757 \r\nL 404.158846 178.260757 \r\nL 404.158846 161.534603 \r\n\" style=\"fill:#f2eeee;\"/>\r\n    <path clip-path=\"url(#pe67749e1cb)\" d=\"M 424.761923 161.534603 \r\nL 445.365 161.534603 \r\nL 445.365 178.260757 \r\nL 424.761923 178.260757 \r\nL 424.761923 161.534603 \r\n\" style=\"fill:#eef1f2;\"/>\r\n    <path clip-path=\"url(#pe67749e1cb)\" d=\"M 177.525 178.260757 \r\nL 198.128077 178.260757 \r\nL 198.128077 194.986911 \r\nL 177.525 194.986911 \r\nL 177.525 178.260757 \r\n\" style=\"fill:#e8edef;\"/>\r\n    <path clip-path=\"url(#pe67749e1cb)\" d=\"M 198.128077 178.260757 \r\nL 218.731154 178.260757 \r\nL 218.731154 194.986911 \r\nL 198.128077 194.986911 \r\nL 198.128077 178.260757 \r\n\" style=\"fill:#e8edef;\"/>\r\n    <path clip-path=\"url(#pe67749e1cb)\" d=\"M 218.731154 178.260757 \r\nL 239.334231 178.260757 \r\nL 239.334231 194.986911 \r\nL 218.731154 194.986911 \r\nL 218.731154 178.260757 \r\n\" style=\"fill:#c3553a;\"/>\r\n    <path clip-path=\"url(#pe67749e1cb)\" d=\"M 239.334231 178.260757 \r\nL 259.937308 178.260757 \r\nL 259.937308 194.986911 \r\nL 239.334231 194.986911 \r\nL 239.334231 178.260757 \r\n\" style=\"fill:#d89a8a;\"/>\r\n    <path clip-path=\"url(#pe67749e1cb)\" d=\"M 259.937308 178.260757 \r\nL 280.540385 178.260757 \r\nL 280.540385 194.986911 \r\nL 259.937308 194.986911 \r\nL 259.937308 178.260757 \r\n\" style=\"fill:#e1b9af;\"/>\r\n    <path clip-path=\"url(#pe67749e1cb)\" d=\"M 280.540385 178.260757 \r\nL 301.143462 178.260757 \r\nL 301.143462 194.986911 \r\nL 280.540385 194.986911 \r\nL 280.540385 178.260757 \r\n\" style=\"fill:#ddab9f;\"/>\r\n    <path clip-path=\"url(#pe67749e1cb)\" d=\"M 301.143462 178.260757 \r\nL 321.746538 178.260757 \r\nL 321.746538 194.986911 \r\nL 301.143462 194.986911 \r\nL 301.143462 178.260757 \r\n\" style=\"fill:#c3553a;\"/>\r\n    <path clip-path=\"url(#pe67749e1cb)\" d=\"M 321.746538 178.260757 \r\nL 342.349615 178.260757 \r\nL 342.349615 194.986911 \r\nL 321.746538 194.986911 \r\nL 321.746538 178.260757 \r\n\" style=\"fill:#c3573b;\"/>\r\n    <path clip-path=\"url(#pe67749e1cb)\" d=\"M 342.349615 178.260757 \r\nL 362.952692 178.260757 \r\nL 362.952692 194.986911 \r\nL 342.349615 194.986911 \r\nL 342.349615 178.260757 \r\n\" style=\"fill:#c96b53;\"/>\r\n    <path clip-path=\"url(#pe67749e1cb)\" d=\"M 362.952692 178.260757 \r\nL 383.555769 178.260757 \r\nL 383.555769 194.986911 \r\nL 362.952692 194.986911 \r\nL 362.952692 178.260757 \r\n\" style=\"fill:#ddab9f;\"/>\r\n    <path clip-path=\"url(#pe67749e1cb)\" d=\"M 383.555769 178.260757 \r\nL 404.158846 178.260757 \r\nL 404.158846 194.986911 \r\nL 383.555769 194.986911 \r\nL 383.555769 178.260757 \r\n\" style=\"fill:#c3553a;\"/>\r\n    <path clip-path=\"url(#pe67749e1cb)\" d=\"M 404.158846 178.260757 \r\nL 424.761923 178.260757 \r\nL 424.761923 194.986911 \r\nL 404.158846 194.986911 \r\nL 404.158846 178.260757 \r\n\" style=\"fill:#dfb1a6;\"/>\r\n    <path clip-path=\"url(#pe67749e1cb)\" d=\"M 424.761923 178.260757 \r\nL 445.365 178.260757 \r\nL 445.365 194.986911 \r\nL 424.761923 194.986911 \r\nL 424.761923 178.260757 \r\n\" style=\"fill:#eaeef0;\"/>\r\n    <path clip-path=\"url(#pe67749e1cb)\" d=\"M 177.525 194.986911 \r\nL 198.128077 194.986911 \r\nL 198.128077 211.713065 \r\nL 177.525 211.713065 \r\nL 177.525 194.986911 \r\n\" style=\"fill:#e4eaed;\"/>\r\n    <path clip-path=\"url(#pe67749e1cb)\" d=\"M 198.128077 194.986911 \r\nL 218.731154 194.986911 \r\nL 218.731154 211.713065 \r\nL 198.128077 211.713065 \r\nL 198.128077 194.986911 \r\n\" style=\"fill:#e7ecee;\"/>\r\n    <path clip-path=\"url(#pe67749e1cb)\" d=\"M 218.731154 194.986911 \r\nL 239.334231 194.986911 \r\nL 239.334231 211.713065 \r\nL 218.731154 211.713065 \r\nL 218.731154 194.986911 \r\n\" style=\"fill:#e2bbb1;\"/>\r\n    <path clip-path=\"url(#pe67749e1cb)\" d=\"M 239.334231 194.986911 \r\nL 259.937308 194.986911 \r\nL 259.937308 211.713065 \r\nL 239.334231 211.713065 \r\nL 239.334231 194.986911 \r\n\" style=\"fill:#e6c9c1;\"/>\r\n    <path clip-path=\"url(#pe67749e1cb)\" d=\"M 259.937308 194.986911 \r\nL 280.540385 194.986911 \r\nL 280.540385 211.713065 \r\nL 259.937308 211.713065 \r\nL 259.937308 194.986911 \r\n\" style=\"fill:#d89b8b;\"/>\r\n    <path clip-path=\"url(#pe67749e1cb)\" d=\"M 280.540385 194.986911 \r\nL 301.143462 194.986911 \r\nL 301.143462 211.713065 \r\nL 280.540385 211.713065 \r\nL 280.540385 194.986911 \r\n\" style=\"fill:#f2f0ef;\"/>\r\n    <path clip-path=\"url(#pe67749e1cb)\" d=\"M 301.143462 194.986911 \r\nL 321.746538 194.986911 \r\nL 321.746538 211.713065 \r\nL 301.143462 211.713065 \r\nL 301.143462 194.986911 \r\n\" style=\"fill:#dfb1a6;\"/>\r\n    <path clip-path=\"url(#pe67749e1cb)\" d=\"M 321.746538 194.986911 \r\nL 342.349615 194.986911 \r\nL 342.349615 211.713065 \r\nL 321.746538 211.713065 \r\nL 321.746538 194.986911 \r\n\" style=\"fill:#e2bab0;\"/>\r\n    <path clip-path=\"url(#pe67749e1cb)\" d=\"M 342.349615 194.986911 \r\nL 362.952692 194.986911 \r\nL 362.952692 211.713065 \r\nL 342.349615 211.713065 \r\nL 342.349615 194.986911 \r\n\" style=\"fill:#e8d0ca;\"/>\r\n    <path clip-path=\"url(#pe67749e1cb)\" d=\"M 362.952692 194.986911 \r\nL 383.555769 194.986911 \r\nL 383.555769 211.713065 \r\nL 362.952692 211.713065 \r\nL 362.952692 194.986911 \r\n\" style=\"fill:#f2eeee;\"/>\r\n    <path clip-path=\"url(#pe67749e1cb)\" d=\"M 383.555769 194.986911 \r\nL 404.158846 194.986911 \r\nL 404.158846 211.713065 \r\nL 383.555769 211.713065 \r\nL 383.555769 194.986911 \r\n\" style=\"fill:#dfb1a6;\"/>\r\n    <path clip-path=\"url(#pe67749e1cb)\" d=\"M 404.158846 194.986911 \r\nL 424.761923 194.986911 \r\nL 424.761923 211.713065 \r\nL 404.158846 211.713065 \r\nL 404.158846 194.986911 \r\n\" style=\"fill:#c3553a;\"/>\r\n    <path clip-path=\"url(#pe67749e1cb)\" d=\"M 424.761923 194.986911 \r\nL 445.365 194.986911 \r\nL 445.365 211.713065 \r\nL 424.761923 211.713065 \r\nL 424.761923 194.986911 \r\n\" style=\"fill:#efe7e5;\"/>\r\n    <path clip-path=\"url(#pe67749e1cb)\" d=\"M 177.525 211.713065 \r\nL 198.128077 211.713065 \r\nL 198.128077 228.439219 \r\nL 177.525 228.439219 \r\nL 177.525 211.713065 \r\n\" style=\"fill:#ebd8d4;\"/>\r\n    <path clip-path=\"url(#pe67749e1cb)\" d=\"M 198.128077 211.713065 \r\nL 218.731154 211.713065 \r\nL 218.731154 228.439219 \r\nL 198.128077 228.439219 \r\nL 198.128077 211.713065 \r\n\" style=\"fill:#e5c6be;\"/>\r\n    <path clip-path=\"url(#pe67749e1cb)\" d=\"M 218.731154 211.713065 \r\nL 239.334231 211.713065 \r\nL 239.334231 228.439219 \r\nL 218.731154 228.439219 \r\nL 218.731154 211.713065 \r\n\" style=\"fill:#e8edef;\"/>\r\n    <path clip-path=\"url(#pe67749e1cb)\" d=\"M 239.334231 211.713065 \r\nL 259.937308 211.713065 \r\nL 259.937308 228.439219 \r\nL 239.334231 228.439219 \r\nL 239.334231 211.713065 \r\n\" style=\"fill:#e1e9eb;\"/>\r\n    <path clip-path=\"url(#pe67749e1cb)\" d=\"M 259.937308 211.713065 \r\nL 280.540385 211.713065 \r\nL 280.540385 228.439219 \r\nL 259.937308 228.439219 \r\nL 259.937308 211.713065 \r\n\" style=\"fill:#e1e9eb;\"/>\r\n    <path clip-path=\"url(#pe67749e1cb)\" d=\"M 280.540385 211.713065 \r\nL 301.143462 211.713065 \r\nL 301.143462 228.439219 \r\nL 280.540385 228.439219 \r\nL 280.540385 211.713065 \r\n\" style=\"fill:#eef1f2;\"/>\r\n    <path clip-path=\"url(#pe67749e1cb)\" d=\"M 301.143462 211.713065 \r\nL 321.746538 211.713065 \r\nL 321.746538 228.439219 \r\nL 301.143462 228.439219 \r\nL 301.143462 211.713065 \r\n\" style=\"fill:#eaeef0;\"/>\r\n    <path clip-path=\"url(#pe67749e1cb)\" d=\"M 321.746538 211.713065 \r\nL 342.349615 211.713065 \r\nL 342.349615 228.439219 \r\nL 321.746538 228.439219 \r\nL 321.746538 211.713065 \r\n\" style=\"fill:#eaeef0;\"/>\r\n    <path clip-path=\"url(#pe67749e1cb)\" d=\"M 342.349615 211.713065 \r\nL 362.952692 211.713065 \r\nL 362.952692 228.439219 \r\nL 342.349615 228.439219 \r\nL 342.349615 211.713065 \r\n\" style=\"fill:#e8edef;\"/>\r\n    <path clip-path=\"url(#pe67749e1cb)\" d=\"M 362.952692 211.713065 \r\nL 383.555769 211.713065 \r\nL 383.555769 228.439219 \r\nL 362.952692 228.439219 \r\nL 362.952692 211.713065 \r\n\" style=\"fill:#eef1f2;\"/>\r\n    <path clip-path=\"url(#pe67749e1cb)\" d=\"M 383.555769 211.713065 \r\nL 404.158846 211.713065 \r\nL 404.158846 228.439219 \r\nL 383.555769 228.439219 \r\nL 383.555769 211.713065 \r\n\" style=\"fill:#eaeef0;\"/>\r\n    <path clip-path=\"url(#pe67749e1cb)\" d=\"M 404.158846 211.713065 \r\nL 424.761923 211.713065 \r\nL 424.761923 228.439219 \r\nL 404.158846 228.439219 \r\nL 404.158846 211.713065 \r\n\" style=\"fill:#efe7e5;\"/>\r\n    <path clip-path=\"url(#pe67749e1cb)\" d=\"M 424.761923 211.713065 \r\nL 445.365 211.713065 \r\nL 445.365 228.439219 \r\nL 424.761923 228.439219 \r\nL 424.761923 211.713065 \r\n\" style=\"fill:#c3553a;\"/>\r\n   </g>\r\n   <g id=\"matplotlib.axis_1\">\r\n    <g id=\"xtick_1\">\r\n     <g id=\"line2d_1\">\r\n      <defs>\r\n       <path d=\"M 0 0 \r\nL 0 3.5 \r\n\" id=\"m42add716b5\" style=\"stroke:#000000;stroke-width:0.8;\"/>\r\n      </defs>\r\n      <g>\r\n       <use style=\"stroke:#000000;stroke-width:0.8;\" x=\"187.826538\" xlink:href=\"#m42add716b5\" y=\"228.439219\"/>\r\n      </g>\r\n     </g>\r\n     <g id=\"text_1\">\r\n      <!-- URL_LENGTH -->\r\n      <defs>\r\n       <path d=\"M 8.6875 72.90625 \r\nL 18.609375 72.90625 \r\nL 18.609375 28.609375 \r\nQ 18.609375 16.890625 22.84375 11.734375 \r\nQ 27.09375 6.59375 36.625 6.59375 \r\nQ 46.09375 6.59375 50.34375 11.734375 \r\nQ 54.59375 16.890625 54.59375 28.609375 \r\nL 54.59375 72.90625 \r\nL 64.5 72.90625 \r\nL 64.5 27.390625 \r\nQ 64.5 13.140625 57.4375 5.859375 \r\nQ 50.390625 -1.421875 36.625 -1.421875 \r\nQ 22.796875 -1.421875 15.734375 5.859375 \r\nQ 8.6875 13.140625 8.6875 27.390625 \r\nz\r\n\" id=\"DejaVuSans-85\"/>\r\n       <path d=\"M 44.390625 34.1875 \r\nQ 47.5625 33.109375 50.5625 29.59375 \r\nQ 53.5625 26.078125 56.59375 19.921875 \r\nL 66.609375 0 \r\nL 56 0 \r\nL 46.6875 18.703125 \r\nQ 43.0625 26.03125 39.671875 28.421875 \r\nQ 36.28125 30.8125 30.421875 30.8125 \r\nL 19.671875 30.8125 \r\nL 19.671875 0 \r\nL 9.8125 0 \r\nL 9.8125 72.90625 \r\nL 32.078125 72.90625 \r\nQ 44.578125 72.90625 50.734375 67.671875 \r\nQ 56.890625 62.453125 56.890625 51.90625 \r\nQ 56.890625 45.015625 53.6875 40.46875 \r\nQ 50.484375 35.9375 44.390625 34.1875 \r\nz\r\nM 19.671875 64.796875 \r\nL 19.671875 38.921875 \r\nL 32.078125 38.921875 \r\nQ 39.203125 38.921875 42.84375 42.21875 \r\nQ 46.484375 45.515625 46.484375 51.90625 \r\nQ 46.484375 58.296875 42.84375 61.546875 \r\nQ 39.203125 64.796875 32.078125 64.796875 \r\nz\r\n\" id=\"DejaVuSans-82\"/>\r\n       <path d=\"M 9.8125 72.90625 \r\nL 19.671875 72.90625 \r\nL 19.671875 8.296875 \r\nL 55.171875 8.296875 \r\nL 55.171875 0 \r\nL 9.8125 0 \r\nz\r\n\" id=\"DejaVuSans-76\"/>\r\n       <path d=\"M 50.984375 -16.609375 \r\nL 50.984375 -23.578125 \r\nL -0.984375 -23.578125 \r\nL -0.984375 -16.609375 \r\nz\r\n\" id=\"DejaVuSans-95\"/>\r\n       <path d=\"M 9.8125 72.90625 \r\nL 55.90625 72.90625 \r\nL 55.90625 64.59375 \r\nL 19.671875 64.59375 \r\nL 19.671875 43.015625 \r\nL 54.390625 43.015625 \r\nL 54.390625 34.71875 \r\nL 19.671875 34.71875 \r\nL 19.671875 8.296875 \r\nL 56.78125 8.296875 \r\nL 56.78125 0 \r\nL 9.8125 0 \r\nz\r\n\" id=\"DejaVuSans-69\"/>\r\n       <path d=\"M 9.8125 72.90625 \r\nL 23.09375 72.90625 \r\nL 55.421875 11.921875 \r\nL 55.421875 72.90625 \r\nL 64.984375 72.90625 \r\nL 64.984375 0 \r\nL 51.703125 0 \r\nL 19.390625 60.984375 \r\nL 19.390625 0 \r\nL 9.8125 0 \r\nz\r\n\" id=\"DejaVuSans-78\"/>\r\n       <path d=\"M 59.515625 10.40625 \r\nL 59.515625 29.984375 \r\nL 43.40625 29.984375 \r\nL 43.40625 38.09375 \r\nL 69.28125 38.09375 \r\nL 69.28125 6.78125 \r\nQ 63.578125 2.734375 56.6875 0.65625 \r\nQ 49.8125 -1.421875 42 -1.421875 \r\nQ 24.90625 -1.421875 15.25 8.5625 \r\nQ 5.609375 18.5625 5.609375 36.375 \r\nQ 5.609375 54.25 15.25 64.234375 \r\nQ 24.90625 74.21875 42 74.21875 \r\nQ 49.125 74.21875 55.546875 72.453125 \r\nQ 61.96875 70.703125 67.390625 67.28125 \r\nL 67.390625 56.78125 \r\nQ 61.921875 61.421875 55.765625 63.765625 \r\nQ 49.609375 66.109375 42.828125 66.109375 \r\nQ 29.4375 66.109375 22.71875 58.640625 \r\nQ 16.015625 51.171875 16.015625 36.375 \r\nQ 16.015625 21.625 22.71875 14.15625 \r\nQ 29.4375 6.6875 42.828125 6.6875 \r\nQ 48.046875 6.6875 52.140625 7.59375 \r\nQ 56.25 8.5 59.515625 10.40625 \r\nz\r\n\" id=\"DejaVuSans-71\"/>\r\n       <path d=\"M -0.296875 72.90625 \r\nL 61.375 72.90625 \r\nL 61.375 64.59375 \r\nL 35.5 64.59375 \r\nL 35.5 0 \r\nL 25.59375 0 \r\nL 25.59375 64.59375 \r\nL -0.296875 64.59375 \r\nz\r\n\" id=\"DejaVuSans-84\"/>\r\n       <path d=\"M 9.8125 72.90625 \r\nL 19.671875 72.90625 \r\nL 19.671875 43.015625 \r\nL 55.515625 43.015625 \r\nL 55.515625 72.90625 \r\nL 65.375 72.90625 \r\nL 65.375 0 \r\nL 55.515625 0 \r\nL 55.515625 34.71875 \r\nL 19.671875 34.71875 \r\nL 19.671875 0 \r\nL 9.8125 0 \r\nz\r\n\" id=\"DejaVuSans-72\"/>\r\n      </defs>\r\n      <g transform=\"translate(190.35857 300.664219)rotate(-90)scale(0.1 -0.1)\">\r\n       <use xlink:href=\"#DejaVuSans-85\"/>\r\n       <use x=\"73.193359\" xlink:href=\"#DejaVuSans-82\"/>\r\n       <use x=\"142.675781\" xlink:href=\"#DejaVuSans-76\"/>\r\n       <use x=\"198.388672\" xlink:href=\"#DejaVuSans-95\"/>\r\n       <use x=\"248.388672\" xlink:href=\"#DejaVuSans-76\"/>\r\n       <use x=\"304.101562\" xlink:href=\"#DejaVuSans-69\"/>\r\n       <use x=\"367.285156\" xlink:href=\"#DejaVuSans-78\"/>\r\n       <use x=\"442.089844\" xlink:href=\"#DejaVuSans-71\"/>\r\n       <use x=\"515.955078\" xlink:href=\"#DejaVuSans-84\"/>\r\n       <use x=\"577.039062\" xlink:href=\"#DejaVuSans-72\"/>\r\n      </g>\r\n     </g>\r\n    </g>\r\n    <g id=\"xtick_2\">\r\n     <g id=\"line2d_2\">\r\n      <g>\r\n       <use style=\"stroke:#000000;stroke-width:0.8;\" x=\"208.429615\" xlink:href=\"#m42add716b5\" y=\"228.439219\"/>\r\n      </g>\r\n     </g>\r\n     <g id=\"text_2\">\r\n      <!-- NUMBER_SPECIAL_CHARACTERS -->\r\n      <defs>\r\n       <path d=\"M 9.8125 72.90625 \r\nL 24.515625 72.90625 \r\nL 43.109375 23.296875 \r\nL 61.8125 72.90625 \r\nL 76.515625 72.90625 \r\nL 76.515625 0 \r\nL 66.890625 0 \r\nL 66.890625 64.015625 \r\nL 48.09375 14.015625 \r\nL 38.1875 14.015625 \r\nL 19.390625 64.015625 \r\nL 19.390625 0 \r\nL 9.8125 0 \r\nz\r\n\" id=\"DejaVuSans-77\"/>\r\n       <path d=\"M 19.671875 34.8125 \r\nL 19.671875 8.109375 \r\nL 35.5 8.109375 \r\nQ 43.453125 8.109375 47.28125 11.40625 \r\nQ 51.125 14.703125 51.125 21.484375 \r\nQ 51.125 28.328125 47.28125 31.5625 \r\nQ 43.453125 34.8125 35.5 34.8125 \r\nz\r\nM 19.671875 64.796875 \r\nL 19.671875 42.828125 \r\nL 34.28125 42.828125 \r\nQ 41.5 42.828125 45.03125 45.53125 \r\nQ 48.578125 48.25 48.578125 53.8125 \r\nQ 48.578125 59.328125 45.03125 62.0625 \r\nQ 41.5 64.796875 34.28125 64.796875 \r\nz\r\nM 9.8125 72.90625 \r\nL 35.015625 72.90625 \r\nQ 46.296875 72.90625 52.390625 68.21875 \r\nQ 58.5 63.53125 58.5 54.890625 \r\nQ 58.5 48.1875 55.375 44.234375 \r\nQ 52.25 40.28125 46.1875 39.3125 \r\nQ 53.46875 37.75 57.5 32.78125 \r\nQ 61.53125 27.828125 61.53125 20.40625 \r\nQ 61.53125 10.640625 54.890625 5.3125 \r\nQ 48.25 0 35.984375 0 \r\nL 9.8125 0 \r\nz\r\n\" id=\"DejaVuSans-66\"/>\r\n       <path d=\"M 53.515625 70.515625 \r\nL 53.515625 60.890625 \r\nQ 47.90625 63.578125 42.921875 64.890625 \r\nQ 37.9375 66.21875 33.296875 66.21875 \r\nQ 25.25 66.21875 20.875 63.09375 \r\nQ 16.5 59.96875 16.5 54.203125 \r\nQ 16.5 49.359375 19.40625 46.890625 \r\nQ 22.3125 44.4375 30.421875 42.921875 \r\nL 36.375 41.703125 \r\nQ 47.40625 39.59375 52.65625 34.296875 \r\nQ 57.90625 29 57.90625 20.125 \r\nQ 57.90625 9.515625 50.796875 4.046875 \r\nQ 43.703125 -1.421875 29.984375 -1.421875 \r\nQ 24.8125 -1.421875 18.96875 -0.25 \r\nQ 13.140625 0.921875 6.890625 3.21875 \r\nL 6.890625 13.375 \r\nQ 12.890625 10.015625 18.65625 8.296875 \r\nQ 24.421875 6.59375 29.984375 6.59375 \r\nQ 38.421875 6.59375 43.015625 9.90625 \r\nQ 47.609375 13.234375 47.609375 19.390625 \r\nQ 47.609375 24.75 44.3125 27.78125 \r\nQ 41.015625 30.8125 33.5 32.328125 \r\nL 27.484375 33.5 \r\nQ 16.453125 35.6875 11.515625 40.375 \r\nQ 6.59375 45.0625 6.59375 53.421875 \r\nQ 6.59375 63.09375 13.40625 68.65625 \r\nQ 20.21875 74.21875 32.171875 74.21875 \r\nQ 37.3125 74.21875 42.625 73.28125 \r\nQ 47.953125 72.359375 53.515625 70.515625 \r\nz\r\n\" id=\"DejaVuSans-83\"/>\r\n       <path d=\"M 19.671875 64.796875 \r\nL 19.671875 37.40625 \r\nL 32.078125 37.40625 \r\nQ 38.96875 37.40625 42.71875 40.96875 \r\nQ 46.484375 44.53125 46.484375 51.125 \r\nQ 46.484375 57.671875 42.71875 61.234375 \r\nQ 38.96875 64.796875 32.078125 64.796875 \r\nz\r\nM 9.8125 72.90625 \r\nL 32.078125 72.90625 \r\nQ 44.34375 72.90625 50.609375 67.359375 \r\nQ 56.890625 61.8125 56.890625 51.125 \r\nQ 56.890625 40.328125 50.609375 34.8125 \r\nQ 44.34375 29.296875 32.078125 29.296875 \r\nL 19.671875 29.296875 \r\nL 19.671875 0 \r\nL 9.8125 0 \r\nz\r\n\" id=\"DejaVuSans-80\"/>\r\n       <path d=\"M 64.40625 67.28125 \r\nL 64.40625 56.890625 \r\nQ 59.421875 61.53125 53.78125 63.8125 \r\nQ 48.140625 66.109375 41.796875 66.109375 \r\nQ 29.296875 66.109375 22.65625 58.46875 \r\nQ 16.015625 50.828125 16.015625 36.375 \r\nQ 16.015625 21.96875 22.65625 14.328125 \r\nQ 29.296875 6.6875 41.796875 6.6875 \r\nQ 48.140625 6.6875 53.78125 8.984375 \r\nQ 59.421875 11.28125 64.40625 15.921875 \r\nL 64.40625 5.609375 \r\nQ 59.234375 2.09375 53.4375 0.328125 \r\nQ 47.65625 -1.421875 41.21875 -1.421875 \r\nQ 24.65625 -1.421875 15.125 8.703125 \r\nQ 5.609375 18.84375 5.609375 36.375 \r\nQ 5.609375 53.953125 15.125 64.078125 \r\nQ 24.65625 74.21875 41.21875 74.21875 \r\nQ 47.75 74.21875 53.53125 72.484375 \r\nQ 59.328125 70.75 64.40625 67.28125 \r\nz\r\n\" id=\"DejaVuSans-67\"/>\r\n       <path d=\"M 9.8125 72.90625 \r\nL 19.671875 72.90625 \r\nL 19.671875 0 \r\nL 9.8125 0 \r\nz\r\n\" id=\"DejaVuSans-73\"/>\r\n       <path d=\"M 34.1875 63.1875 \r\nL 20.796875 26.90625 \r\nL 47.609375 26.90625 \r\nz\r\nM 28.609375 72.90625 \r\nL 39.796875 72.90625 \r\nL 67.578125 0 \r\nL 57.328125 0 \r\nL 50.6875 18.703125 \r\nL 17.828125 18.703125 \r\nL 11.1875 0 \r\nL 0.78125 0 \r\nz\r\n\" id=\"DejaVuSans-65\"/>\r\n      </defs>\r\n      <g transform=\"translate(210.961647 397.301719)rotate(-90)scale(0.1 -0.1)\">\r\n       <use xlink:href=\"#DejaVuSans-78\"/>\r\n       <use x=\"74.804688\" xlink:href=\"#DejaVuSans-85\"/>\r\n       <use x=\"147.998047\" xlink:href=\"#DejaVuSans-77\"/>\r\n       <use x=\"234.277344\" xlink:href=\"#DejaVuSans-66\"/>\r\n       <use x=\"302.880859\" xlink:href=\"#DejaVuSans-69\"/>\r\n       <use x=\"366.064453\" xlink:href=\"#DejaVuSans-82\"/>\r\n       <use x=\"435.546875\" xlink:href=\"#DejaVuSans-95\"/>\r\n       <use x=\"485.546875\" xlink:href=\"#DejaVuSans-83\"/>\r\n       <use x=\"549.023438\" xlink:href=\"#DejaVuSans-80\"/>\r\n       <use x=\"609.326172\" xlink:href=\"#DejaVuSans-69\"/>\r\n       <use x=\"672.509766\" xlink:href=\"#DejaVuSans-67\"/>\r\n       <use x=\"742.333984\" xlink:href=\"#DejaVuSans-73\"/>\r\n       <use x=\"771.826172\" xlink:href=\"#DejaVuSans-65\"/>\r\n       <use x=\"840.234375\" xlink:href=\"#DejaVuSans-76\"/>\r\n       <use x=\"895.947266\" xlink:href=\"#DejaVuSans-95\"/>\r\n       <use x=\"945.947266\" xlink:href=\"#DejaVuSans-67\"/>\r\n       <use x=\"1015.771484\" xlink:href=\"#DejaVuSans-72\"/>\r\n       <use x=\"1090.966797\" xlink:href=\"#DejaVuSans-65\"/>\r\n       <use x=\"1159.375\" xlink:href=\"#DejaVuSans-82\"/>\r\n       <use x=\"1224.857422\" xlink:href=\"#DejaVuSans-65\"/>\r\n       <use x=\"1291.515625\" xlink:href=\"#DejaVuSans-67\"/>\r\n       <use x=\"1361.339844\" xlink:href=\"#DejaVuSans-84\"/>\r\n       <use x=\"1422.423828\" xlink:href=\"#DejaVuSans-69\"/>\r\n       <use x=\"1485.607422\" xlink:href=\"#DejaVuSans-82\"/>\r\n       <use x=\"1555.089844\" xlink:href=\"#DejaVuSans-83\"/>\r\n      </g>\r\n     </g>\r\n    </g>\r\n    <g id=\"xtick_3\">\r\n     <g id=\"line2d_3\">\r\n      <g>\r\n       <use style=\"stroke:#000000;stroke-width:0.8;\" x=\"229.032692\" xlink:href=\"#m42add716b5\" y=\"228.439219\"/>\r\n      </g>\r\n     </g>\r\n     <g id=\"text_3\">\r\n      <!-- TCP_CONVERSATION_EXCHANGE -->\r\n      <defs>\r\n       <path d=\"M 39.40625 66.21875 \r\nQ 28.65625 66.21875 22.328125 58.203125 \r\nQ 16.015625 50.203125 16.015625 36.375 \r\nQ 16.015625 22.609375 22.328125 14.59375 \r\nQ 28.65625 6.59375 39.40625 6.59375 \r\nQ 50.140625 6.59375 56.421875 14.59375 \r\nQ 62.703125 22.609375 62.703125 36.375 \r\nQ 62.703125 50.203125 56.421875 58.203125 \r\nQ 50.140625 66.21875 39.40625 66.21875 \r\nz\r\nM 39.40625 74.21875 \r\nQ 54.734375 74.21875 63.90625 63.9375 \r\nQ 73.09375 53.65625 73.09375 36.375 \r\nQ 73.09375 19.140625 63.90625 8.859375 \r\nQ 54.734375 -1.421875 39.40625 -1.421875 \r\nQ 24.03125 -1.421875 14.8125 8.828125 \r\nQ 5.609375 19.09375 5.609375 36.375 \r\nQ 5.609375 53.65625 14.8125 63.9375 \r\nQ 24.03125 74.21875 39.40625 74.21875 \r\nz\r\n\" id=\"DejaVuSans-79\"/>\r\n       <path d=\"M 28.609375 0 \r\nL 0.78125 72.90625 \r\nL 11.078125 72.90625 \r\nL 34.1875 11.53125 \r\nL 57.328125 72.90625 \r\nL 67.578125 72.90625 \r\nL 39.796875 0 \r\nz\r\n\" id=\"DejaVuSans-86\"/>\r\n       <path d=\"M 6.296875 72.90625 \r\nL 16.890625 72.90625 \r\nL 35.015625 45.796875 \r\nL 53.21875 72.90625 \r\nL 63.8125 72.90625 \r\nL 40.375 37.890625 \r\nL 65.375 0 \r\nL 54.78125 0 \r\nL 34.28125 31 \r\nL 13.625 0 \r\nL 2.984375 0 \r\nL 29 38.921875 \r\nz\r\n\" id=\"DejaVuSans-88\"/>\r\n      </defs>\r\n      <g transform=\"translate(231.564724 398.764219)rotate(-90)scale(0.1 -0.1)\">\r\n       <use xlink:href=\"#DejaVuSans-84\"/>\r\n       <use x=\"55.208984\" xlink:href=\"#DejaVuSans-67\"/>\r\n       <use x=\"125.033203\" xlink:href=\"#DejaVuSans-80\"/>\r\n       <use x=\"185.335938\" xlink:href=\"#DejaVuSans-95\"/>\r\n       <use x=\"235.335938\" xlink:href=\"#DejaVuSans-67\"/>\r\n       <use x=\"305.160156\" xlink:href=\"#DejaVuSans-79\"/>\r\n       <use x=\"383.871094\" xlink:href=\"#DejaVuSans-78\"/>\r\n       <use x=\"458.675781\" xlink:href=\"#DejaVuSans-86\"/>\r\n       <use x=\"527.083984\" xlink:href=\"#DejaVuSans-69\"/>\r\n       <use x=\"590.267578\" xlink:href=\"#DejaVuSans-82\"/>\r\n       <use x=\"659.75\" xlink:href=\"#DejaVuSans-83\"/>\r\n       <use x=\"725.101562\" xlink:href=\"#DejaVuSans-65\"/>\r\n       <use x=\"785.759766\" xlink:href=\"#DejaVuSans-84\"/>\r\n       <use x=\"846.84375\" xlink:href=\"#DejaVuSans-73\"/>\r\n       <use x=\"876.335938\" xlink:href=\"#DejaVuSans-79\"/>\r\n       <use x=\"955.046875\" xlink:href=\"#DejaVuSans-78\"/>\r\n       <use x=\"1029.851562\" xlink:href=\"#DejaVuSans-95\"/>\r\n       <use x=\"1079.851562\" xlink:href=\"#DejaVuSans-69\"/>\r\n       <use x=\"1143.035156\" xlink:href=\"#DejaVuSans-88\"/>\r\n       <use x=\"1204.291016\" xlink:href=\"#DejaVuSans-67\"/>\r\n       <use x=\"1274.115234\" xlink:href=\"#DejaVuSans-72\"/>\r\n       <use x=\"1349.310547\" xlink:href=\"#DejaVuSans-65\"/>\r\n       <use x=\"1417.71875\" xlink:href=\"#DejaVuSans-78\"/>\r\n       <use x=\"1492.523438\" xlink:href=\"#DejaVuSans-71\"/>\r\n       <use x=\"1570.013672\" xlink:href=\"#DejaVuSans-69\"/>\r\n      </g>\r\n     </g>\r\n    </g>\r\n    <g id=\"xtick_4\">\r\n     <g id=\"line2d_4\">\r\n      <g>\r\n       <use style=\"stroke:#000000;stroke-width:0.8;\" x=\"249.635769\" xlink:href=\"#m42add716b5\" y=\"228.439219\"/>\r\n      </g>\r\n     </g>\r\n     <g id=\"text_4\">\r\n      <!-- DIST_REMOTE_TCP_PORT -->\r\n      <defs>\r\n       <path d=\"M 19.671875 64.796875 \r\nL 19.671875 8.109375 \r\nL 31.59375 8.109375 \r\nQ 46.6875 8.109375 53.6875 14.9375 \r\nQ 60.6875 21.78125 60.6875 36.53125 \r\nQ 60.6875 51.171875 53.6875 57.984375 \r\nQ 46.6875 64.796875 31.59375 64.796875 \r\nz\r\nM 9.8125 72.90625 \r\nL 30.078125 72.90625 \r\nQ 51.265625 72.90625 61.171875 64.09375 \r\nQ 71.09375 55.28125 71.09375 36.53125 \r\nQ 71.09375 17.671875 61.125 8.828125 \r\nQ 51.171875 0 30.078125 0 \r\nL 9.8125 0 \r\nz\r\n\" id=\"DejaVuSans-68\"/>\r\n      </defs>\r\n      <g transform=\"translate(252.1678 360.504844)rotate(-90)scale(0.1 -0.1)\">\r\n       <use xlink:href=\"#DejaVuSans-68\"/>\r\n       <use x=\"77.001953\" xlink:href=\"#DejaVuSans-73\"/>\r\n       <use x=\"106.494141\" xlink:href=\"#DejaVuSans-83\"/>\r\n       <use x=\"169.970703\" xlink:href=\"#DejaVuSans-84\"/>\r\n       <use x=\"231.054688\" xlink:href=\"#DejaVuSans-95\"/>\r\n       <use x=\"281.054688\" xlink:href=\"#DejaVuSans-82\"/>\r\n       <use x=\"350.537109\" xlink:href=\"#DejaVuSans-69\"/>\r\n       <use x=\"413.720703\" xlink:href=\"#DejaVuSans-77\"/>\r\n       <use x=\"500\" xlink:href=\"#DejaVuSans-79\"/>\r\n       <use x=\"578.710938\" xlink:href=\"#DejaVuSans-84\"/>\r\n       <use x=\"639.794922\" xlink:href=\"#DejaVuSans-69\"/>\r\n       <use x=\"702.978516\" xlink:href=\"#DejaVuSans-95\"/>\r\n       <use x=\"752.978516\" xlink:href=\"#DejaVuSans-84\"/>\r\n       <use x=\"808.1875\" xlink:href=\"#DejaVuSans-67\"/>\r\n       <use x=\"878.011719\" xlink:href=\"#DejaVuSans-80\"/>\r\n       <use x=\"938.314453\" xlink:href=\"#DejaVuSans-95\"/>\r\n       <use x=\"988.314453\" xlink:href=\"#DejaVuSans-80\"/>\r\n       <use x=\"1048.617188\" xlink:href=\"#DejaVuSans-79\"/>\r\n       <use x=\"1127.328125\" xlink:href=\"#DejaVuSans-82\"/>\r\n       <use x=\"1189.560547\" xlink:href=\"#DejaVuSans-84\"/>\r\n      </g>\r\n     </g>\r\n    </g>\r\n    <g id=\"xtick_5\">\r\n     <g id=\"line2d_5\">\r\n      <g>\r\n       <use style=\"stroke:#000000;stroke-width:0.8;\" x=\"270.238846\" xlink:href=\"#m42add716b5\" y=\"228.439219\"/>\r\n      </g>\r\n     </g>\r\n     <g id=\"text_5\">\r\n      <!-- REMOTE_IPS -->\r\n      <g transform=\"translate(272.770877 297.961094)rotate(-90)scale(0.1 -0.1)\">\r\n       <use xlink:href=\"#DejaVuSans-82\"/>\r\n       <use x=\"69.482422\" xlink:href=\"#DejaVuSans-69\"/>\r\n       <use x=\"132.666016\" xlink:href=\"#DejaVuSans-77\"/>\r\n       <use x=\"218.945312\" xlink:href=\"#DejaVuSans-79\"/>\r\n       <use x=\"297.65625\" xlink:href=\"#DejaVuSans-84\"/>\r\n       <use x=\"358.740234\" xlink:href=\"#DejaVuSans-69\"/>\r\n       <use x=\"421.923828\" xlink:href=\"#DejaVuSans-95\"/>\r\n       <use x=\"471.923828\" xlink:href=\"#DejaVuSans-73\"/>\r\n       <use x=\"501.416016\" xlink:href=\"#DejaVuSans-80\"/>\r\n       <use x=\"561.71875\" xlink:href=\"#DejaVuSans-83\"/>\r\n      </g>\r\n     </g>\r\n    </g>\r\n    <g id=\"xtick_6\">\r\n     <g id=\"line2d_6\">\r\n      <g>\r\n       <use style=\"stroke:#000000;stroke-width:0.8;\" x=\"290.841923\" xlink:href=\"#m42add716b5\" y=\"228.439219\"/>\r\n      </g>\r\n     </g>\r\n     <g id=\"text_6\">\r\n      <!-- APP_BYTES -->\r\n      <defs>\r\n       <path d=\"M -0.203125 72.90625 \r\nL 10.40625 72.90625 \r\nL 30.609375 42.921875 \r\nL 50.6875 72.90625 \r\nL 61.28125 72.90625 \r\nL 35.5 34.71875 \r\nL 35.5 0 \r\nL 25.59375 0 \r\nL 25.59375 34.71875 \r\nz\r\n\" id=\"DejaVuSans-89\"/>\r\n      </defs>\r\n      <g transform=\"translate(293.373954 290.532969)rotate(-90)scale(0.1 -0.1)\">\r\n       <use xlink:href=\"#DejaVuSans-65\"/>\r\n       <use x=\"68.408203\" xlink:href=\"#DejaVuSans-80\"/>\r\n       <use x=\"128.710938\" xlink:href=\"#DejaVuSans-80\"/>\r\n       <use x=\"189.013672\" xlink:href=\"#DejaVuSans-95\"/>\r\n       <use x=\"239.013672\" xlink:href=\"#DejaVuSans-66\"/>\r\n       <use x=\"302.117188\" xlink:href=\"#DejaVuSans-89\"/>\r\n       <use x=\"363.201172\" xlink:href=\"#DejaVuSans-84\"/>\r\n       <use x=\"424.285156\" xlink:href=\"#DejaVuSans-69\"/>\r\n       <use x=\"487.46875\" xlink:href=\"#DejaVuSans-83\"/>\r\n      </g>\r\n     </g>\r\n    </g>\r\n    <g id=\"xtick_7\">\r\n     <g id=\"line2d_7\">\r\n      <g>\r\n       <use style=\"stroke:#000000;stroke-width:0.8;\" x=\"311.445\" xlink:href=\"#m42add716b5\" y=\"228.439219\"/>\r\n      </g>\r\n     </g>\r\n     <g id=\"text_7\">\r\n      <!-- SOURCE_APP_PACKETS -->\r\n      <defs>\r\n       <path d=\"M 9.8125 72.90625 \r\nL 19.671875 72.90625 \r\nL 19.671875 42.09375 \r\nL 52.390625 72.90625 \r\nL 65.09375 72.90625 \r\nL 28.90625 38.921875 \r\nL 67.671875 0 \r\nL 54.6875 0 \r\nL 19.671875 35.109375 \r\nL 19.671875 0 \r\nL 9.8125 0 \r\nz\r\n\" id=\"DejaVuSans-75\"/>\r\n      </defs>\r\n      <g transform=\"translate(313.977031 350.001719)rotate(-90)scale(0.1 -0.1)\">\r\n       <use xlink:href=\"#DejaVuSans-83\"/>\r\n       <use x=\"63.476562\" xlink:href=\"#DejaVuSans-79\"/>\r\n       <use x=\"142.1875\" xlink:href=\"#DejaVuSans-85\"/>\r\n       <use x=\"215.380859\" xlink:href=\"#DejaVuSans-82\"/>\r\n       <use x=\"279.863281\" xlink:href=\"#DejaVuSans-67\"/>\r\n       <use x=\"349.6875\" xlink:href=\"#DejaVuSans-69\"/>\r\n       <use x=\"412.871094\" xlink:href=\"#DejaVuSans-95\"/>\r\n       <use x=\"462.871094\" xlink:href=\"#DejaVuSans-65\"/>\r\n       <use x=\"531.279297\" xlink:href=\"#DejaVuSans-80\"/>\r\n       <use x=\"591.582031\" xlink:href=\"#DejaVuSans-80\"/>\r\n       <use x=\"651.884766\" xlink:href=\"#DejaVuSans-95\"/>\r\n       <use x=\"701.884766\" xlink:href=\"#DejaVuSans-80\"/>\r\n       <use x=\"755.8125\" xlink:href=\"#DejaVuSans-65\"/>\r\n       <use x=\"822.470703\" xlink:href=\"#DejaVuSans-67\"/>\r\n       <use x=\"892.294922\" xlink:href=\"#DejaVuSans-75\"/>\r\n       <use x=\"957.871094\" xlink:href=\"#DejaVuSans-69\"/>\r\n       <use x=\"1021.054688\" xlink:href=\"#DejaVuSans-84\"/>\r\n       <use x=\"1082.138672\" xlink:href=\"#DejaVuSans-83\"/>\r\n      </g>\r\n     </g>\r\n    </g>\r\n    <g id=\"xtick_8\">\r\n     <g id=\"line2d_8\">\r\n      <g>\r\n       <use style=\"stroke:#000000;stroke-width:0.8;\" x=\"332.048077\" xlink:href=\"#m42add716b5\" y=\"228.439219\"/>\r\n      </g>\r\n     </g>\r\n     <g id=\"text_8\">\r\n      <!-- REMOTE_APP_PACKETS -->\r\n      <g transform=\"translate(334.580108 350.906406)rotate(-90)scale(0.1 -0.1)\">\r\n       <use xlink:href=\"#DejaVuSans-82\"/>\r\n       <use x=\"69.482422\" xlink:href=\"#DejaVuSans-69\"/>\r\n       <use x=\"132.666016\" xlink:href=\"#DejaVuSans-77\"/>\r\n       <use x=\"218.945312\" xlink:href=\"#DejaVuSans-79\"/>\r\n       <use x=\"297.65625\" xlink:href=\"#DejaVuSans-84\"/>\r\n       <use x=\"358.740234\" xlink:href=\"#DejaVuSans-69\"/>\r\n       <use x=\"421.923828\" xlink:href=\"#DejaVuSans-95\"/>\r\n       <use x=\"471.923828\" xlink:href=\"#DejaVuSans-65\"/>\r\n       <use x=\"540.332031\" xlink:href=\"#DejaVuSans-80\"/>\r\n       <use x=\"600.634766\" xlink:href=\"#DejaVuSans-80\"/>\r\n       <use x=\"660.9375\" xlink:href=\"#DejaVuSans-95\"/>\r\n       <use x=\"710.9375\" xlink:href=\"#DejaVuSans-80\"/>\r\n       <use x=\"764.865234\" xlink:href=\"#DejaVuSans-65\"/>\r\n       <use x=\"831.523438\" xlink:href=\"#DejaVuSans-67\"/>\r\n       <use x=\"901.347656\" xlink:href=\"#DejaVuSans-75\"/>\r\n       <use x=\"966.923828\" xlink:href=\"#DejaVuSans-69\"/>\r\n       <use x=\"1030.107422\" xlink:href=\"#DejaVuSans-84\"/>\r\n       <use x=\"1091.191406\" xlink:href=\"#DejaVuSans-83\"/>\r\n      </g>\r\n     </g>\r\n    </g>\r\n    <g id=\"xtick_9\">\r\n     <g id=\"line2d_9\">\r\n      <g>\r\n       <use style=\"stroke:#000000;stroke-width:0.8;\" x=\"352.651154\" xlink:href=\"#m42add716b5\" y=\"228.439219\"/>\r\n      </g>\r\n     </g>\r\n     <g id=\"text_9\">\r\n      <!-- SOURCE_APP_BYTES -->\r\n      <g transform=\"translate(355.183185 336.822031)rotate(-90)scale(0.1 -0.1)\">\r\n       <use xlink:href=\"#DejaVuSans-83\"/>\r\n       <use x=\"63.476562\" xlink:href=\"#DejaVuSans-79\"/>\r\n       <use x=\"142.1875\" xlink:href=\"#DejaVuSans-85\"/>\r\n       <use x=\"215.380859\" xlink:href=\"#DejaVuSans-82\"/>\r\n       <use x=\"279.863281\" xlink:href=\"#DejaVuSans-67\"/>\r\n       <use x=\"349.6875\" xlink:href=\"#DejaVuSans-69\"/>\r\n       <use x=\"412.871094\" xlink:href=\"#DejaVuSans-95\"/>\r\n       <use x=\"462.871094\" xlink:href=\"#DejaVuSans-65\"/>\r\n       <use x=\"531.279297\" xlink:href=\"#DejaVuSans-80\"/>\r\n       <use x=\"591.582031\" xlink:href=\"#DejaVuSans-80\"/>\r\n       <use x=\"651.884766\" xlink:href=\"#DejaVuSans-95\"/>\r\n       <use x=\"701.884766\" xlink:href=\"#DejaVuSans-66\"/>\r\n       <use x=\"764.988281\" xlink:href=\"#DejaVuSans-89\"/>\r\n       <use x=\"826.072266\" xlink:href=\"#DejaVuSans-84\"/>\r\n       <use x=\"887.15625\" xlink:href=\"#DejaVuSans-69\"/>\r\n       <use x=\"950.339844\" xlink:href=\"#DejaVuSans-83\"/>\r\n      </g>\r\n     </g>\r\n    </g>\r\n    <g id=\"xtick_10\">\r\n     <g id=\"line2d_10\">\r\n      <g>\r\n       <use style=\"stroke:#000000;stroke-width:0.8;\" x=\"373.254231\" xlink:href=\"#m42add716b5\" y=\"228.439219\"/>\r\n      </g>\r\n     </g>\r\n     <g id=\"text_10\">\r\n      <!-- REMOTE_APP_BYTES -->\r\n      <g transform=\"translate(375.786262 337.726719)rotate(-90)scale(0.1 -0.1)\">\r\n       <use xlink:href=\"#DejaVuSans-82\"/>\r\n       <use x=\"69.482422\" xlink:href=\"#DejaVuSans-69\"/>\r\n       <use x=\"132.666016\" xlink:href=\"#DejaVuSans-77\"/>\r\n       <use x=\"218.945312\" xlink:href=\"#DejaVuSans-79\"/>\r\n       <use x=\"297.65625\" xlink:href=\"#DejaVuSans-84\"/>\r\n       <use x=\"358.740234\" xlink:href=\"#DejaVuSans-69\"/>\r\n       <use x=\"421.923828\" xlink:href=\"#DejaVuSans-95\"/>\r\n       <use x=\"471.923828\" xlink:href=\"#DejaVuSans-65\"/>\r\n       <use x=\"540.332031\" xlink:href=\"#DejaVuSans-80\"/>\r\n       <use x=\"600.634766\" xlink:href=\"#DejaVuSans-80\"/>\r\n       <use x=\"660.9375\" xlink:href=\"#DejaVuSans-95\"/>\r\n       <use x=\"710.9375\" xlink:href=\"#DejaVuSans-66\"/>\r\n       <use x=\"774.041016\" xlink:href=\"#DejaVuSans-89\"/>\r\n       <use x=\"835.125\" xlink:href=\"#DejaVuSans-84\"/>\r\n       <use x=\"896.208984\" xlink:href=\"#DejaVuSans-69\"/>\r\n       <use x=\"959.392578\" xlink:href=\"#DejaVuSans-83\"/>\r\n      </g>\r\n     </g>\r\n    </g>\r\n    <g id=\"xtick_11\">\r\n     <g id=\"line2d_11\">\r\n      <g>\r\n       <use style=\"stroke:#000000;stroke-width:0.8;\" x=\"393.857308\" xlink:href=\"#m42add716b5\" y=\"228.439219\"/>\r\n      </g>\r\n     </g>\r\n     <g id=\"text_11\">\r\n      <!-- APP_PACKETS -->\r\n      <g transform=\"translate(396.389339 303.712656)rotate(-90)scale(0.1 -0.1)\">\r\n       <use xlink:href=\"#DejaVuSans-65\"/>\r\n       <use x=\"68.408203\" xlink:href=\"#DejaVuSans-80\"/>\r\n       <use x=\"128.710938\" xlink:href=\"#DejaVuSans-80\"/>\r\n       <use x=\"189.013672\" xlink:href=\"#DejaVuSans-95\"/>\r\n       <use x=\"239.013672\" xlink:href=\"#DejaVuSans-80\"/>\r\n       <use x=\"292.941406\" xlink:href=\"#DejaVuSans-65\"/>\r\n       <use x=\"359.599609\" xlink:href=\"#DejaVuSans-67\"/>\r\n       <use x=\"429.423828\" xlink:href=\"#DejaVuSans-75\"/>\r\n       <use x=\"495\" xlink:href=\"#DejaVuSans-69\"/>\r\n       <use x=\"558.183594\" xlink:href=\"#DejaVuSans-84\"/>\r\n       <use x=\"619.267578\" xlink:href=\"#DejaVuSans-83\"/>\r\n      </g>\r\n     </g>\r\n    </g>\r\n    <g id=\"xtick_12\">\r\n     <g id=\"line2d_12\">\r\n      <g>\r\n       <use style=\"stroke:#000000;stroke-width:0.8;\" x=\"414.460385\" xlink:href=\"#m42add716b5\" y=\"228.439219\"/>\r\n      </g>\r\n     </g>\r\n     <g id=\"text_12\">\r\n      <!-- DNS_QUERY_TIMES -->\r\n      <defs>\r\n       <path d=\"M 39.40625 66.21875 \r\nQ 28.65625 66.21875 22.328125 58.203125 \r\nQ 16.015625 50.203125 16.015625 36.375 \r\nQ 16.015625 22.609375 22.328125 14.59375 \r\nQ 28.65625 6.59375 39.40625 6.59375 \r\nQ 50.140625 6.59375 56.421875 14.59375 \r\nQ 62.703125 22.609375 62.703125 36.375 \r\nQ 62.703125 50.203125 56.421875 58.203125 \r\nQ 50.140625 66.21875 39.40625 66.21875 \r\nz\r\nM 53.21875 1.3125 \r\nL 66.21875 -12.890625 \r\nL 54.296875 -12.890625 \r\nL 43.5 -1.21875 \r\nQ 41.890625 -1.3125 41.03125 -1.359375 \r\nQ 40.1875 -1.421875 39.40625 -1.421875 \r\nQ 24.03125 -1.421875 14.8125 8.859375 \r\nQ 5.609375 19.140625 5.609375 36.375 \r\nQ 5.609375 53.65625 14.8125 63.9375 \r\nQ 24.03125 74.21875 39.40625 74.21875 \r\nQ 54.734375 74.21875 63.90625 63.9375 \r\nQ 73.09375 53.65625 73.09375 36.375 \r\nQ 73.09375 23.6875 67.984375 14.640625 \r\nQ 62.890625 5.609375 53.21875 1.3125 \r\nz\r\n\" id=\"DejaVuSans-81\"/>\r\n      </defs>\r\n      <g transform=\"translate(416.992416 331.250156)rotate(-90)scale(0.1 -0.1)\">\r\n       <use xlink:href=\"#DejaVuSans-68\"/>\r\n       <use x=\"77.001953\" xlink:href=\"#DejaVuSans-78\"/>\r\n       <use x=\"151.806641\" xlink:href=\"#DejaVuSans-83\"/>\r\n       <use x=\"215.283203\" xlink:href=\"#DejaVuSans-95\"/>\r\n       <use x=\"265.283203\" xlink:href=\"#DejaVuSans-81\"/>\r\n       <use x=\"343.994141\" xlink:href=\"#DejaVuSans-85\"/>\r\n       <use x=\"417.1875\" xlink:href=\"#DejaVuSans-69\"/>\r\n       <use x=\"480.371094\" xlink:href=\"#DejaVuSans-82\"/>\r\n       <use x=\"543.478516\" xlink:href=\"#DejaVuSans-89\"/>\r\n       <use x=\"604.5625\" xlink:href=\"#DejaVuSans-95\"/>\r\n       <use x=\"654.5625\" xlink:href=\"#DejaVuSans-84\"/>\r\n       <use x=\"715.646484\" xlink:href=\"#DejaVuSans-73\"/>\r\n       <use x=\"745.138672\" xlink:href=\"#DejaVuSans-77\"/>\r\n       <use x=\"831.417969\" xlink:href=\"#DejaVuSans-69\"/>\r\n       <use x=\"894.601562\" xlink:href=\"#DejaVuSans-83\"/>\r\n      </g>\r\n     </g>\r\n    </g>\r\n    <g id=\"xtick_13\">\r\n     <g id=\"line2d_13\">\r\n      <g>\r\n       <use style=\"stroke:#000000;stroke-width:0.8;\" x=\"435.063462\" xlink:href=\"#m42add716b5\" y=\"228.439219\"/>\r\n      </g>\r\n     </g>\r\n     <g id=\"text_13\">\r\n      <!-- Type -->\r\n      <defs>\r\n       <path d=\"M 32.171875 -5.078125 \r\nQ 28.375 -14.84375 24.75 -17.8125 \r\nQ 21.140625 -20.796875 15.09375 -20.796875 \r\nL 7.90625 -20.796875 \r\nL 7.90625 -13.28125 \r\nL 13.1875 -13.28125 \r\nQ 16.890625 -13.28125 18.9375 -11.515625 \r\nQ 21 -9.765625 23.484375 -3.21875 \r\nL 25.09375 0.875 \r\nL 2.984375 54.6875 \r\nL 12.5 54.6875 \r\nL 29.59375 11.921875 \r\nL 46.6875 54.6875 \r\nL 56.203125 54.6875 \r\nz\r\n\" id=\"DejaVuSans-121\"/>\r\n       <path d=\"M 18.109375 8.203125 \r\nL 18.109375 -20.796875 \r\nL 9.078125 -20.796875 \r\nL 9.078125 54.6875 \r\nL 18.109375 54.6875 \r\nL 18.109375 46.390625 \r\nQ 20.953125 51.265625 25.265625 53.625 \r\nQ 29.59375 56 35.59375 56 \r\nQ 45.5625 56 51.78125 48.09375 \r\nQ 58.015625 40.1875 58.015625 27.296875 \r\nQ 58.015625 14.40625 51.78125 6.484375 \r\nQ 45.5625 -1.421875 35.59375 -1.421875 \r\nQ 29.59375 -1.421875 25.265625 0.953125 \r\nQ 20.953125 3.328125 18.109375 8.203125 \r\nz\r\nM 48.6875 27.296875 \r\nQ 48.6875 37.203125 44.609375 42.84375 \r\nQ 40.53125 48.484375 33.40625 48.484375 \r\nQ 26.265625 48.484375 22.1875 42.84375 \r\nQ 18.109375 37.203125 18.109375 27.296875 \r\nQ 18.109375 17.390625 22.1875 11.75 \r\nQ 26.265625 6.109375 33.40625 6.109375 \r\nQ 40.53125 6.109375 44.609375 11.75 \r\nQ 48.6875 17.390625 48.6875 27.296875 \r\nz\r\n\" id=\"DejaVuSans-112\"/>\r\n       <path d=\"M 56.203125 29.59375 \r\nL 56.203125 25.203125 \r\nL 14.890625 25.203125 \r\nQ 15.484375 15.921875 20.484375 11.0625 \r\nQ 25.484375 6.203125 34.421875 6.203125 \r\nQ 39.59375 6.203125 44.453125 7.46875 \r\nQ 49.3125 8.734375 54.109375 11.28125 \r\nL 54.109375 2.78125 \r\nQ 49.265625 0.734375 44.1875 -0.34375 \r\nQ 39.109375 -1.421875 33.890625 -1.421875 \r\nQ 20.796875 -1.421875 13.15625 6.1875 \r\nQ 5.515625 13.8125 5.515625 26.8125 \r\nQ 5.515625 40.234375 12.765625 48.109375 \r\nQ 20.015625 56 32.328125 56 \r\nQ 43.359375 56 49.78125 48.890625 \r\nQ 56.203125 41.796875 56.203125 29.59375 \r\nz\r\nM 47.21875 32.234375 \r\nQ 47.125 39.59375 43.09375 43.984375 \r\nQ 39.0625 48.390625 32.421875 48.390625 \r\nQ 24.90625 48.390625 20.390625 44.140625 \r\nQ 15.875 39.890625 15.1875 32.171875 \r\nz\r\n\" id=\"DejaVuSans-101\"/>\r\n      </defs>\r\n      <g transform=\"translate(437.822837 258.404844)rotate(-90)scale(0.1 -0.1)\">\r\n       <use xlink:href=\"#DejaVuSans-84\"/>\r\n       <use x=\"45.458984\" xlink:href=\"#DejaVuSans-121\"/>\r\n       <use x=\"104.638672\" xlink:href=\"#DejaVuSans-112\"/>\r\n       <use x=\"168.115234\" xlink:href=\"#DejaVuSans-101\"/>\r\n      </g>\r\n     </g>\r\n    </g>\r\n   </g>\r\n   <g id=\"matplotlib.axis_2\">\r\n    <g id=\"ytick_1\">\r\n     <g id=\"line2d_14\">\r\n      <defs>\r\n       <path d=\"M 0 0 \r\nL -3.5 0 \r\n\" id=\"ma75c350374\" style=\"stroke:#000000;stroke-width:0.8;\"/>\r\n      </defs>\r\n      <g>\r\n       <use style=\"stroke:#000000;stroke-width:0.8;\" x=\"177.525\" xlink:href=\"#ma75c350374\" y=\"19.362296\"/>\r\n      </g>\r\n     </g>\r\n     <g id=\"text_14\">\r\n      <!-- URL_LENGTH -->\r\n      <g transform=\"translate(105.3 23.073233)scale(0.1 -0.1)\">\r\n       <use xlink:href=\"#DejaVuSans-85\"/>\r\n       <use x=\"73.193359\" xlink:href=\"#DejaVuSans-82\"/>\r\n       <use x=\"142.675781\" xlink:href=\"#DejaVuSans-76\"/>\r\n       <use x=\"198.388672\" xlink:href=\"#DejaVuSans-95\"/>\r\n       <use x=\"248.388672\" xlink:href=\"#DejaVuSans-76\"/>\r\n       <use x=\"304.101562\" xlink:href=\"#DejaVuSans-69\"/>\r\n       <use x=\"367.285156\" xlink:href=\"#DejaVuSans-78\"/>\r\n       <use x=\"442.089844\" xlink:href=\"#DejaVuSans-71\"/>\r\n       <use x=\"515.955078\" xlink:href=\"#DejaVuSans-84\"/>\r\n       <use x=\"577.039062\" xlink:href=\"#DejaVuSans-72\"/>\r\n      </g>\r\n     </g>\r\n    </g>\r\n    <g id=\"ytick_2\">\r\n     <g id=\"line2d_15\">\r\n      <g>\r\n       <use style=\"stroke:#000000;stroke-width:0.8;\" x=\"177.525\" xlink:href=\"#ma75c350374\" y=\"36.08845\"/>\r\n      </g>\r\n     </g>\r\n     <g id=\"text_15\">\r\n      <!-- NUMBER_SPECIAL_CHARACTERS -->\r\n      <g transform=\"translate(8.6625 39.799387)scale(0.1 -0.1)\">\r\n       <use xlink:href=\"#DejaVuSans-78\"/>\r\n       <use x=\"74.804688\" xlink:href=\"#DejaVuSans-85\"/>\r\n       <use x=\"147.998047\" xlink:href=\"#DejaVuSans-77\"/>\r\n       <use x=\"234.277344\" xlink:href=\"#DejaVuSans-66\"/>\r\n       <use x=\"302.880859\" xlink:href=\"#DejaVuSans-69\"/>\r\n       <use x=\"366.064453\" xlink:href=\"#DejaVuSans-82\"/>\r\n       <use x=\"435.546875\" xlink:href=\"#DejaVuSans-95\"/>\r\n       <use x=\"485.546875\" xlink:href=\"#DejaVuSans-83\"/>\r\n       <use x=\"549.023438\" xlink:href=\"#DejaVuSans-80\"/>\r\n       <use x=\"609.326172\" xlink:href=\"#DejaVuSans-69\"/>\r\n       <use x=\"672.509766\" xlink:href=\"#DejaVuSans-67\"/>\r\n       <use x=\"742.333984\" xlink:href=\"#DejaVuSans-73\"/>\r\n       <use x=\"771.826172\" xlink:href=\"#DejaVuSans-65\"/>\r\n       <use x=\"840.234375\" xlink:href=\"#DejaVuSans-76\"/>\r\n       <use x=\"895.947266\" xlink:href=\"#DejaVuSans-95\"/>\r\n       <use x=\"945.947266\" xlink:href=\"#DejaVuSans-67\"/>\r\n       <use x=\"1015.771484\" xlink:href=\"#DejaVuSans-72\"/>\r\n       <use x=\"1090.966797\" xlink:href=\"#DejaVuSans-65\"/>\r\n       <use x=\"1159.375\" xlink:href=\"#DejaVuSans-82\"/>\r\n       <use x=\"1224.857422\" xlink:href=\"#DejaVuSans-65\"/>\r\n       <use x=\"1291.515625\" xlink:href=\"#DejaVuSans-67\"/>\r\n       <use x=\"1361.339844\" xlink:href=\"#DejaVuSans-84\"/>\r\n       <use x=\"1422.423828\" xlink:href=\"#DejaVuSans-69\"/>\r\n       <use x=\"1485.607422\" xlink:href=\"#DejaVuSans-82\"/>\r\n       <use x=\"1555.089844\" xlink:href=\"#DejaVuSans-83\"/>\r\n      </g>\r\n     </g>\r\n    </g>\r\n    <g id=\"ytick_3\">\r\n     <g id=\"line2d_16\">\r\n      <g>\r\n       <use style=\"stroke:#000000;stroke-width:0.8;\" x=\"177.525\" xlink:href=\"#ma75c350374\" y=\"52.814603\"/>\r\n      </g>\r\n     </g>\r\n     <g id=\"text_16\">\r\n      <!-- TCP_CONVERSATION_EXCHANGE -->\r\n      <g transform=\"translate(7.2 56.525541)scale(0.1 -0.1)\">\r\n       <use xlink:href=\"#DejaVuSans-84\"/>\r\n       <use x=\"55.208984\" xlink:href=\"#DejaVuSans-67\"/>\r\n       <use x=\"125.033203\" xlink:href=\"#DejaVuSans-80\"/>\r\n       <use x=\"185.335938\" xlink:href=\"#DejaVuSans-95\"/>\r\n       <use x=\"235.335938\" xlink:href=\"#DejaVuSans-67\"/>\r\n       <use x=\"305.160156\" xlink:href=\"#DejaVuSans-79\"/>\r\n       <use x=\"383.871094\" xlink:href=\"#DejaVuSans-78\"/>\r\n       <use x=\"458.675781\" xlink:href=\"#DejaVuSans-86\"/>\r\n       <use x=\"527.083984\" xlink:href=\"#DejaVuSans-69\"/>\r\n       <use x=\"590.267578\" xlink:href=\"#DejaVuSans-82\"/>\r\n       <use x=\"659.75\" xlink:href=\"#DejaVuSans-83\"/>\r\n       <use x=\"725.101562\" xlink:href=\"#DejaVuSans-65\"/>\r\n       <use x=\"785.759766\" xlink:href=\"#DejaVuSans-84\"/>\r\n       <use x=\"846.84375\" xlink:href=\"#DejaVuSans-73\"/>\r\n       <use x=\"876.335938\" xlink:href=\"#DejaVuSans-79\"/>\r\n       <use x=\"955.046875\" xlink:href=\"#DejaVuSans-78\"/>\r\n       <use x=\"1029.851562\" xlink:href=\"#DejaVuSans-95\"/>\r\n       <use x=\"1079.851562\" xlink:href=\"#DejaVuSans-69\"/>\r\n       <use x=\"1143.035156\" xlink:href=\"#DejaVuSans-88\"/>\r\n       <use x=\"1204.291016\" xlink:href=\"#DejaVuSans-67\"/>\r\n       <use x=\"1274.115234\" xlink:href=\"#DejaVuSans-72\"/>\r\n       <use x=\"1349.310547\" xlink:href=\"#DejaVuSans-65\"/>\r\n       <use x=\"1417.71875\" xlink:href=\"#DejaVuSans-78\"/>\r\n       <use x=\"1492.523438\" xlink:href=\"#DejaVuSans-71\"/>\r\n       <use x=\"1570.013672\" xlink:href=\"#DejaVuSans-69\"/>\r\n      </g>\r\n     </g>\r\n    </g>\r\n    <g id=\"ytick_4\">\r\n     <g id=\"line2d_17\">\r\n      <g>\r\n       <use style=\"stroke:#000000;stroke-width:0.8;\" x=\"177.525\" xlink:href=\"#ma75c350374\" y=\"69.540757\"/>\r\n      </g>\r\n     </g>\r\n     <g id=\"text_17\">\r\n      <!-- DIST_REMOTE_TCP_PORT -->\r\n      <g transform=\"translate(45.459375 73.251695)scale(0.1 -0.1)\">\r\n       <use xlink:href=\"#DejaVuSans-68\"/>\r\n       <use x=\"77.001953\" xlink:href=\"#DejaVuSans-73\"/>\r\n       <use x=\"106.494141\" xlink:href=\"#DejaVuSans-83\"/>\r\n       <use x=\"169.970703\" xlink:href=\"#DejaVuSans-84\"/>\r\n       <use x=\"231.054688\" xlink:href=\"#DejaVuSans-95\"/>\r\n       <use x=\"281.054688\" xlink:href=\"#DejaVuSans-82\"/>\r\n       <use x=\"350.537109\" xlink:href=\"#DejaVuSans-69\"/>\r\n       <use x=\"413.720703\" xlink:href=\"#DejaVuSans-77\"/>\r\n       <use x=\"500\" xlink:href=\"#DejaVuSans-79\"/>\r\n       <use x=\"578.710938\" xlink:href=\"#DejaVuSans-84\"/>\r\n       <use x=\"639.794922\" xlink:href=\"#DejaVuSans-69\"/>\r\n       <use x=\"702.978516\" xlink:href=\"#DejaVuSans-95\"/>\r\n       <use x=\"752.978516\" xlink:href=\"#DejaVuSans-84\"/>\r\n       <use x=\"808.1875\" xlink:href=\"#DejaVuSans-67\"/>\r\n       <use x=\"878.011719\" xlink:href=\"#DejaVuSans-80\"/>\r\n       <use x=\"938.314453\" xlink:href=\"#DejaVuSans-95\"/>\r\n       <use x=\"988.314453\" xlink:href=\"#DejaVuSans-80\"/>\r\n       <use x=\"1048.617188\" xlink:href=\"#DejaVuSans-79\"/>\r\n       <use x=\"1127.328125\" xlink:href=\"#DejaVuSans-82\"/>\r\n       <use x=\"1189.560547\" xlink:href=\"#DejaVuSans-84\"/>\r\n      </g>\r\n     </g>\r\n    </g>\r\n    <g id=\"ytick_5\">\r\n     <g id=\"line2d_18\">\r\n      <g>\r\n       <use style=\"stroke:#000000;stroke-width:0.8;\" x=\"177.525\" xlink:href=\"#ma75c350374\" y=\"86.266911\"/>\r\n      </g>\r\n     </g>\r\n     <g id=\"text_18\">\r\n      <!-- REMOTE_IPS -->\r\n      <g transform=\"translate(108.003125 89.977849)scale(0.1 -0.1)\">\r\n       <use xlink:href=\"#DejaVuSans-82\"/>\r\n       <use x=\"69.482422\" xlink:href=\"#DejaVuSans-69\"/>\r\n       <use x=\"132.666016\" xlink:href=\"#DejaVuSans-77\"/>\r\n       <use x=\"218.945312\" xlink:href=\"#DejaVuSans-79\"/>\r\n       <use x=\"297.65625\" xlink:href=\"#DejaVuSans-84\"/>\r\n       <use x=\"358.740234\" xlink:href=\"#DejaVuSans-69\"/>\r\n       <use x=\"421.923828\" xlink:href=\"#DejaVuSans-95\"/>\r\n       <use x=\"471.923828\" xlink:href=\"#DejaVuSans-73\"/>\r\n       <use x=\"501.416016\" xlink:href=\"#DejaVuSans-80\"/>\r\n       <use x=\"561.71875\" xlink:href=\"#DejaVuSans-83\"/>\r\n      </g>\r\n     </g>\r\n    </g>\r\n    <g id=\"ytick_6\">\r\n     <g id=\"line2d_19\">\r\n      <g>\r\n       <use style=\"stroke:#000000;stroke-width:0.8;\" x=\"177.525\" xlink:href=\"#ma75c350374\" y=\"102.993065\"/>\r\n      </g>\r\n     </g>\r\n     <g id=\"text_19\">\r\n      <!-- APP_BYTES -->\r\n      <g transform=\"translate(115.43125 106.704002)scale(0.1 -0.1)\">\r\n       <use xlink:href=\"#DejaVuSans-65\"/>\r\n       <use x=\"68.408203\" xlink:href=\"#DejaVuSans-80\"/>\r\n       <use x=\"128.710938\" xlink:href=\"#DejaVuSans-80\"/>\r\n       <use x=\"189.013672\" xlink:href=\"#DejaVuSans-95\"/>\r\n       <use x=\"239.013672\" xlink:href=\"#DejaVuSans-66\"/>\r\n       <use x=\"302.117188\" xlink:href=\"#DejaVuSans-89\"/>\r\n       <use x=\"363.201172\" xlink:href=\"#DejaVuSans-84\"/>\r\n       <use x=\"424.285156\" xlink:href=\"#DejaVuSans-69\"/>\r\n       <use x=\"487.46875\" xlink:href=\"#DejaVuSans-83\"/>\r\n      </g>\r\n     </g>\r\n    </g>\r\n    <g id=\"ytick_7\">\r\n     <g id=\"line2d_20\">\r\n      <g>\r\n       <use style=\"stroke:#000000;stroke-width:0.8;\" x=\"177.525\" xlink:href=\"#ma75c350374\" y=\"119.719219\"/>\r\n      </g>\r\n     </g>\r\n     <g id=\"text_20\">\r\n      <!-- SOURCE_APP_PACKETS -->\r\n      <g transform=\"translate(55.9625 123.430156)scale(0.1 -0.1)\">\r\n       <use xlink:href=\"#DejaVuSans-83\"/>\r\n       <use x=\"63.476562\" xlink:href=\"#DejaVuSans-79\"/>\r\n       <use x=\"142.1875\" xlink:href=\"#DejaVuSans-85\"/>\r\n       <use x=\"215.380859\" xlink:href=\"#DejaVuSans-82\"/>\r\n       <use x=\"279.863281\" xlink:href=\"#DejaVuSans-67\"/>\r\n       <use x=\"349.6875\" xlink:href=\"#DejaVuSans-69\"/>\r\n       <use x=\"412.871094\" xlink:href=\"#DejaVuSans-95\"/>\r\n       <use x=\"462.871094\" xlink:href=\"#DejaVuSans-65\"/>\r\n       <use x=\"531.279297\" xlink:href=\"#DejaVuSans-80\"/>\r\n       <use x=\"591.582031\" xlink:href=\"#DejaVuSans-80\"/>\r\n       <use x=\"651.884766\" xlink:href=\"#DejaVuSans-95\"/>\r\n       <use x=\"701.884766\" xlink:href=\"#DejaVuSans-80\"/>\r\n       <use x=\"755.8125\" xlink:href=\"#DejaVuSans-65\"/>\r\n       <use x=\"822.470703\" xlink:href=\"#DejaVuSans-67\"/>\r\n       <use x=\"892.294922\" xlink:href=\"#DejaVuSans-75\"/>\r\n       <use x=\"957.871094\" xlink:href=\"#DejaVuSans-69\"/>\r\n       <use x=\"1021.054688\" xlink:href=\"#DejaVuSans-84\"/>\r\n       <use x=\"1082.138672\" xlink:href=\"#DejaVuSans-83\"/>\r\n      </g>\r\n     </g>\r\n    </g>\r\n    <g id=\"ytick_8\">\r\n     <g id=\"line2d_21\">\r\n      <g>\r\n       <use style=\"stroke:#000000;stroke-width:0.8;\" x=\"177.525\" xlink:href=\"#ma75c350374\" y=\"136.445373\"/>\r\n      </g>\r\n     </g>\r\n     <g id=\"text_21\">\r\n      <!-- REMOTE_APP_PACKETS -->\r\n      <g transform=\"translate(55.057812 140.15631)scale(0.1 -0.1)\">\r\n       <use xlink:href=\"#DejaVuSans-82\"/>\r\n       <use x=\"69.482422\" xlink:href=\"#DejaVuSans-69\"/>\r\n       <use x=\"132.666016\" xlink:href=\"#DejaVuSans-77\"/>\r\n       <use x=\"218.945312\" xlink:href=\"#DejaVuSans-79\"/>\r\n       <use x=\"297.65625\" xlink:href=\"#DejaVuSans-84\"/>\r\n       <use x=\"358.740234\" xlink:href=\"#DejaVuSans-69\"/>\r\n       <use x=\"421.923828\" xlink:href=\"#DejaVuSans-95\"/>\r\n       <use x=\"471.923828\" xlink:href=\"#DejaVuSans-65\"/>\r\n       <use x=\"540.332031\" xlink:href=\"#DejaVuSans-80\"/>\r\n       <use x=\"600.634766\" xlink:href=\"#DejaVuSans-80\"/>\r\n       <use x=\"660.9375\" xlink:href=\"#DejaVuSans-95\"/>\r\n       <use x=\"710.9375\" xlink:href=\"#DejaVuSans-80\"/>\r\n       <use x=\"764.865234\" xlink:href=\"#DejaVuSans-65\"/>\r\n       <use x=\"831.523438\" xlink:href=\"#DejaVuSans-67\"/>\r\n       <use x=\"901.347656\" xlink:href=\"#DejaVuSans-75\"/>\r\n       <use x=\"966.923828\" xlink:href=\"#DejaVuSans-69\"/>\r\n       <use x=\"1030.107422\" xlink:href=\"#DejaVuSans-84\"/>\r\n       <use x=\"1091.191406\" xlink:href=\"#DejaVuSans-83\"/>\r\n      </g>\r\n     </g>\r\n    </g>\r\n    <g id=\"ytick_9\">\r\n     <g id=\"line2d_22\">\r\n      <g>\r\n       <use style=\"stroke:#000000;stroke-width:0.8;\" x=\"177.525\" xlink:href=\"#ma75c350374\" y=\"153.171526\"/>\r\n      </g>\r\n     </g>\r\n     <g id=\"text_22\">\r\n      <!-- SOURCE_APP_BYTES -->\r\n      <g transform=\"translate(69.142188 156.882464)scale(0.1 -0.1)\">\r\n       <use xlink:href=\"#DejaVuSans-83\"/>\r\n       <use x=\"63.476562\" xlink:href=\"#DejaVuSans-79\"/>\r\n       <use x=\"142.1875\" xlink:href=\"#DejaVuSans-85\"/>\r\n       <use x=\"215.380859\" xlink:href=\"#DejaVuSans-82\"/>\r\n       <use x=\"279.863281\" xlink:href=\"#DejaVuSans-67\"/>\r\n       <use x=\"349.6875\" xlink:href=\"#DejaVuSans-69\"/>\r\n       <use x=\"412.871094\" xlink:href=\"#DejaVuSans-95\"/>\r\n       <use x=\"462.871094\" xlink:href=\"#DejaVuSans-65\"/>\r\n       <use x=\"531.279297\" xlink:href=\"#DejaVuSans-80\"/>\r\n       <use x=\"591.582031\" xlink:href=\"#DejaVuSans-80\"/>\r\n       <use x=\"651.884766\" xlink:href=\"#DejaVuSans-95\"/>\r\n       <use x=\"701.884766\" xlink:href=\"#DejaVuSans-66\"/>\r\n       <use x=\"764.988281\" xlink:href=\"#DejaVuSans-89\"/>\r\n       <use x=\"826.072266\" xlink:href=\"#DejaVuSans-84\"/>\r\n       <use x=\"887.15625\" xlink:href=\"#DejaVuSans-69\"/>\r\n       <use x=\"950.339844\" xlink:href=\"#DejaVuSans-83\"/>\r\n      </g>\r\n     </g>\r\n    </g>\r\n    <g id=\"ytick_10\">\r\n     <g id=\"line2d_23\">\r\n      <g>\r\n       <use style=\"stroke:#000000;stroke-width:0.8;\" x=\"177.525\" xlink:href=\"#ma75c350374\" y=\"169.89768\"/>\r\n      </g>\r\n     </g>\r\n     <g id=\"text_23\">\r\n      <!-- REMOTE_APP_BYTES -->\r\n      <g transform=\"translate(68.2375 173.608618)scale(0.1 -0.1)\">\r\n       <use xlink:href=\"#DejaVuSans-82\"/>\r\n       <use x=\"69.482422\" xlink:href=\"#DejaVuSans-69\"/>\r\n       <use x=\"132.666016\" xlink:href=\"#DejaVuSans-77\"/>\r\n       <use x=\"218.945312\" xlink:href=\"#DejaVuSans-79\"/>\r\n       <use x=\"297.65625\" xlink:href=\"#DejaVuSans-84\"/>\r\n       <use x=\"358.740234\" xlink:href=\"#DejaVuSans-69\"/>\r\n       <use x=\"421.923828\" xlink:href=\"#DejaVuSans-95\"/>\r\n       <use x=\"471.923828\" xlink:href=\"#DejaVuSans-65\"/>\r\n       <use x=\"540.332031\" xlink:href=\"#DejaVuSans-80\"/>\r\n       <use x=\"600.634766\" xlink:href=\"#DejaVuSans-80\"/>\r\n       <use x=\"660.9375\" xlink:href=\"#DejaVuSans-95\"/>\r\n       <use x=\"710.9375\" xlink:href=\"#DejaVuSans-66\"/>\r\n       <use x=\"774.041016\" xlink:href=\"#DejaVuSans-89\"/>\r\n       <use x=\"835.125\" xlink:href=\"#DejaVuSans-84\"/>\r\n       <use x=\"896.208984\" xlink:href=\"#DejaVuSans-69\"/>\r\n       <use x=\"959.392578\" xlink:href=\"#DejaVuSans-83\"/>\r\n      </g>\r\n     </g>\r\n    </g>\r\n    <g id=\"ytick_11\">\r\n     <g id=\"line2d_24\">\r\n      <g>\r\n       <use style=\"stroke:#000000;stroke-width:0.8;\" x=\"177.525\" xlink:href=\"#ma75c350374\" y=\"186.623834\"/>\r\n      </g>\r\n     </g>\r\n     <g id=\"text_24\">\r\n      <!-- APP_PACKETS -->\r\n      <g transform=\"translate(102.251563 190.334772)scale(0.1 -0.1)\">\r\n       <use xlink:href=\"#DejaVuSans-65\"/>\r\n       <use x=\"68.408203\" xlink:href=\"#DejaVuSans-80\"/>\r\n       <use x=\"128.710938\" xlink:href=\"#DejaVuSans-80\"/>\r\n       <use x=\"189.013672\" xlink:href=\"#DejaVuSans-95\"/>\r\n       <use x=\"239.013672\" xlink:href=\"#DejaVuSans-80\"/>\r\n       <use x=\"292.941406\" xlink:href=\"#DejaVuSans-65\"/>\r\n       <use x=\"359.599609\" xlink:href=\"#DejaVuSans-67\"/>\r\n       <use x=\"429.423828\" xlink:href=\"#DejaVuSans-75\"/>\r\n       <use x=\"495\" xlink:href=\"#DejaVuSans-69\"/>\r\n       <use x=\"558.183594\" xlink:href=\"#DejaVuSans-84\"/>\r\n       <use x=\"619.267578\" xlink:href=\"#DejaVuSans-83\"/>\r\n      </g>\r\n     </g>\r\n    </g>\r\n    <g id=\"ytick_12\">\r\n     <g id=\"line2d_25\">\r\n      <g>\r\n       <use style=\"stroke:#000000;stroke-width:0.8;\" x=\"177.525\" xlink:href=\"#ma75c350374\" y=\"203.349988\"/>\r\n      </g>\r\n     </g>\r\n     <g id=\"text_25\">\r\n      <!-- DNS_QUERY_TIMES -->\r\n      <g transform=\"translate(74.714062 207.060925)scale(0.1 -0.1)\">\r\n       <use xlink:href=\"#DejaVuSans-68\"/>\r\n       <use x=\"77.001953\" xlink:href=\"#DejaVuSans-78\"/>\r\n       <use x=\"151.806641\" xlink:href=\"#DejaVuSans-83\"/>\r\n       <use x=\"215.283203\" xlink:href=\"#DejaVuSans-95\"/>\r\n       <use x=\"265.283203\" xlink:href=\"#DejaVuSans-81\"/>\r\n       <use x=\"343.994141\" xlink:href=\"#DejaVuSans-85\"/>\r\n       <use x=\"417.1875\" xlink:href=\"#DejaVuSans-69\"/>\r\n       <use x=\"480.371094\" xlink:href=\"#DejaVuSans-82\"/>\r\n       <use x=\"543.478516\" xlink:href=\"#DejaVuSans-89\"/>\r\n       <use x=\"604.5625\" xlink:href=\"#DejaVuSans-95\"/>\r\n       <use x=\"654.5625\" xlink:href=\"#DejaVuSans-84\"/>\r\n       <use x=\"715.646484\" xlink:href=\"#DejaVuSans-73\"/>\r\n       <use x=\"745.138672\" xlink:href=\"#DejaVuSans-77\"/>\r\n       <use x=\"831.417969\" xlink:href=\"#DejaVuSans-69\"/>\r\n       <use x=\"894.601562\" xlink:href=\"#DejaVuSans-83\"/>\r\n      </g>\r\n     </g>\r\n    </g>\r\n    <g id=\"ytick_13\">\r\n     <g id=\"line2d_26\">\r\n      <g>\r\n       <use style=\"stroke:#000000;stroke-width:0.8;\" x=\"177.525\" xlink:href=\"#ma75c350374\" y=\"220.076142\"/>\r\n      </g>\r\n     </g>\r\n     <g id=\"text_26\">\r\n      <!-- Type -->\r\n      <g transform=\"translate(147.559375 223.875361)scale(0.1 -0.1)\">\r\n       <use xlink:href=\"#DejaVuSans-84\"/>\r\n       <use x=\"45.458984\" xlink:href=\"#DejaVuSans-121\"/>\r\n       <use x=\"104.638672\" xlink:href=\"#DejaVuSans-112\"/>\r\n       <use x=\"168.115234\" xlink:href=\"#DejaVuSans-101\"/>\r\n      </g>\r\n     </g>\r\n    </g>\r\n   </g>\r\n  </g>\r\n  <g id=\"axes_2\">\r\n   <g id=\"patch_3\">\r\n    <path clip-path=\"url(#p4e621529d2)\" d=\"M 462.105 228.439219 \r\nL 462.105 227.589844 \r\nL 462.105 11.848594 \r\nL 462.105 10.999219 \r\nL 472.977 10.999219 \r\nL 472.977 11.848594 \r\nL 472.977 227.589844 \r\nL 472.977 228.439219 \r\nz\r\n\" style=\"fill:#ffffff;stroke:#ffffff;stroke-linejoin:miter;stroke-width:0.01;\"/>\r\n   </g>\r\n   <image height=\"217\" id=\"imagea37fa1227c\" transform=\"scale(1 -1)translate(0 -217)\" width=\"11\" x=\"462\" xlink:href=\"data:image/png;base64,\r\niVBORw0KGgoAAAANSUhEUgAAAAsAAADZCAYAAAD2WsoCAAAABHNCSVQICAgIfAhkiAAAAS9JREFUaIHVmMENQyEMQwOfwTpah+i6n3SFvIMlm3MUGduYwPp8f13DdfZa09o6zwbFi3RGxQBFnVUqGIgNxLMJdc/eAAbjGcAwoc5F7nGpFIYuCpRyj2vrPAuYH2IGMEyoE8otyw2XDXqEOWODmD8xzHX3YOIGt0fWmVCXmHWRyR940Zvkc6Lc6IFgQt32mPlZ53EpfuIFJr9QbtnHgs78JlHAREFG6vHXV51633lx9wWdEQzSuS/qDIr7AjaUmFU8N5PbAzPqTHiGcltgZq4TRoEHZtSZbDAyvpjriNwm8YVEuUiUxChQZV1kfLEoQBZFRvKYkWRTgfB064ykO92Bckde9CzMVaebjZcmIzHJOpcnXuJFbzIjsblOJ7fFjCR80TOLepwUj98eYcgAnv8kUw7Ch9MONQAAAABJRU5ErkJggg==\" y=\"-10\"/>\r\n   <g id=\"matplotlib.axis_3\"/>\r\n   <g id=\"matplotlib.axis_4\">\r\n    <g id=\"ytick_14\">\r\n     <g id=\"line2d_27\">\r\n      <defs>\r\n       <path d=\"M 0 0 \r\nL 3.5 0 \r\n\" id=\"m6b0f3b4fc8\" style=\"stroke:#000000;stroke-width:0.8;\"/>\r\n      </defs>\r\n      <g>\r\n       <use style=\"stroke:#000000;stroke-width:0.8;\" x=\"472.977\" xlink:href=\"#m6b0f3b4fc8\" y=\"228.439219\"/>\r\n      </g>\r\n     </g>\r\n     <g id=\"text_27\">\r\n      <!-- −1.00 -->\r\n      <defs>\r\n       <path d=\"M 10.59375 35.5 \r\nL 73.1875 35.5 \r\nL 73.1875 27.203125 \r\nL 10.59375 27.203125 \r\nz\r\n\" id=\"DejaVuSans-8722\"/>\r\n       <path d=\"M 12.40625 8.296875 \r\nL 28.515625 8.296875 \r\nL 28.515625 63.921875 \r\nL 10.984375 60.40625 \r\nL 10.984375 69.390625 \r\nL 28.421875 72.90625 \r\nL 38.28125 72.90625 \r\nL 38.28125 8.296875 \r\nL 54.390625 8.296875 \r\nL 54.390625 0 \r\nL 12.40625 0 \r\nz\r\n\" id=\"DejaVuSans-49\"/>\r\n       <path d=\"M 10.6875 12.40625 \r\nL 21 12.40625 \r\nL 21 0 \r\nL 10.6875 0 \r\nz\r\n\" id=\"DejaVuSans-46\"/>\r\n       <path d=\"M 31.78125 66.40625 \r\nQ 24.171875 66.40625 20.328125 58.90625 \r\nQ 16.5 51.421875 16.5 36.375 \r\nQ 16.5 21.390625 20.328125 13.890625 \r\nQ 24.171875 6.390625 31.78125 6.390625 \r\nQ 39.453125 6.390625 43.28125 13.890625 \r\nQ 47.125 21.390625 47.125 36.375 \r\nQ 47.125 51.421875 43.28125 58.90625 \r\nQ 39.453125 66.40625 31.78125 66.40625 \r\nz\r\nM 31.78125 74.21875 \r\nQ 44.046875 74.21875 50.515625 64.515625 \r\nQ 56.984375 54.828125 56.984375 36.375 \r\nQ 56.984375 17.96875 50.515625 8.265625 \r\nQ 44.046875 -1.421875 31.78125 -1.421875 \r\nQ 19.53125 -1.421875 13.0625 8.265625 \r\nQ 6.59375 17.96875 6.59375 36.375 \r\nQ 6.59375 54.828125 13.0625 64.515625 \r\nQ 19.53125 74.21875 31.78125 74.21875 \r\nz\r\n\" id=\"DejaVuSans-48\"/>\r\n      </defs>\r\n      <g transform=\"translate(479.977 232.238437)scale(0.1 -0.1)\">\r\n       <use xlink:href=\"#DejaVuSans-8722\"/>\r\n       <use x=\"83.789062\" xlink:href=\"#DejaVuSans-49\"/>\r\n       <use x=\"147.412109\" xlink:href=\"#DejaVuSans-46\"/>\r\n       <use x=\"179.199219\" xlink:href=\"#DejaVuSans-48\"/>\r\n       <use x=\"242.822266\" xlink:href=\"#DejaVuSans-48\"/>\r\n      </g>\r\n     </g>\r\n    </g>\r\n    <g id=\"ytick_15\">\r\n     <g id=\"line2d_28\">\r\n      <g>\r\n       <use style=\"stroke:#000000;stroke-width:0.8;\" x=\"472.977\" xlink:href=\"#m6b0f3b4fc8\" y=\"201.259219\"/>\r\n      </g>\r\n     </g>\r\n     <g id=\"text_28\">\r\n      <!-- −0.75 -->\r\n      <defs>\r\n       <path d=\"M 8.203125 72.90625 \r\nL 55.078125 72.90625 \r\nL 55.078125 68.703125 \r\nL 28.609375 0 \r\nL 18.3125 0 \r\nL 43.21875 64.59375 \r\nL 8.203125 64.59375 \r\nz\r\n\" id=\"DejaVuSans-55\"/>\r\n       <path d=\"M 10.796875 72.90625 \r\nL 49.515625 72.90625 \r\nL 49.515625 64.59375 \r\nL 19.828125 64.59375 \r\nL 19.828125 46.734375 \r\nQ 21.96875 47.46875 24.109375 47.828125 \r\nQ 26.265625 48.1875 28.421875 48.1875 \r\nQ 40.625 48.1875 47.75 41.5 \r\nQ 54.890625 34.8125 54.890625 23.390625 \r\nQ 54.890625 11.625 47.5625 5.09375 \r\nQ 40.234375 -1.421875 26.90625 -1.421875 \r\nQ 22.3125 -1.421875 17.546875 -0.640625 \r\nQ 12.796875 0.140625 7.71875 1.703125 \r\nL 7.71875 11.625 \r\nQ 12.109375 9.234375 16.796875 8.0625 \r\nQ 21.484375 6.890625 26.703125 6.890625 \r\nQ 35.15625 6.890625 40.078125 11.328125 \r\nQ 45.015625 15.765625 45.015625 23.390625 \r\nQ 45.015625 31 40.078125 35.4375 \r\nQ 35.15625 39.890625 26.703125 39.890625 \r\nQ 22.75 39.890625 18.8125 39.015625 \r\nQ 14.890625 38.140625 10.796875 36.28125 \r\nz\r\n\" id=\"DejaVuSans-53\"/>\r\n      </defs>\r\n      <g transform=\"translate(479.977 205.058437)scale(0.1 -0.1)\">\r\n       <use xlink:href=\"#DejaVuSans-8722\"/>\r\n       <use x=\"83.789062\" xlink:href=\"#DejaVuSans-48\"/>\r\n       <use x=\"147.412109\" xlink:href=\"#DejaVuSans-46\"/>\r\n       <use x=\"179.199219\" xlink:href=\"#DejaVuSans-55\"/>\r\n       <use x=\"242.822266\" xlink:href=\"#DejaVuSans-53\"/>\r\n      </g>\r\n     </g>\r\n    </g>\r\n    <g id=\"ytick_16\">\r\n     <g id=\"line2d_29\">\r\n      <g>\r\n       <use style=\"stroke:#000000;stroke-width:0.8;\" x=\"472.977\" xlink:href=\"#m6b0f3b4fc8\" y=\"174.079219\"/>\r\n      </g>\r\n     </g>\r\n     <g id=\"text_29\">\r\n      <!-- −0.50 -->\r\n      <g transform=\"translate(479.977 177.878437)scale(0.1 -0.1)\">\r\n       <use xlink:href=\"#DejaVuSans-8722\"/>\r\n       <use x=\"83.789062\" xlink:href=\"#DejaVuSans-48\"/>\r\n       <use x=\"147.412109\" xlink:href=\"#DejaVuSans-46\"/>\r\n       <use x=\"179.199219\" xlink:href=\"#DejaVuSans-53\"/>\r\n       <use x=\"242.822266\" xlink:href=\"#DejaVuSans-48\"/>\r\n      </g>\r\n     </g>\r\n    </g>\r\n    <g id=\"ytick_17\">\r\n     <g id=\"line2d_30\">\r\n      <g>\r\n       <use style=\"stroke:#000000;stroke-width:0.8;\" x=\"472.977\" xlink:href=\"#m6b0f3b4fc8\" y=\"146.899219\"/>\r\n      </g>\r\n     </g>\r\n     <g id=\"text_30\">\r\n      <!-- −0.25 -->\r\n      <defs>\r\n       <path d=\"M 19.1875 8.296875 \r\nL 53.609375 8.296875 \r\nL 53.609375 0 \r\nL 7.328125 0 \r\nL 7.328125 8.296875 \r\nQ 12.9375 14.109375 22.625 23.890625 \r\nQ 32.328125 33.6875 34.8125 36.53125 \r\nQ 39.546875 41.84375 41.421875 45.53125 \r\nQ 43.3125 49.21875 43.3125 52.78125 \r\nQ 43.3125 58.59375 39.234375 62.25 \r\nQ 35.15625 65.921875 28.609375 65.921875 \r\nQ 23.96875 65.921875 18.8125 64.3125 \r\nQ 13.671875 62.703125 7.8125 59.421875 \r\nL 7.8125 69.390625 \r\nQ 13.765625 71.78125 18.9375 73 \r\nQ 24.125 74.21875 28.421875 74.21875 \r\nQ 39.75 74.21875 46.484375 68.546875 \r\nQ 53.21875 62.890625 53.21875 53.421875 \r\nQ 53.21875 48.921875 51.53125 44.890625 \r\nQ 49.859375 40.875 45.40625 35.40625 \r\nQ 44.1875 33.984375 37.640625 27.21875 \r\nQ 31.109375 20.453125 19.1875 8.296875 \r\nz\r\n\" id=\"DejaVuSans-50\"/>\r\n      </defs>\r\n      <g transform=\"translate(479.977 150.698437)scale(0.1 -0.1)\">\r\n       <use xlink:href=\"#DejaVuSans-8722\"/>\r\n       <use x=\"83.789062\" xlink:href=\"#DejaVuSans-48\"/>\r\n       <use x=\"147.412109\" xlink:href=\"#DejaVuSans-46\"/>\r\n       <use x=\"179.199219\" xlink:href=\"#DejaVuSans-50\"/>\r\n       <use x=\"242.822266\" xlink:href=\"#DejaVuSans-53\"/>\r\n      </g>\r\n     </g>\r\n    </g>\r\n    <g id=\"ytick_18\">\r\n     <g id=\"line2d_31\">\r\n      <g>\r\n       <use style=\"stroke:#000000;stroke-width:0.8;\" x=\"472.977\" xlink:href=\"#m6b0f3b4fc8\" y=\"119.719219\"/>\r\n      </g>\r\n     </g>\r\n     <g id=\"text_31\">\r\n      <!-- 0.00 -->\r\n      <g transform=\"translate(479.977 123.518438)scale(0.1 -0.1)\">\r\n       <use xlink:href=\"#DejaVuSans-48\"/>\r\n       <use x=\"63.623047\" xlink:href=\"#DejaVuSans-46\"/>\r\n       <use x=\"95.410156\" xlink:href=\"#DejaVuSans-48\"/>\r\n       <use x=\"159.033203\" xlink:href=\"#DejaVuSans-48\"/>\r\n      </g>\r\n     </g>\r\n    </g>\r\n    <g id=\"ytick_19\">\r\n     <g id=\"line2d_32\">\r\n      <g>\r\n       <use style=\"stroke:#000000;stroke-width:0.8;\" x=\"472.977\" xlink:href=\"#m6b0f3b4fc8\" y=\"92.539219\"/>\r\n      </g>\r\n     </g>\r\n     <g id=\"text_32\">\r\n      <!-- 0.25 -->\r\n      <g transform=\"translate(479.977 96.338437)scale(0.1 -0.1)\">\r\n       <use xlink:href=\"#DejaVuSans-48\"/>\r\n       <use x=\"63.623047\" xlink:href=\"#DejaVuSans-46\"/>\r\n       <use x=\"95.410156\" xlink:href=\"#DejaVuSans-50\"/>\r\n       <use x=\"159.033203\" xlink:href=\"#DejaVuSans-53\"/>\r\n      </g>\r\n     </g>\r\n    </g>\r\n    <g id=\"ytick_20\">\r\n     <g id=\"line2d_33\">\r\n      <g>\r\n       <use style=\"stroke:#000000;stroke-width:0.8;\" x=\"472.977\" xlink:href=\"#m6b0f3b4fc8\" y=\"65.359219\"/>\r\n      </g>\r\n     </g>\r\n     <g id=\"text_33\">\r\n      <!-- 0.50 -->\r\n      <g transform=\"translate(479.977 69.158437)scale(0.1 -0.1)\">\r\n       <use xlink:href=\"#DejaVuSans-48\"/>\r\n       <use x=\"63.623047\" xlink:href=\"#DejaVuSans-46\"/>\r\n       <use x=\"95.410156\" xlink:href=\"#DejaVuSans-53\"/>\r\n       <use x=\"159.033203\" xlink:href=\"#DejaVuSans-48\"/>\r\n      </g>\r\n     </g>\r\n    </g>\r\n    <g id=\"ytick_21\">\r\n     <g id=\"line2d_34\">\r\n      <g>\r\n       <use style=\"stroke:#000000;stroke-width:0.8;\" x=\"472.977\" xlink:href=\"#m6b0f3b4fc8\" y=\"38.179219\"/>\r\n      </g>\r\n     </g>\r\n     <g id=\"text_34\">\r\n      <!-- 0.75 -->\r\n      <g transform=\"translate(479.977 41.978438)scale(0.1 -0.1)\">\r\n       <use xlink:href=\"#DejaVuSans-48\"/>\r\n       <use x=\"63.623047\" xlink:href=\"#DejaVuSans-46\"/>\r\n       <use x=\"95.410156\" xlink:href=\"#DejaVuSans-55\"/>\r\n       <use x=\"159.033203\" xlink:href=\"#DejaVuSans-53\"/>\r\n      </g>\r\n     </g>\r\n    </g>\r\n    <g id=\"ytick_22\">\r\n     <g id=\"line2d_35\">\r\n      <g>\r\n       <use style=\"stroke:#000000;stroke-width:0.8;\" x=\"472.977\" xlink:href=\"#m6b0f3b4fc8\" y=\"10.999219\"/>\r\n      </g>\r\n     </g>\r\n     <g id=\"text_35\">\r\n      <!-- 1.00 -->\r\n      <g transform=\"translate(479.977 14.798437)scale(0.1 -0.1)\">\r\n       <use xlink:href=\"#DejaVuSans-49\"/>\r\n       <use x=\"63.623047\" xlink:href=\"#DejaVuSans-46\"/>\r\n       <use x=\"95.410156\" xlink:href=\"#DejaVuSans-48\"/>\r\n       <use x=\"159.033203\" xlink:href=\"#DejaVuSans-48\"/>\r\n      </g>\r\n     </g>\r\n    </g>\r\n   </g>\r\n   <g id=\"patch_4\">\r\n    <path d=\"M 462.105 228.439219 \r\nL 462.105 227.589844 \r\nL 462.105 11.848594 \r\nL 462.105 10.999219 \r\nL 472.977 10.999219 \r\nL 472.977 11.848594 \r\nL 472.977 227.589844 \r\nL 472.977 228.439219 \r\nz\r\n\" style=\"fill:none;\"/>\r\n   </g>\r\n  </g>\r\n </g>\r\n <defs>\r\n  <clipPath id=\"pe67749e1cb\">\r\n   <rect height=\"217.44\" width=\"267.84\" x=\"177.525\" y=\"10.999219\"/>\r\n  </clipPath>\r\n  <clipPath id=\"p4e621529d2\">\r\n   <rect height=\"217.44\" width=\"10.872\" x=\"462.105\" y=\"10.999219\"/>\r\n  </clipPath>\r\n </defs>\r\n</svg>\r\n",
      "image/png": "[encoded data removed]"
     },
     "metadata": {
      "needs_background": "light"
     }
    }
   ],
   "source": [
    "corrMatrix = websites_clean_numeric.corr()\n",
    "sns.heatmap(corrMatrix, cmap=cmap, vmax=1, vmin= -1)\n",
    "plt.show()"
   ]
  },
  {
   "cell_type": "markdown",
   "metadata": {},
   "source": [
    "# Challenge 2 - Remove Column Collinearity.\n",
    "\n",
    "From the heatmap you created, you should have seen at least 3 columns that can be removed due to high collinearity. Remove these columns from the dataset.\n",
    "\n",
    "Note that you should remove as few columns as you can. You don't have to remove all the columns at once. But instead, try removing one column, then produce the heatmap again to determine if additional columns should be removed. As long as the dataset no longer contains columns that are correlated for over 90%, you can stop. Also, keep in mind when two columns have high collinearity, you only need to remove one of them but not both.\n",
    "\n",
    "In the cells below, remove as few columns as you can to eliminate the high collinearity in the dataset. Make sure to comment on your way so that the instructional team can learn about your thinking process which allows them to give feedback. At the end, print the heatmap again."
   ]
  },
  {
   "cell_type": "code",
   "execution_count": 19,
   "metadata": {},
   "outputs": [],
   "source": [
    "# Your code here\n",
    "websites_clean_numeric = websites_clean_numeric.drop(columns= [\"URL_LENGTH\",\"SOURCE_APP_PACKETS\",\"REMOTE_APP_PACKETS\", \"APP_BYTES\"], axis=1)"
   ]
  },
  {
   "cell_type": "code",
   "execution_count": 20,
   "metadata": {},
   "outputs": [
    {
     "output_type": "execute_result",
     "data": {
      "text/plain": [
       "   NUMBER_SPECIAL_CHARACTERS  TCP_CONVERSATION_EXCHANGE  DIST_REMOTE_TCP_PORT  \\\n",
       "0                          7                          7                     0   \n",
       "1                          6                         17                     7   \n",
       "2                          6                          0                     0   \n",
       "3                          6                         31                    22   \n",
       "4                          6                         57                     2   \n",
       "\n",
       "   REMOTE_IPS  SOURCE_APP_BYTES  REMOTE_APP_BYTES  APP_PACKETS  \\\n",
       "0           2              1153               832            9   \n",
       "1           4              1265              1230           17   \n",
       "2           0                 0                 0            0   \n",
       "3           3             18784              4380           39   \n",
       "4           5            129889              4586           61   \n",
       "\n",
       "   DNS_QUERY_TIMES  Type  \n",
       "0              2.0     1  \n",
       "1              0.0     0  \n",
       "2              0.0     0  \n",
       "3              8.0     0  \n",
       "4              4.0     0  "
      ],
      "text/html": "<div>\n<style scoped>\n    .dataframe tbody tr th:only-of-type {\n        vertical-align: middle;\n    }\n\n    .dataframe tbody tr th {\n        vertical-align: top;\n    }\n\n    .dataframe thead th {\n        text-align: right;\n    }\n</style>\n<table border=\"1\" class=\"dataframe\">\n  <thead>\n    <tr style=\"text-align: right;\">\n      <th></th>\n      <th>NUMBER_SPECIAL_CHARACTERS</th>\n      <th>TCP_CONVERSATION_EXCHANGE</th>\n      <th>DIST_REMOTE_TCP_PORT</th>\n      <th>REMOTE_IPS</th>\n      <th>SOURCE_APP_BYTES</th>\n      <th>REMOTE_APP_BYTES</th>\n      <th>APP_PACKETS</th>\n      <th>DNS_QUERY_TIMES</th>\n      <th>Type</th>\n    </tr>\n  </thead>\n  <tbody>\n    <tr>\n      <th>0</th>\n      <td>7</td>\n      <td>7</td>\n      <td>0</td>\n      <td>2</td>\n      <td>1153</td>\n      <td>832</td>\n      <td>9</td>\n      <td>2.0</td>\n      <td>1</td>\n    </tr>\n    <tr>\n      <th>1</th>\n      <td>6</td>\n      <td>17</td>\n      <td>7</td>\n      <td>4</td>\n      <td>1265</td>\n      <td>1230</td>\n      <td>17</td>\n      <td>0.0</td>\n      <td>0</td>\n    </tr>\n    <tr>\n      <th>2</th>\n      <td>6</td>\n      <td>0</td>\n      <td>0</td>\n      <td>0</td>\n      <td>0</td>\n      <td>0</td>\n      <td>0</td>\n      <td>0.0</td>\n      <td>0</td>\n    </tr>\n    <tr>\n      <th>3</th>\n      <td>6</td>\n      <td>31</td>\n      <td>22</td>\n      <td>3</td>\n      <td>18784</td>\n      <td>4380</td>\n      <td>39</td>\n      <td>8.0</td>\n      <td>0</td>\n    </tr>\n    <tr>\n      <th>4</th>\n      <td>6</td>\n      <td>57</td>\n      <td>2</td>\n      <td>5</td>\n      <td>129889</td>\n      <td>4586</td>\n      <td>61</td>\n      <td>4.0</td>\n      <td>0</td>\n    </tr>\n  </tbody>\n</table>\n</div>"
     },
     "metadata": {},
     "execution_count": 20
    }
   ],
   "source": [
    "# Your comment here\n",
    "websites_clean_numeric.head()"
   ]
  },
  {
   "cell_type": "code",
   "execution_count": 21,
   "metadata": {},
   "outputs": [
    {
     "output_type": "display_data",
     "data": {
      "text/plain": "<Figure size 432x288 with 2 Axes>",
      "image/svg+xml": "<?xml version=\"1.0\" encoding=\"utf-8\" standalone=\"no\"?>\r\n<!DOCTYPE svg PUBLIC \"-//W3C//DTD SVG 1.1//EN\"\r\n  \"http://www.w3.org/Graphics/SVG/1.1/DTD/svg11.dtd\">\r\n<!-- Created with matplotlib (https://matplotlib.org/) -->\r\n<svg height=\"405.964219pt\" version=\"1.1\" viewBox=\"0 0 517.822312 405.964219\" width=\"517.822312pt\" xmlns=\"http://www.w3.org/2000/svg\" xmlns:xlink=\"http://www.w3.org/1999/xlink\">\r\n <defs>\r\n  <style type=\"text/css\">\r\n*{stroke-linecap:butt;stroke-linejoin:round;}\r\n  </style>\r\n </defs>\r\n <g id=\"figure_1\">\r\n  <g id=\"patch_1\">\r\n   <path d=\"M 0 405.964219 \r\nL 517.822312 405.964219 \r\nL 517.822312 0 \r\nL 0 0 \r\nz\r\n\" style=\"fill:none;\"/>\r\n  </g>\r\n  <g id=\"axes_1\">\r\n   <g id=\"patch_2\">\r\n    <path d=\"M 177.525 228.439219 \r\nL 445.365 228.439219 \r\nL 445.365 10.999219 \r\nL 177.525 10.999219 \r\nz\r\n\" style=\"fill:#ffffff;\"/>\r\n   </g>\r\n   <g id=\"QuadMesh_1\">\r\n    <path clip-path=\"url(#p5db74c8c37)\" d=\"M 177.525 10.999219 \r\nL 207.285 10.999219 \r\nL 207.285 35.159219 \r\nL 177.525 35.159219 \r\nL 177.525 10.999219 \r\n\" style=\"fill:#c3553a;\"/>\r\n    <path clip-path=\"url(#p5db74c8c37)\" d=\"M 207.285 10.999219 \r\nL 237.045 10.999219 \r\nL 237.045 35.159219 \r\nL 207.285 35.159219 \r\nL 207.285 10.999219 \r\n\" style=\"fill:#eaeef0;\"/>\r\n    <path clip-path=\"url(#p5db74c8c37)\" d=\"M 237.045 10.999219 \r\nL 266.805 10.999219 \r\nL 266.805 35.159219 \r\nL 237.045 35.159219 \r\nL 237.045 10.999219 \r\n\" style=\"fill:#e8edef;\"/>\r\n    <path clip-path=\"url(#p5db74c8c37)\" d=\"M 266.805 10.999219 \r\nL 296.565 10.999219 \r\nL 296.565 35.159219 \r\nL 266.805 35.159219 \r\nL 266.805 10.999219 \r\n\" style=\"fill:#e7ecee;\"/>\r\n    <path clip-path=\"url(#p5db74c8c37)\" d=\"M 296.565 10.999219 \r\nL 326.325 10.999219 \r\nL 326.325 35.159219 \r\nL 296.565 35.159219 \r\nL 296.565 10.999219 \r\n\" style=\"fill:#eef1f2;\"/>\r\n    <path clip-path=\"url(#p5db74c8c37)\" d=\"M 326.325 10.999219 \r\nL 356.085 10.999219 \r\nL 356.085 35.159219 \r\nL 326.325 35.159219 \r\nL 326.325 10.999219 \r\n\" style=\"fill:#ebeff0;\"/>\r\n    <path clip-path=\"url(#p5db74c8c37)\" d=\"M 356.085 10.999219 \r\nL 385.845 10.999219 \r\nL 385.845 35.159219 \r\nL 356.085 35.159219 \r\nL 356.085 10.999219 \r\n\" style=\"fill:#e8edef;\"/>\r\n    <path clip-path=\"url(#p5db74c8c37)\" d=\"M 385.845 10.999219 \r\nL 415.605 10.999219 \r\nL 415.605 35.159219 \r\nL 385.845 35.159219 \r\nL 385.845 10.999219 \r\n\" style=\"fill:#e7ecee;\"/>\r\n    <path clip-path=\"url(#p5db74c8c37)\" d=\"M 415.605 10.999219 \r\nL 445.365 10.999219 \r\nL 445.365 35.159219 \r\nL 415.605 35.159219 \r\nL 415.605 10.999219 \r\n\" style=\"fill:#e5c6be;\"/>\r\n    <path clip-path=\"url(#p5db74c8c37)\" d=\"M 177.525 35.159219 \r\nL 207.285 35.159219 \r\nL 207.285 59.319219 \r\nL 177.525 59.319219 \r\nL 177.525 35.159219 \r\n\" style=\"fill:#eaeef0;\"/>\r\n    <path clip-path=\"url(#p5db74c8c37)\" d=\"M 207.285 35.159219 \r\nL 237.045 35.159219 \r\nL 237.045 59.319219 \r\nL 207.285 59.319219 \r\nL 207.285 35.159219 \r\n\" style=\"fill:#c3553a;\"/>\r\n    <path clip-path=\"url(#p5db74c8c37)\" d=\"M 237.045 35.159219 \r\nL 266.805 35.159219 \r\nL 266.805 59.319219 \r\nL 237.045 59.319219 \r\nL 237.045 35.159219 \r\n\" style=\"fill:#d89a8a;\"/>\r\n    <path clip-path=\"url(#p5db74c8c37)\" d=\"M 266.805 35.159219 \r\nL 296.565 35.159219 \r\nL 296.565 59.319219 \r\nL 266.805 59.319219 \r\nL 266.805 35.159219 \r\n\" style=\"fill:#e3beb4;\"/>\r\n    <path clip-path=\"url(#p5db74c8c37)\" d=\"M 296.565 35.159219 \r\nL 326.325 35.159219 \r\nL 326.325 59.319219 \r\nL 296.565 59.319219 \r\nL 296.565 35.159219 \r\n\" style=\"fill:#c96a52;\"/>\r\n    <path clip-path=\"url(#p5db74c8c37)\" d=\"M 326.325 35.159219 \r\nL 356.085 35.159219 \r\nL 356.085 59.319219 \r\nL 326.325 59.319219 \r\nL 326.325 35.159219 \r\n\" style=\"fill:#ddaa9d;\"/>\r\n    <path clip-path=\"url(#p5db74c8c37)\" d=\"M 356.085 35.159219 \r\nL 385.845 35.159219 \r\nL 385.845 59.319219 \r\nL 356.085 59.319219 \r\nL 356.085 35.159219 \r\n\" style=\"fill:#c3553a;\"/>\r\n    <path clip-path=\"url(#p5db74c8c37)\" d=\"M 385.845 35.159219 \r\nL 415.605 35.159219 \r\nL 415.605 59.319219 \r\nL 385.845 59.319219 \r\nL 385.845 35.159219 \r\n\" style=\"fill:#e2bbb1;\"/>\r\n    <path clip-path=\"url(#p5db74c8c37)\" d=\"M 415.605 35.159219 \r\nL 445.365 35.159219 \r\nL 445.365 59.319219 \r\nL 415.605 59.319219 \r\nL 415.605 35.159219 \r\n\" style=\"fill:#e8edef;\"/>\r\n    <path clip-path=\"url(#p5db74c8c37)\" d=\"M 177.525 59.319219 \r\nL 207.285 59.319219 \r\nL 207.285 83.479219 \r\nL 177.525 83.479219 \r\nL 177.525 59.319219 \r\n\" style=\"fill:#e8edef;\"/>\r\n    <path clip-path=\"url(#p5db74c8c37)\" d=\"M 207.285 59.319219 \r\nL 237.045 59.319219 \r\nL 237.045 83.479219 \r\nL 207.285 83.479219 \r\nL 207.285 59.319219 \r\n\" style=\"fill:#d89a8a;\"/>\r\n    <path clip-path=\"url(#p5db74c8c37)\" d=\"M 237.045 59.319219 \r\nL 266.805 59.319219 \r\nL 266.805 83.479219 \r\nL 237.045 83.479219 \r\nL 237.045 59.319219 \r\n\" style=\"fill:#c3553a;\"/>\r\n    <path clip-path=\"url(#p5db74c8c37)\" d=\"M 266.805 59.319219 \r\nL 296.565 59.319219 \r\nL 296.565 83.479219 \r\nL 266.805 83.479219 \r\nL 266.805 59.319219 \r\n\" style=\"fill:#e9d1cb;\"/>\r\n    <path clip-path=\"url(#p5db74c8c37)\" d=\"M 296.565 59.319219 \r\nL 326.325 59.319219 \r\nL 326.325 83.479219 \r\nL 296.565 83.479219 \r\nL 296.565 59.319219 \r\n\" style=\"fill:#e3c0b7;\"/>\r\n    <path clip-path=\"url(#p5db74c8c37)\" d=\"M 326.325 59.319219 \r\nL 356.085 59.319219 \r\nL 356.085 83.479219 \r\nL 326.325 83.479219 \r\nL 326.325 59.319219 \r\n\" style=\"fill:#cd7862;\"/>\r\n    <path clip-path=\"url(#p5db74c8c37)\" d=\"M 356.085 59.319219 \r\nL 385.845 59.319219 \r\nL 385.845 83.479219 \r\nL 356.085 83.479219 \r\nL 356.085 59.319219 \r\n\" style=\"fill:#d89a8a;\"/>\r\n    <path clip-path=\"url(#p5db74c8c37)\" d=\"M 385.845 59.319219 \r\nL 415.605 59.319219 \r\nL 415.605 83.479219 \r\nL 385.845 83.479219 \r\nL 385.845 59.319219 \r\n\" style=\"fill:#e6c9c1;\"/>\r\n    <path clip-path=\"url(#p5db74c8c37)\" d=\"M 415.605 59.319219 \r\nL 445.365 59.319219 \r\nL 445.365 83.479219 \r\nL 415.605 83.479219 \r\nL 415.605 59.319219 \r\n\" style=\"fill:#e1e9eb;\"/>\r\n    <path clip-path=\"url(#p5db74c8c37)\" d=\"M 177.525 83.479219 \r\nL 207.285 83.479219 \r\nL 207.285 107.639219 \r\nL 177.525 107.639219 \r\nL 177.525 83.479219 \r\n\" style=\"fill:#e7ecee;\"/>\r\n    <path clip-path=\"url(#p5db74c8c37)\" d=\"M 207.285 83.479219 \r\nL 237.045 83.479219 \r\nL 237.045 107.639219 \r\nL 207.285 107.639219 \r\nL 207.285 83.479219 \r\n\" style=\"fill:#e3beb4;\"/>\r\n    <path clip-path=\"url(#p5db74c8c37)\" d=\"M 237.045 83.479219 \r\nL 266.805 83.479219 \r\nL 266.805 107.639219 \r\nL 237.045 107.639219 \r\nL 237.045 83.479219 \r\n\" style=\"fill:#e9d1cb;\"/>\r\n    <path clip-path=\"url(#p5db74c8c37)\" d=\"M 266.805 83.479219 \r\nL 296.565 83.479219 \r\nL 296.565 107.639219 \r\nL 266.805 107.639219 \r\nL 266.805 83.479219 \r\n\" style=\"fill:#c3553a;\"/>\r\n    <path clip-path=\"url(#p5db74c8c37)\" d=\"M 296.565 83.479219 \r\nL 326.325 83.479219 \r\nL 326.325 107.639219 \r\nL 296.565 107.639219 \r\nL 296.565 83.479219 \r\n\" style=\"fill:#ebd7d2;\"/>\r\n    <path clip-path=\"url(#p5db74c8c37)\" d=\"M 326.325 83.479219 \r\nL 356.085 83.479219 \r\nL 356.085 107.639219 \r\nL 326.325 107.639219 \r\nL 326.325 83.479219 \r\n\" style=\"fill:#f1edec;\"/>\r\n    <path clip-path=\"url(#p5db74c8c37)\" d=\"M 356.085 83.479219 \r\nL 385.845 83.479219 \r\nL 385.845 107.639219 \r\nL 356.085 107.639219 \r\nL 356.085 83.479219 \r\n\" style=\"fill:#e1b9af;\"/>\r\n    <path clip-path=\"url(#p5db74c8c37)\" d=\"M 385.845 83.479219 \r\nL 415.605 83.479219 \r\nL 415.605 107.639219 \r\nL 385.845 107.639219 \r\nL 385.845 83.479219 \r\n\" style=\"fill:#d89b8b;\"/>\r\n    <path clip-path=\"url(#p5db74c8c37)\" d=\"M 415.605 83.479219 \r\nL 445.365 83.479219 \r\nL 445.365 107.639219 \r\nL 415.605 107.639219 \r\nL 415.605 83.479219 \r\n\" style=\"fill:#e1e9eb;\"/>\r\n    <path clip-path=\"url(#p5db74c8c37)\" d=\"M 177.525 107.639219 \r\nL 207.285 107.639219 \r\nL 207.285 131.799219 \r\nL 177.525 131.799219 \r\nL 177.525 107.639219 \r\n\" style=\"fill:#eef1f2;\"/>\r\n    <path clip-path=\"url(#p5db74c8c37)\" d=\"M 207.285 107.639219 \r\nL 237.045 107.639219 \r\nL 237.045 131.799219 \r\nL 207.285 131.799219 \r\nL 207.285 107.639219 \r\n\" style=\"fill:#c96a52;\"/>\r\n    <path clip-path=\"url(#p5db74c8c37)\" d=\"M 237.045 107.639219 \r\nL 266.805 107.639219 \r\nL 266.805 131.799219 \r\nL 237.045 131.799219 \r\nL 237.045 107.639219 \r\n\" style=\"fill:#e3c0b7;\"/>\r\n    <path clip-path=\"url(#p5db74c8c37)\" d=\"M 266.805 107.639219 \r\nL 296.565 107.639219 \r\nL 296.565 131.799219 \r\nL 266.805 131.799219 \r\nL 266.805 107.639219 \r\n\" style=\"fill:#ebd7d2;\"/>\r\n    <path clip-path=\"url(#p5db74c8c37)\" d=\"M 296.565 107.639219 \r\nL 326.325 107.639219 \r\nL 326.325 131.799219 \r\nL 296.565 131.799219 \r\nL 296.565 107.639219 \r\n\" style=\"fill:#c3553a;\"/>\r\n    <path clip-path=\"url(#p5db74c8c37)\" d=\"M 326.325 107.639219 \r\nL 356.085 107.639219 \r\nL 356.085 131.799219 \r\nL 326.325 131.799219 \r\nL 326.325 107.639219 \r\n\" style=\"fill:#efe6e4;\"/>\r\n    <path clip-path=\"url(#p5db74c8c37)\" d=\"M 356.085 107.639219 \r\nL 385.845 107.639219 \r\nL 385.845 131.799219 \r\nL 356.085 131.799219 \r\nL 356.085 107.639219 \r\n\" style=\"fill:#c96b53;\"/>\r\n    <path clip-path=\"url(#p5db74c8c37)\" d=\"M 385.845 107.639219 \r\nL 415.605 107.639219 \r\nL 415.605 131.799219 \r\nL 385.845 131.799219 \r\nL 385.845 107.639219 \r\n\" style=\"fill:#e8d0ca;\"/>\r\n    <path clip-path=\"url(#p5db74c8c37)\" d=\"M 415.605 107.639219 \r\nL 445.365 107.639219 \r\nL 445.365 131.799219 \r\nL 415.605 131.799219 \r\nL 415.605 107.639219 \r\n\" style=\"fill:#e8edef;\"/>\r\n    <path clip-path=\"url(#p5db74c8c37)\" d=\"M 177.525 131.799219 \r\nL 207.285 131.799219 \r\nL 207.285 155.959219 \r\nL 177.525 155.959219 \r\nL 177.525 131.799219 \r\n\" style=\"fill:#ebeff0;\"/>\r\n    <path clip-path=\"url(#p5db74c8c37)\" d=\"M 207.285 131.799219 \r\nL 237.045 131.799219 \r\nL 237.045 155.959219 \r\nL 207.285 155.959219 \r\nL 207.285 131.799219 \r\n\" style=\"fill:#ddaa9d;\"/>\r\n    <path clip-path=\"url(#p5db74c8c37)\" d=\"M 237.045 131.799219 \r\nL 266.805 131.799219 \r\nL 266.805 155.959219 \r\nL 237.045 155.959219 \r\nL 237.045 131.799219 \r\n\" style=\"fill:#cd7862;\"/>\r\n    <path clip-path=\"url(#p5db74c8c37)\" d=\"M 266.805 131.799219 \r\nL 296.565 131.799219 \r\nL 296.565 155.959219 \r\nL 266.805 155.959219 \r\nL 266.805 131.799219 \r\n\" style=\"fill:#f1edec;\"/>\r\n    <path clip-path=\"url(#p5db74c8c37)\" d=\"M 296.565 131.799219 \r\nL 326.325 131.799219 \r\nL 326.325 155.959219 \r\nL 296.565 155.959219 \r\nL 296.565 131.799219 \r\n\" style=\"fill:#efe6e4;\"/>\r\n    <path clip-path=\"url(#p5db74c8c37)\" d=\"M 326.325 131.799219 \r\nL 356.085 131.799219 \r\nL 356.085 155.959219 \r\nL 326.325 155.959219 \r\nL 326.325 131.799219 \r\n\" style=\"fill:#c3553a;\"/>\r\n    <path clip-path=\"url(#p5db74c8c37)\" d=\"M 356.085 131.799219 \r\nL 385.845 131.799219 \r\nL 385.845 155.959219 \r\nL 356.085 155.959219 \r\nL 356.085 131.799219 \r\n\" style=\"fill:#ddab9f;\"/>\r\n    <path clip-path=\"url(#p5db74c8c37)\" d=\"M 385.845 131.799219 \r\nL 415.605 131.799219 \r\nL 415.605 155.959219 \r\nL 385.845 155.959219 \r\nL 385.845 131.799219 \r\n\" style=\"fill:#f2eeee;\"/>\r\n    <path clip-path=\"url(#p5db74c8c37)\" d=\"M 415.605 131.799219 \r\nL 445.365 131.799219 \r\nL 445.365 155.959219 \r\nL 415.605 155.959219 \r\nL 415.605 131.799219 \r\n\" style=\"fill:#eef1f2;\"/>\r\n    <path clip-path=\"url(#p5db74c8c37)\" d=\"M 177.525 155.959219 \r\nL 207.285 155.959219 \r\nL 207.285 180.119219 \r\nL 177.525 180.119219 \r\nL 177.525 155.959219 \r\n\" style=\"fill:#e8edef;\"/>\r\n    <path clip-path=\"url(#p5db74c8c37)\" d=\"M 207.285 155.959219 \r\nL 237.045 155.959219 \r\nL 237.045 180.119219 \r\nL 207.285 180.119219 \r\nL 207.285 155.959219 \r\n\" style=\"fill:#c3553a;\"/>\r\n    <path clip-path=\"url(#p5db74c8c37)\" d=\"M 237.045 155.959219 \r\nL 266.805 155.959219 \r\nL 266.805 180.119219 \r\nL 237.045 180.119219 \r\nL 237.045 155.959219 \r\n\" style=\"fill:#d89a8a;\"/>\r\n    <path clip-path=\"url(#p5db74c8c37)\" d=\"M 266.805 155.959219 \r\nL 296.565 155.959219 \r\nL 296.565 180.119219 \r\nL 266.805 180.119219 \r\nL 266.805 155.959219 \r\n\" style=\"fill:#e1b9af;\"/>\r\n    <path clip-path=\"url(#p5db74c8c37)\" d=\"M 296.565 155.959219 \r\nL 326.325 155.959219 \r\nL 326.325 180.119219 \r\nL 296.565 180.119219 \r\nL 296.565 155.959219 \r\n\" style=\"fill:#c96b53;\"/>\r\n    <path clip-path=\"url(#p5db74c8c37)\" d=\"M 326.325 155.959219 \r\nL 356.085 155.959219 \r\nL 356.085 180.119219 \r\nL 326.325 180.119219 \r\nL 326.325 155.959219 \r\n\" style=\"fill:#ddab9f;\"/>\r\n    <path clip-path=\"url(#p5db74c8c37)\" d=\"M 356.085 155.959219 \r\nL 385.845 155.959219 \r\nL 385.845 180.119219 \r\nL 356.085 180.119219 \r\nL 356.085 155.959219 \r\n\" style=\"fill:#c3553a;\"/>\r\n    <path clip-path=\"url(#p5db74c8c37)\" d=\"M 385.845 155.959219 \r\nL 415.605 155.959219 \r\nL 415.605 180.119219 \r\nL 385.845 180.119219 \r\nL 385.845 155.959219 \r\n\" style=\"fill:#dfb1a6;\"/>\r\n    <path clip-path=\"url(#p5db74c8c37)\" d=\"M 415.605 155.959219 \r\nL 445.365 155.959219 \r\nL 445.365 180.119219 \r\nL 415.605 180.119219 \r\nL 415.605 155.959219 \r\n\" style=\"fill:#eaeef0;\"/>\r\n    <path clip-path=\"url(#p5db74c8c37)\" d=\"M 177.525 180.119219 \r\nL 207.285 180.119219 \r\nL 207.285 204.279219 \r\nL 177.525 204.279219 \r\nL 177.525 180.119219 \r\n\" style=\"fill:#e7ecee;\"/>\r\n    <path clip-path=\"url(#p5db74c8c37)\" d=\"M 207.285 180.119219 \r\nL 237.045 180.119219 \r\nL 237.045 204.279219 \r\nL 207.285 204.279219 \r\nL 207.285 180.119219 \r\n\" style=\"fill:#e2bbb1;\"/>\r\n    <path clip-path=\"url(#p5db74c8c37)\" d=\"M 237.045 180.119219 \r\nL 266.805 180.119219 \r\nL 266.805 204.279219 \r\nL 237.045 204.279219 \r\nL 237.045 180.119219 \r\n\" style=\"fill:#e6c9c1;\"/>\r\n    <path clip-path=\"url(#p5db74c8c37)\" d=\"M 266.805 180.119219 \r\nL 296.565 180.119219 \r\nL 296.565 204.279219 \r\nL 266.805 204.279219 \r\nL 266.805 180.119219 \r\n\" style=\"fill:#d89b8b;\"/>\r\n    <path clip-path=\"url(#p5db74c8c37)\" d=\"M 296.565 180.119219 \r\nL 326.325 180.119219 \r\nL 326.325 204.279219 \r\nL 296.565 204.279219 \r\nL 296.565 180.119219 \r\n\" style=\"fill:#e8d0ca;\"/>\r\n    <path clip-path=\"url(#p5db74c8c37)\" d=\"M 326.325 180.119219 \r\nL 356.085 180.119219 \r\nL 356.085 204.279219 \r\nL 326.325 204.279219 \r\nL 326.325 180.119219 \r\n\" style=\"fill:#f2eeee;\"/>\r\n    <path clip-path=\"url(#p5db74c8c37)\" d=\"M 356.085 180.119219 \r\nL 385.845 180.119219 \r\nL 385.845 204.279219 \r\nL 356.085 204.279219 \r\nL 356.085 180.119219 \r\n\" style=\"fill:#dfb1a6;\"/>\r\n    <path clip-path=\"url(#p5db74c8c37)\" d=\"M 385.845 180.119219 \r\nL 415.605 180.119219 \r\nL 415.605 204.279219 \r\nL 385.845 204.279219 \r\nL 385.845 180.119219 \r\n\" style=\"fill:#c3553a;\"/>\r\n    <path clip-path=\"url(#p5db74c8c37)\" d=\"M 415.605 180.119219 \r\nL 445.365 180.119219 \r\nL 445.365 204.279219 \r\nL 415.605 204.279219 \r\nL 415.605 180.119219 \r\n\" style=\"fill:#efe7e5;\"/>\r\n    <path clip-path=\"url(#p5db74c8c37)\" d=\"M 177.525 204.279219 \r\nL 207.285 204.279219 \r\nL 207.285 228.439219 \r\nL 177.525 228.439219 \r\nL 177.525 204.279219 \r\n\" style=\"fill:#e5c6be;\"/>\r\n    <path clip-path=\"url(#p5db74c8c37)\" d=\"M 207.285 204.279219 \r\nL 237.045 204.279219 \r\nL 237.045 228.439219 \r\nL 207.285 228.439219 \r\nL 207.285 204.279219 \r\n\" style=\"fill:#e8edef;\"/>\r\n    <path clip-path=\"url(#p5db74c8c37)\" d=\"M 237.045 204.279219 \r\nL 266.805 204.279219 \r\nL 266.805 228.439219 \r\nL 237.045 228.439219 \r\nL 237.045 204.279219 \r\n\" style=\"fill:#e1e9eb;\"/>\r\n    <path clip-path=\"url(#p5db74c8c37)\" d=\"M 266.805 204.279219 \r\nL 296.565 204.279219 \r\nL 296.565 228.439219 \r\nL 266.805 228.439219 \r\nL 266.805 204.279219 \r\n\" style=\"fill:#e1e9eb;\"/>\r\n    <path clip-path=\"url(#p5db74c8c37)\" d=\"M 296.565 204.279219 \r\nL 326.325 204.279219 \r\nL 326.325 228.439219 \r\nL 296.565 228.439219 \r\nL 296.565 204.279219 \r\n\" style=\"fill:#e8edef;\"/>\r\n    <path clip-path=\"url(#p5db74c8c37)\" d=\"M 326.325 204.279219 \r\nL 356.085 204.279219 \r\nL 356.085 228.439219 \r\nL 326.325 228.439219 \r\nL 326.325 204.279219 \r\n\" style=\"fill:#eef1f2;\"/>\r\n    <path clip-path=\"url(#p5db74c8c37)\" d=\"M 356.085 204.279219 \r\nL 385.845 204.279219 \r\nL 385.845 228.439219 \r\nL 356.085 228.439219 \r\nL 356.085 204.279219 \r\n\" style=\"fill:#eaeef0;\"/>\r\n    <path clip-path=\"url(#p5db74c8c37)\" d=\"M 385.845 204.279219 \r\nL 415.605 204.279219 \r\nL 415.605 228.439219 \r\nL 385.845 228.439219 \r\nL 385.845 204.279219 \r\n\" style=\"fill:#efe7e5;\"/>\r\n    <path clip-path=\"url(#p5db74c8c37)\" d=\"M 415.605 204.279219 \r\nL 445.365 204.279219 \r\nL 445.365 228.439219 \r\nL 415.605 228.439219 \r\nL 415.605 204.279219 \r\n\" style=\"fill:#c3553a;\"/>\r\n   </g>\r\n   <g id=\"matplotlib.axis_1\">\r\n    <g id=\"xtick_1\">\r\n     <g id=\"line2d_1\">\r\n      <defs>\r\n       <path d=\"M 0 0 \r\nL 0 3.5 \r\n\" id=\"mab58e3fc2f\" style=\"stroke:#000000;stroke-width:0.8;\"/>\r\n      </defs>\r\n      <g>\r\n       <use style=\"stroke:#000000;stroke-width:0.8;\" x=\"192.405\" xlink:href=\"#mab58e3fc2f\" y=\"228.439219\"/>\r\n      </g>\r\n     </g>\r\n     <g id=\"text_1\">\r\n      <!-- NUMBER_SPECIAL_CHARACTERS -->\r\n      <defs>\r\n       <path d=\"M 9.8125 72.90625 \r\nL 23.09375 72.90625 \r\nL 55.421875 11.921875 \r\nL 55.421875 72.90625 \r\nL 64.984375 72.90625 \r\nL 64.984375 0 \r\nL 51.703125 0 \r\nL 19.390625 60.984375 \r\nL 19.390625 0 \r\nL 9.8125 0 \r\nz\r\n\" id=\"DejaVuSans-78\"/>\r\n       <path d=\"M 8.6875 72.90625 \r\nL 18.609375 72.90625 \r\nL 18.609375 28.609375 \r\nQ 18.609375 16.890625 22.84375 11.734375 \r\nQ 27.09375 6.59375 36.625 6.59375 \r\nQ 46.09375 6.59375 50.34375 11.734375 \r\nQ 54.59375 16.890625 54.59375 28.609375 \r\nL 54.59375 72.90625 \r\nL 64.5 72.90625 \r\nL 64.5 27.390625 \r\nQ 64.5 13.140625 57.4375 5.859375 \r\nQ 50.390625 -1.421875 36.625 -1.421875 \r\nQ 22.796875 -1.421875 15.734375 5.859375 \r\nQ 8.6875 13.140625 8.6875 27.390625 \r\nz\r\n\" id=\"DejaVuSans-85\"/>\r\n       <path d=\"M 9.8125 72.90625 \r\nL 24.515625 72.90625 \r\nL 43.109375 23.296875 \r\nL 61.8125 72.90625 \r\nL 76.515625 72.90625 \r\nL 76.515625 0 \r\nL 66.890625 0 \r\nL 66.890625 64.015625 \r\nL 48.09375 14.015625 \r\nL 38.1875 14.015625 \r\nL 19.390625 64.015625 \r\nL 19.390625 0 \r\nL 9.8125 0 \r\nz\r\n\" id=\"DejaVuSans-77\"/>\r\n       <path d=\"M 19.671875 34.8125 \r\nL 19.671875 8.109375 \r\nL 35.5 8.109375 \r\nQ 43.453125 8.109375 47.28125 11.40625 \r\nQ 51.125 14.703125 51.125 21.484375 \r\nQ 51.125 28.328125 47.28125 31.5625 \r\nQ 43.453125 34.8125 35.5 34.8125 \r\nz\r\nM 19.671875 64.796875 \r\nL 19.671875 42.828125 \r\nL 34.28125 42.828125 \r\nQ 41.5 42.828125 45.03125 45.53125 \r\nQ 48.578125 48.25 48.578125 53.8125 \r\nQ 48.578125 59.328125 45.03125 62.0625 \r\nQ 41.5 64.796875 34.28125 64.796875 \r\nz\r\nM 9.8125 72.90625 \r\nL 35.015625 72.90625 \r\nQ 46.296875 72.90625 52.390625 68.21875 \r\nQ 58.5 63.53125 58.5 54.890625 \r\nQ 58.5 48.1875 55.375 44.234375 \r\nQ 52.25 40.28125 46.1875 39.3125 \r\nQ 53.46875 37.75 57.5 32.78125 \r\nQ 61.53125 27.828125 61.53125 20.40625 \r\nQ 61.53125 10.640625 54.890625 5.3125 \r\nQ 48.25 0 35.984375 0 \r\nL 9.8125 0 \r\nz\r\n\" id=\"DejaVuSans-66\"/>\r\n       <path d=\"M 9.8125 72.90625 \r\nL 55.90625 72.90625 \r\nL 55.90625 64.59375 \r\nL 19.671875 64.59375 \r\nL 19.671875 43.015625 \r\nL 54.390625 43.015625 \r\nL 54.390625 34.71875 \r\nL 19.671875 34.71875 \r\nL 19.671875 8.296875 \r\nL 56.78125 8.296875 \r\nL 56.78125 0 \r\nL 9.8125 0 \r\nz\r\n\" id=\"DejaVuSans-69\"/>\r\n       <path d=\"M 44.390625 34.1875 \r\nQ 47.5625 33.109375 50.5625 29.59375 \r\nQ 53.5625 26.078125 56.59375 19.921875 \r\nL 66.609375 0 \r\nL 56 0 \r\nL 46.6875 18.703125 \r\nQ 43.0625 26.03125 39.671875 28.421875 \r\nQ 36.28125 30.8125 30.421875 30.8125 \r\nL 19.671875 30.8125 \r\nL 19.671875 0 \r\nL 9.8125 0 \r\nL 9.8125 72.90625 \r\nL 32.078125 72.90625 \r\nQ 44.578125 72.90625 50.734375 67.671875 \r\nQ 56.890625 62.453125 56.890625 51.90625 \r\nQ 56.890625 45.015625 53.6875 40.46875 \r\nQ 50.484375 35.9375 44.390625 34.1875 \r\nz\r\nM 19.671875 64.796875 \r\nL 19.671875 38.921875 \r\nL 32.078125 38.921875 \r\nQ 39.203125 38.921875 42.84375 42.21875 \r\nQ 46.484375 45.515625 46.484375 51.90625 \r\nQ 46.484375 58.296875 42.84375 61.546875 \r\nQ 39.203125 64.796875 32.078125 64.796875 \r\nz\r\n\" id=\"DejaVuSans-82\"/>\r\n       <path d=\"M 50.984375 -16.609375 \r\nL 50.984375 -23.578125 \r\nL -0.984375 -23.578125 \r\nL -0.984375 -16.609375 \r\nz\r\n\" id=\"DejaVuSans-95\"/>\r\n       <path d=\"M 53.515625 70.515625 \r\nL 53.515625 60.890625 \r\nQ 47.90625 63.578125 42.921875 64.890625 \r\nQ 37.9375 66.21875 33.296875 66.21875 \r\nQ 25.25 66.21875 20.875 63.09375 \r\nQ 16.5 59.96875 16.5 54.203125 \r\nQ 16.5 49.359375 19.40625 46.890625 \r\nQ 22.3125 44.4375 30.421875 42.921875 \r\nL 36.375 41.703125 \r\nQ 47.40625 39.59375 52.65625 34.296875 \r\nQ 57.90625 29 57.90625 20.125 \r\nQ 57.90625 9.515625 50.796875 4.046875 \r\nQ 43.703125 -1.421875 29.984375 -1.421875 \r\nQ 24.8125 -1.421875 18.96875 -0.25 \r\nQ 13.140625 0.921875 6.890625 3.21875 \r\nL 6.890625 13.375 \r\nQ 12.890625 10.015625 18.65625 8.296875 \r\nQ 24.421875 6.59375 29.984375 6.59375 \r\nQ 38.421875 6.59375 43.015625 9.90625 \r\nQ 47.609375 13.234375 47.609375 19.390625 \r\nQ 47.609375 24.75 44.3125 27.78125 \r\nQ 41.015625 30.8125 33.5 32.328125 \r\nL 27.484375 33.5 \r\nQ 16.453125 35.6875 11.515625 40.375 \r\nQ 6.59375 45.0625 6.59375 53.421875 \r\nQ 6.59375 63.09375 13.40625 68.65625 \r\nQ 20.21875 74.21875 32.171875 74.21875 \r\nQ 37.3125 74.21875 42.625 73.28125 \r\nQ 47.953125 72.359375 53.515625 70.515625 \r\nz\r\n\" id=\"DejaVuSans-83\"/>\r\n       <path d=\"M 19.671875 64.796875 \r\nL 19.671875 37.40625 \r\nL 32.078125 37.40625 \r\nQ 38.96875 37.40625 42.71875 40.96875 \r\nQ 46.484375 44.53125 46.484375 51.125 \r\nQ 46.484375 57.671875 42.71875 61.234375 \r\nQ 38.96875 64.796875 32.078125 64.796875 \r\nz\r\nM 9.8125 72.90625 \r\nL 32.078125 72.90625 \r\nQ 44.34375 72.90625 50.609375 67.359375 \r\nQ 56.890625 61.8125 56.890625 51.125 \r\nQ 56.890625 40.328125 50.609375 34.8125 \r\nQ 44.34375 29.296875 32.078125 29.296875 \r\nL 19.671875 29.296875 \r\nL 19.671875 0 \r\nL 9.8125 0 \r\nz\r\n\" id=\"DejaVuSans-80\"/>\r\n       <path d=\"M 64.40625 67.28125 \r\nL 64.40625 56.890625 \r\nQ 59.421875 61.53125 53.78125 63.8125 \r\nQ 48.140625 66.109375 41.796875 66.109375 \r\nQ 29.296875 66.109375 22.65625 58.46875 \r\nQ 16.015625 50.828125 16.015625 36.375 \r\nQ 16.015625 21.96875 22.65625 14.328125 \r\nQ 29.296875 6.6875 41.796875 6.6875 \r\nQ 48.140625 6.6875 53.78125 8.984375 \r\nQ 59.421875 11.28125 64.40625 15.921875 \r\nL 64.40625 5.609375 \r\nQ 59.234375 2.09375 53.4375 0.328125 \r\nQ 47.65625 -1.421875 41.21875 -1.421875 \r\nQ 24.65625 -1.421875 15.125 8.703125 \r\nQ 5.609375 18.84375 5.609375 36.375 \r\nQ 5.609375 53.953125 15.125 64.078125 \r\nQ 24.65625 74.21875 41.21875 74.21875 \r\nQ 47.75 74.21875 53.53125 72.484375 \r\nQ 59.328125 70.75 64.40625 67.28125 \r\nz\r\n\" id=\"DejaVuSans-67\"/>\r\n       <path d=\"M 9.8125 72.90625 \r\nL 19.671875 72.90625 \r\nL 19.671875 0 \r\nL 9.8125 0 \r\nz\r\n\" id=\"DejaVuSans-73\"/>\r\n       <path d=\"M 34.1875 63.1875 \r\nL 20.796875 26.90625 \r\nL 47.609375 26.90625 \r\nz\r\nM 28.609375 72.90625 \r\nL 39.796875 72.90625 \r\nL 67.578125 0 \r\nL 57.328125 0 \r\nL 50.6875 18.703125 \r\nL 17.828125 18.703125 \r\nL 11.1875 0 \r\nL 0.78125 0 \r\nz\r\n\" id=\"DejaVuSans-65\"/>\r\n       <path d=\"M 9.8125 72.90625 \r\nL 19.671875 72.90625 \r\nL 19.671875 8.296875 \r\nL 55.171875 8.296875 \r\nL 55.171875 0 \r\nL 9.8125 0 \r\nz\r\n\" id=\"DejaVuSans-76\"/>\r\n       <path d=\"M 9.8125 72.90625 \r\nL 19.671875 72.90625 \r\nL 19.671875 43.015625 \r\nL 55.515625 43.015625 \r\nL 55.515625 72.90625 \r\nL 65.375 72.90625 \r\nL 65.375 0 \r\nL 55.515625 0 \r\nL 55.515625 34.71875 \r\nL 19.671875 34.71875 \r\nL 19.671875 0 \r\nL 9.8125 0 \r\nz\r\n\" id=\"DejaVuSans-72\"/>\r\n       <path d=\"M -0.296875 72.90625 \r\nL 61.375 72.90625 \r\nL 61.375 64.59375 \r\nL 35.5 64.59375 \r\nL 35.5 0 \r\nL 25.59375 0 \r\nL 25.59375 64.59375 \r\nL -0.296875 64.59375 \r\nz\r\n\" id=\"DejaVuSans-84\"/>\r\n      </defs>\r\n      <g transform=\"translate(194.937031 397.301719)rotate(-90)scale(0.1 -0.1)\">\r\n       <use xlink:href=\"#DejaVuSans-78\"/>\r\n       <use x=\"74.804688\" xlink:href=\"#DejaVuSans-85\"/>\r\n       <use x=\"147.998047\" xlink:href=\"#DejaVuSans-77\"/>\r\n       <use x=\"234.277344\" xlink:href=\"#DejaVuSans-66\"/>\r\n       <use x=\"302.880859\" xlink:href=\"#DejaVuSans-69\"/>\r\n       <use x=\"366.064453\" xlink:href=\"#DejaVuSans-82\"/>\r\n       <use x=\"435.546875\" xlink:href=\"#DejaVuSans-95\"/>\r\n       <use x=\"485.546875\" xlink:href=\"#DejaVuSans-83\"/>\r\n       <use x=\"549.023438\" xlink:href=\"#DejaVuSans-80\"/>\r\n       <use x=\"609.326172\" xlink:href=\"#DejaVuSans-69\"/>\r\n       <use x=\"672.509766\" xlink:href=\"#DejaVuSans-67\"/>\r\n       <use x=\"742.333984\" xlink:href=\"#DejaVuSans-73\"/>\r\n       <use x=\"771.826172\" xlink:href=\"#DejaVuSans-65\"/>\r\n       <use x=\"840.234375\" xlink:href=\"#DejaVuSans-76\"/>\r\n       <use x=\"895.947266\" xlink:href=\"#DejaVuSans-95\"/>\r\n       <use x=\"945.947266\" xlink:href=\"#DejaVuSans-67\"/>\r\n       <use x=\"1015.771484\" xlink:href=\"#DejaVuSans-72\"/>\r\n       <use x=\"1090.966797\" xlink:href=\"#DejaVuSans-65\"/>\r\n       <use x=\"1159.375\" xlink:href=\"#DejaVuSans-82\"/>\r\n       <use x=\"1224.857422\" xlink:href=\"#DejaVuSans-65\"/>\r\n       <use x=\"1291.515625\" xlink:href=\"#DejaVuSans-67\"/>\r\n       <use x=\"1361.339844\" xlink:href=\"#DejaVuSans-84\"/>\r\n       <use x=\"1422.423828\" xlink:href=\"#DejaVuSans-69\"/>\r\n       <use x=\"1485.607422\" xlink:href=\"#DejaVuSans-82\"/>\r\n       <use x=\"1555.089844\" xlink:href=\"#DejaVuSans-83\"/>\r\n      </g>\r\n     </g>\r\n    </g>\r\n    <g id=\"xtick_2\">\r\n     <g id=\"line2d_2\">\r\n      <g>\r\n       <use style=\"stroke:#000000;stroke-width:0.8;\" x=\"222.165\" xlink:href=\"#mab58e3fc2f\" y=\"228.439219\"/>\r\n      </g>\r\n     </g>\r\n     <g id=\"text_2\">\r\n      <!-- TCP_CONVERSATION_EXCHANGE -->\r\n      <defs>\r\n       <path d=\"M 39.40625 66.21875 \r\nQ 28.65625 66.21875 22.328125 58.203125 \r\nQ 16.015625 50.203125 16.015625 36.375 \r\nQ 16.015625 22.609375 22.328125 14.59375 \r\nQ 28.65625 6.59375 39.40625 6.59375 \r\nQ 50.140625 6.59375 56.421875 14.59375 \r\nQ 62.703125 22.609375 62.703125 36.375 \r\nQ 62.703125 50.203125 56.421875 58.203125 \r\nQ 50.140625 66.21875 39.40625 66.21875 \r\nz\r\nM 39.40625 74.21875 \r\nQ 54.734375 74.21875 63.90625 63.9375 \r\nQ 73.09375 53.65625 73.09375 36.375 \r\nQ 73.09375 19.140625 63.90625 8.859375 \r\nQ 54.734375 -1.421875 39.40625 -1.421875 \r\nQ 24.03125 -1.421875 14.8125 8.828125 \r\nQ 5.609375 19.09375 5.609375 36.375 \r\nQ 5.609375 53.65625 14.8125 63.9375 \r\nQ 24.03125 74.21875 39.40625 74.21875 \r\nz\r\n\" id=\"DejaVuSans-79\"/>\r\n       <path d=\"M 28.609375 0 \r\nL 0.78125 72.90625 \r\nL 11.078125 72.90625 \r\nL 34.1875 11.53125 \r\nL 57.328125 72.90625 \r\nL 67.578125 72.90625 \r\nL 39.796875 0 \r\nz\r\n\" id=\"DejaVuSans-86\"/>\r\n       <path d=\"M 6.296875 72.90625 \r\nL 16.890625 72.90625 \r\nL 35.015625 45.796875 \r\nL 53.21875 72.90625 \r\nL 63.8125 72.90625 \r\nL 40.375 37.890625 \r\nL 65.375 0 \r\nL 54.78125 0 \r\nL 34.28125 31 \r\nL 13.625 0 \r\nL 2.984375 0 \r\nL 29 38.921875 \r\nz\r\n\" id=\"DejaVuSans-88\"/>\r\n       <path d=\"M 59.515625 10.40625 \r\nL 59.515625 29.984375 \r\nL 43.40625 29.984375 \r\nL 43.40625 38.09375 \r\nL 69.28125 38.09375 \r\nL 69.28125 6.78125 \r\nQ 63.578125 2.734375 56.6875 0.65625 \r\nQ 49.8125 -1.421875 42 -1.421875 \r\nQ 24.90625 -1.421875 15.25 8.5625 \r\nQ 5.609375 18.5625 5.609375 36.375 \r\nQ 5.609375 54.25 15.25 64.234375 \r\nQ 24.90625 74.21875 42 74.21875 \r\nQ 49.125 74.21875 55.546875 72.453125 \r\nQ 61.96875 70.703125 67.390625 67.28125 \r\nL 67.390625 56.78125 \r\nQ 61.921875 61.421875 55.765625 63.765625 \r\nQ 49.609375 66.109375 42.828125 66.109375 \r\nQ 29.4375 66.109375 22.71875 58.640625 \r\nQ 16.015625 51.171875 16.015625 36.375 \r\nQ 16.015625 21.625 22.71875 14.15625 \r\nQ 29.4375 6.6875 42.828125 6.6875 \r\nQ 48.046875 6.6875 52.140625 7.59375 \r\nQ 56.25 8.5 59.515625 10.40625 \r\nz\r\n\" id=\"DejaVuSans-71\"/>\r\n      </defs>\r\n      <g transform=\"translate(224.697031 398.764219)rotate(-90)scale(0.1 -0.1)\">\r\n       <use xlink:href=\"#DejaVuSans-84\"/>\r\n       <use x=\"55.208984\" xlink:href=\"#DejaVuSans-67\"/>\r\n       <use x=\"125.033203\" xlink:href=\"#DejaVuSans-80\"/>\r\n       <use x=\"185.335938\" xlink:href=\"#DejaVuSans-95\"/>\r\n       <use x=\"235.335938\" xlink:href=\"#DejaVuSans-67\"/>\r\n       <use x=\"305.160156\" xlink:href=\"#DejaVuSans-79\"/>\r\n       <use x=\"383.871094\" xlink:href=\"#DejaVuSans-78\"/>\r\n       <use x=\"458.675781\" xlink:href=\"#DejaVuSans-86\"/>\r\n       <use x=\"527.083984\" xlink:href=\"#DejaVuSans-69\"/>\r\n       <use x=\"590.267578\" xlink:href=\"#DejaVuSans-82\"/>\r\n       <use x=\"659.75\" xlink:href=\"#DejaVuSans-83\"/>\r\n       <use x=\"725.101562\" xlink:href=\"#DejaVuSans-65\"/>\r\n       <use x=\"785.759766\" xlink:href=\"#DejaVuSans-84\"/>\r\n       <use x=\"846.84375\" xlink:href=\"#DejaVuSans-73\"/>\r\n       <use x=\"876.335938\" xlink:href=\"#DejaVuSans-79\"/>\r\n       <use x=\"955.046875\" xlink:href=\"#DejaVuSans-78\"/>\r\n       <use x=\"1029.851562\" xlink:href=\"#DejaVuSans-95\"/>\r\n       <use x=\"1079.851562\" xlink:href=\"#DejaVuSans-69\"/>\r\n       <use x=\"1143.035156\" xlink:href=\"#DejaVuSans-88\"/>\r\n       <use x=\"1204.291016\" xlink:href=\"#DejaVuSans-67\"/>\r\n       <use x=\"1274.115234\" xlink:href=\"#DejaVuSans-72\"/>\r\n       <use x=\"1349.310547\" xlink:href=\"#DejaVuSans-65\"/>\r\n       <use x=\"1417.71875\" xlink:href=\"#DejaVuSans-78\"/>\r\n       <use x=\"1492.523438\" xlink:href=\"#DejaVuSans-71\"/>\r\n       <use x=\"1570.013672\" xlink:href=\"#DejaVuSans-69\"/>\r\n      </g>\r\n     </g>\r\n    </g>\r\n    <g id=\"xtick_3\">\r\n     <g id=\"line2d_3\">\r\n      <g>\r\n       <use style=\"stroke:#000000;stroke-width:0.8;\" x=\"251.925\" xlink:href=\"#mab58e3fc2f\" y=\"228.439219\"/>\r\n      </g>\r\n     </g>\r\n     <g id=\"text_3\">\r\n      <!-- DIST_REMOTE_TCP_PORT -->\r\n      <defs>\r\n       <path d=\"M 19.671875 64.796875 \r\nL 19.671875 8.109375 \r\nL 31.59375 8.109375 \r\nQ 46.6875 8.109375 53.6875 14.9375 \r\nQ 60.6875 21.78125 60.6875 36.53125 \r\nQ 60.6875 51.171875 53.6875 57.984375 \r\nQ 46.6875 64.796875 31.59375 64.796875 \r\nz\r\nM 9.8125 72.90625 \r\nL 30.078125 72.90625 \r\nQ 51.265625 72.90625 61.171875 64.09375 \r\nQ 71.09375 55.28125 71.09375 36.53125 \r\nQ 71.09375 17.671875 61.125 8.828125 \r\nQ 51.171875 0 30.078125 0 \r\nL 9.8125 0 \r\nz\r\n\" id=\"DejaVuSans-68\"/>\r\n      </defs>\r\n      <g transform=\"translate(254.457031 360.504844)rotate(-90)scale(0.1 -0.1)\">\r\n       <use xlink:href=\"#DejaVuSans-68\"/>\r\n       <use x=\"77.001953\" xlink:href=\"#DejaVuSans-73\"/>\r\n       <use x=\"106.494141\" xlink:href=\"#DejaVuSans-83\"/>\r\n       <use x=\"169.970703\" xlink:href=\"#DejaVuSans-84\"/>\r\n       <use x=\"231.054688\" xlink:href=\"#DejaVuSans-95\"/>\r\n       <use x=\"281.054688\" xlink:href=\"#DejaVuSans-82\"/>\r\n       <use x=\"350.537109\" xlink:href=\"#DejaVuSans-69\"/>\r\n       <use x=\"413.720703\" xlink:href=\"#DejaVuSans-77\"/>\r\n       <use x=\"500\" xlink:href=\"#DejaVuSans-79\"/>\r\n       <use x=\"578.710938\" xlink:href=\"#DejaVuSans-84\"/>\r\n       <use x=\"639.794922\" xlink:href=\"#DejaVuSans-69\"/>\r\n       <use x=\"702.978516\" xlink:href=\"#DejaVuSans-95\"/>\r\n       <use x=\"752.978516\" xlink:href=\"#DejaVuSans-84\"/>\r\n       <use x=\"808.1875\" xlink:href=\"#DejaVuSans-67\"/>\r\n       <use x=\"878.011719\" xlink:href=\"#DejaVuSans-80\"/>\r\n       <use x=\"938.314453\" xlink:href=\"#DejaVuSans-95\"/>\r\n       <use x=\"988.314453\" xlink:href=\"#DejaVuSans-80\"/>\r\n       <use x=\"1048.617188\" xlink:href=\"#DejaVuSans-79\"/>\r\n       <use x=\"1127.328125\" xlink:href=\"#DejaVuSans-82\"/>\r\n       <use x=\"1189.560547\" xlink:href=\"#DejaVuSans-84\"/>\r\n      </g>\r\n     </g>\r\n    </g>\r\n    <g id=\"xtick_4\">\r\n     <g id=\"line2d_4\">\r\n      <g>\r\n       <use style=\"stroke:#000000;stroke-width:0.8;\" x=\"281.685\" xlink:href=\"#mab58e3fc2f\" y=\"228.439219\"/>\r\n      </g>\r\n     </g>\r\n     <g id=\"text_4\">\r\n      <!-- REMOTE_IPS -->\r\n      <g transform=\"translate(284.217031 297.961094)rotate(-90)scale(0.1 -0.1)\">\r\n       <use xlink:href=\"#DejaVuSans-82\"/>\r\n       <use x=\"69.482422\" xlink:href=\"#DejaVuSans-69\"/>\r\n       <use x=\"132.666016\" xlink:href=\"#DejaVuSans-77\"/>\r\n       <use x=\"218.945312\" xlink:href=\"#DejaVuSans-79\"/>\r\n       <use x=\"297.65625\" xlink:href=\"#DejaVuSans-84\"/>\r\n       <use x=\"358.740234\" xlink:href=\"#DejaVuSans-69\"/>\r\n       <use x=\"421.923828\" xlink:href=\"#DejaVuSans-95\"/>\r\n       <use x=\"471.923828\" xlink:href=\"#DejaVuSans-73\"/>\r\n       <use x=\"501.416016\" xlink:href=\"#DejaVuSans-80\"/>\r\n       <use x=\"561.71875\" xlink:href=\"#DejaVuSans-83\"/>\r\n      </g>\r\n     </g>\r\n    </g>\r\n    <g id=\"xtick_5\">\r\n     <g id=\"line2d_5\">\r\n      <g>\r\n       <use style=\"stroke:#000000;stroke-width:0.8;\" x=\"311.445\" xlink:href=\"#mab58e3fc2f\" y=\"228.439219\"/>\r\n      </g>\r\n     </g>\r\n     <g id=\"text_5\">\r\n      <!-- SOURCE_APP_BYTES -->\r\n      <defs>\r\n       <path d=\"M -0.203125 72.90625 \r\nL 10.40625 72.90625 \r\nL 30.609375 42.921875 \r\nL 50.6875 72.90625 \r\nL 61.28125 72.90625 \r\nL 35.5 34.71875 \r\nL 35.5 0 \r\nL 25.59375 0 \r\nL 25.59375 34.71875 \r\nz\r\n\" id=\"DejaVuSans-89\"/>\r\n      </defs>\r\n      <g transform=\"translate(313.977031 336.822031)rotate(-90)scale(0.1 -0.1)\">\r\n       <use xlink:href=\"#DejaVuSans-83\"/>\r\n       <use x=\"63.476562\" xlink:href=\"#DejaVuSans-79\"/>\r\n       <use x=\"142.1875\" xlink:href=\"#DejaVuSans-85\"/>\r\n       <use x=\"215.380859\" xlink:href=\"#DejaVuSans-82\"/>\r\n       <use x=\"279.863281\" xlink:href=\"#DejaVuSans-67\"/>\r\n       <use x=\"349.6875\" xlink:href=\"#DejaVuSans-69\"/>\r\n       <use x=\"412.871094\" xlink:href=\"#DejaVuSans-95\"/>\r\n       <use x=\"462.871094\" xlink:href=\"#DejaVuSans-65\"/>\r\n       <use x=\"531.279297\" xlink:href=\"#DejaVuSans-80\"/>\r\n       <use x=\"591.582031\" xlink:href=\"#DejaVuSans-80\"/>\r\n       <use x=\"651.884766\" xlink:href=\"#DejaVuSans-95\"/>\r\n       <use x=\"701.884766\" xlink:href=\"#DejaVuSans-66\"/>\r\n       <use x=\"764.988281\" xlink:href=\"#DejaVuSans-89\"/>\r\n       <use x=\"826.072266\" xlink:href=\"#DejaVuSans-84\"/>\r\n       <use x=\"887.15625\" xlink:href=\"#DejaVuSans-69\"/>\r\n       <use x=\"950.339844\" xlink:href=\"#DejaVuSans-83\"/>\r\n      </g>\r\n     </g>\r\n    </g>\r\n    <g id=\"xtick_6\">\r\n     <g id=\"line2d_6\">\r\n      <g>\r\n       <use style=\"stroke:#000000;stroke-width:0.8;\" x=\"341.205\" xlink:href=\"#mab58e3fc2f\" y=\"228.439219\"/>\r\n      </g>\r\n     </g>\r\n     <g id=\"text_6\">\r\n      <!-- REMOTE_APP_BYTES -->\r\n      <g transform=\"translate(343.737031 337.726719)rotate(-90)scale(0.1 -0.1)\">\r\n       <use xlink:href=\"#DejaVuSans-82\"/>\r\n       <use x=\"69.482422\" xlink:href=\"#DejaVuSans-69\"/>\r\n       <use x=\"132.666016\" xlink:href=\"#DejaVuSans-77\"/>\r\n       <use x=\"218.945312\" xlink:href=\"#DejaVuSans-79\"/>\r\n       <use x=\"297.65625\" xlink:href=\"#DejaVuSans-84\"/>\r\n       <use x=\"358.740234\" xlink:href=\"#DejaVuSans-69\"/>\r\n       <use x=\"421.923828\" xlink:href=\"#DejaVuSans-95\"/>\r\n       <use x=\"471.923828\" xlink:href=\"#DejaVuSans-65\"/>\r\n       <use x=\"540.332031\" xlink:href=\"#DejaVuSans-80\"/>\r\n       <use x=\"600.634766\" xlink:href=\"#DejaVuSans-80\"/>\r\n       <use x=\"660.9375\" xlink:href=\"#DejaVuSans-95\"/>\r\n       <use x=\"710.9375\" xlink:href=\"#DejaVuSans-66\"/>\r\n       <use x=\"774.041016\" xlink:href=\"#DejaVuSans-89\"/>\r\n       <use x=\"835.125\" xlink:href=\"#DejaVuSans-84\"/>\r\n       <use x=\"896.208984\" xlink:href=\"#DejaVuSans-69\"/>\r\n       <use x=\"959.392578\" xlink:href=\"#DejaVuSans-83\"/>\r\n      </g>\r\n     </g>\r\n    </g>\r\n    <g id=\"xtick_7\">\r\n     <g id=\"line2d_7\">\r\n      <g>\r\n       <use style=\"stroke:#000000;stroke-width:0.8;\" x=\"370.965\" xlink:href=\"#mab58e3fc2f\" y=\"228.439219\"/>\r\n      </g>\r\n     </g>\r\n     <g id=\"text_7\">\r\n      <!-- APP_PACKETS -->\r\n      <defs>\r\n       <path d=\"M 9.8125 72.90625 \r\nL 19.671875 72.90625 \r\nL 19.671875 42.09375 \r\nL 52.390625 72.90625 \r\nL 65.09375 72.90625 \r\nL 28.90625 38.921875 \r\nL 67.671875 0 \r\nL 54.6875 0 \r\nL 19.671875 35.109375 \r\nL 19.671875 0 \r\nL 9.8125 0 \r\nz\r\n\" id=\"DejaVuSans-75\"/>\r\n      </defs>\r\n      <g transform=\"translate(373.497031 303.712656)rotate(-90)scale(0.1 -0.1)\">\r\n       <use xlink:href=\"#DejaVuSans-65\"/>\r\n       <use x=\"68.408203\" xlink:href=\"#DejaVuSans-80\"/>\r\n       <use x=\"128.710938\" xlink:href=\"#DejaVuSans-80\"/>\r\n       <use x=\"189.013672\" xlink:href=\"#DejaVuSans-95\"/>\r\n       <use x=\"239.013672\" xlink:href=\"#DejaVuSans-80\"/>\r\n       <use x=\"292.941406\" xlink:href=\"#DejaVuSans-65\"/>\r\n       <use x=\"359.599609\" xlink:href=\"#DejaVuSans-67\"/>\r\n       <use x=\"429.423828\" xlink:href=\"#DejaVuSans-75\"/>\r\n       <use x=\"495\" xlink:href=\"#DejaVuSans-69\"/>\r\n       <use x=\"558.183594\" xlink:href=\"#DejaVuSans-84\"/>\r\n       <use x=\"619.267578\" xlink:href=\"#DejaVuSans-83\"/>\r\n      </g>\r\n     </g>\r\n    </g>\r\n    <g id=\"xtick_8\">\r\n     <g id=\"line2d_8\">\r\n      <g>\r\n       <use style=\"stroke:#000000;stroke-width:0.8;\" x=\"400.725\" xlink:href=\"#mab58e3fc2f\" y=\"228.439219\"/>\r\n      </g>\r\n     </g>\r\n     <g id=\"text_8\">\r\n      <!-- DNS_QUERY_TIMES -->\r\n      <defs>\r\n       <path d=\"M 39.40625 66.21875 \r\nQ 28.65625 66.21875 22.328125 58.203125 \r\nQ 16.015625 50.203125 16.015625 36.375 \r\nQ 16.015625 22.609375 22.328125 14.59375 \r\nQ 28.65625 6.59375 39.40625 6.59375 \r\nQ 50.140625 6.59375 56.421875 14.59375 \r\nQ 62.703125 22.609375 62.703125 36.375 \r\nQ 62.703125 50.203125 56.421875 58.203125 \r\nQ 50.140625 66.21875 39.40625 66.21875 \r\nz\r\nM 53.21875 1.3125 \r\nL 66.21875 -12.890625 \r\nL 54.296875 -12.890625 \r\nL 43.5 -1.21875 \r\nQ 41.890625 -1.3125 41.03125 -1.359375 \r\nQ 40.1875 -1.421875 39.40625 -1.421875 \r\nQ 24.03125 -1.421875 14.8125 8.859375 \r\nQ 5.609375 19.140625 5.609375 36.375 \r\nQ 5.609375 53.65625 14.8125 63.9375 \r\nQ 24.03125 74.21875 39.40625 74.21875 \r\nQ 54.734375 74.21875 63.90625 63.9375 \r\nQ 73.09375 53.65625 73.09375 36.375 \r\nQ 73.09375 23.6875 67.984375 14.640625 \r\nQ 62.890625 5.609375 53.21875 1.3125 \r\nz\r\n\" id=\"DejaVuSans-81\"/>\r\n      </defs>\r\n      <g transform=\"translate(403.257031 331.250156)rotate(-90)scale(0.1 -0.1)\">\r\n       <use xlink:href=\"#DejaVuSans-68\"/>\r\n       <use x=\"77.001953\" xlink:href=\"#DejaVuSans-78\"/>\r\n       <use x=\"151.806641\" xlink:href=\"#DejaVuSans-83\"/>\r\n       <use x=\"215.283203\" xlink:href=\"#DejaVuSans-95\"/>\r\n       <use x=\"265.283203\" xlink:href=\"#DejaVuSans-81\"/>\r\n       <use x=\"343.994141\" xlink:href=\"#DejaVuSans-85\"/>\r\n       <use x=\"417.1875\" xlink:href=\"#DejaVuSans-69\"/>\r\n       <use x=\"480.371094\" xlink:href=\"#DejaVuSans-82\"/>\r\n       <use x=\"543.478516\" xlink:href=\"#DejaVuSans-89\"/>\r\n       <use x=\"604.5625\" xlink:href=\"#DejaVuSans-95\"/>\r\n       <use x=\"654.5625\" xlink:href=\"#DejaVuSans-84\"/>\r\n       <use x=\"715.646484\" xlink:href=\"#DejaVuSans-73\"/>\r\n       <use x=\"745.138672\" xlink:href=\"#DejaVuSans-77\"/>\r\n       <use x=\"831.417969\" xlink:href=\"#DejaVuSans-69\"/>\r\n       <use x=\"894.601562\" xlink:href=\"#DejaVuSans-83\"/>\r\n      </g>\r\n     </g>\r\n    </g>\r\n    <g id=\"xtick_9\">\r\n     <g id=\"line2d_9\">\r\n      <g>\r\n       <use style=\"stroke:#000000;stroke-width:0.8;\" x=\"430.485\" xlink:href=\"#mab58e3fc2f\" y=\"228.439219\"/>\r\n      </g>\r\n     </g>\r\n     <g id=\"text_9\">\r\n      <!-- Type -->\r\n      <defs>\r\n       <path d=\"M 32.171875 -5.078125 \r\nQ 28.375 -14.84375 24.75 -17.8125 \r\nQ 21.140625 -20.796875 15.09375 -20.796875 \r\nL 7.90625 -20.796875 \r\nL 7.90625 -13.28125 \r\nL 13.1875 -13.28125 \r\nQ 16.890625 -13.28125 18.9375 -11.515625 \r\nQ 21 -9.765625 23.484375 -3.21875 \r\nL 25.09375 0.875 \r\nL 2.984375 54.6875 \r\nL 12.5 54.6875 \r\nL 29.59375 11.921875 \r\nL 46.6875 54.6875 \r\nL 56.203125 54.6875 \r\nz\r\n\" id=\"DejaVuSans-121\"/>\r\n       <path d=\"M 18.109375 8.203125 \r\nL 18.109375 -20.796875 \r\nL 9.078125 -20.796875 \r\nL 9.078125 54.6875 \r\nL 18.109375 54.6875 \r\nL 18.109375 46.390625 \r\nQ 20.953125 51.265625 25.265625 53.625 \r\nQ 29.59375 56 35.59375 56 \r\nQ 45.5625 56 51.78125 48.09375 \r\nQ 58.015625 40.1875 58.015625 27.296875 \r\nQ 58.015625 14.40625 51.78125 6.484375 \r\nQ 45.5625 -1.421875 35.59375 -1.421875 \r\nQ 29.59375 -1.421875 25.265625 0.953125 \r\nQ 20.953125 3.328125 18.109375 8.203125 \r\nz\r\nM 48.6875 27.296875 \r\nQ 48.6875 37.203125 44.609375 42.84375 \r\nQ 40.53125 48.484375 33.40625 48.484375 \r\nQ 26.265625 48.484375 22.1875 42.84375 \r\nQ 18.109375 37.203125 18.109375 27.296875 \r\nQ 18.109375 17.390625 22.1875 11.75 \r\nQ 26.265625 6.109375 33.40625 6.109375 \r\nQ 40.53125 6.109375 44.609375 11.75 \r\nQ 48.6875 17.390625 48.6875 27.296875 \r\nz\r\n\" id=\"DejaVuSans-112\"/>\r\n       <path d=\"M 56.203125 29.59375 \r\nL 56.203125 25.203125 \r\nL 14.890625 25.203125 \r\nQ 15.484375 15.921875 20.484375 11.0625 \r\nQ 25.484375 6.203125 34.421875 6.203125 \r\nQ 39.59375 6.203125 44.453125 7.46875 \r\nQ 49.3125 8.734375 54.109375 11.28125 \r\nL 54.109375 2.78125 \r\nQ 49.265625 0.734375 44.1875 -0.34375 \r\nQ 39.109375 -1.421875 33.890625 -1.421875 \r\nQ 20.796875 -1.421875 13.15625 6.1875 \r\nQ 5.515625 13.8125 5.515625 26.8125 \r\nQ 5.515625 40.234375 12.765625 48.109375 \r\nQ 20.015625 56 32.328125 56 \r\nQ 43.359375 56 49.78125 48.890625 \r\nQ 56.203125 41.796875 56.203125 29.59375 \r\nz\r\nM 47.21875 32.234375 \r\nQ 47.125 39.59375 43.09375 43.984375 \r\nQ 39.0625 48.390625 32.421875 48.390625 \r\nQ 24.90625 48.390625 20.390625 44.140625 \r\nQ 15.875 39.890625 15.1875 32.171875 \r\nz\r\n\" id=\"DejaVuSans-101\"/>\r\n      </defs>\r\n      <g transform=\"translate(433.244375 258.404844)rotate(-90)scale(0.1 -0.1)\">\r\n       <use xlink:href=\"#DejaVuSans-84\"/>\r\n       <use x=\"45.458984\" xlink:href=\"#DejaVuSans-121\"/>\r\n       <use x=\"104.638672\" xlink:href=\"#DejaVuSans-112\"/>\r\n       <use x=\"168.115234\" xlink:href=\"#DejaVuSans-101\"/>\r\n      </g>\r\n     </g>\r\n    </g>\r\n   </g>\r\n   <g id=\"matplotlib.axis_2\">\r\n    <g id=\"ytick_1\">\r\n     <g id=\"line2d_10\">\r\n      <defs>\r\n       <path d=\"M 0 0 \r\nL -3.5 0 \r\n\" id=\"m80064af34f\" style=\"stroke:#000000;stroke-width:0.8;\"/>\r\n      </defs>\r\n      <g>\r\n       <use style=\"stroke:#000000;stroke-width:0.8;\" x=\"177.525\" xlink:href=\"#m80064af34f\" y=\"23.079219\"/>\r\n      </g>\r\n     </g>\r\n     <g id=\"text_10\">\r\n      <!-- NUMBER_SPECIAL_CHARACTERS -->\r\n      <g transform=\"translate(8.6625 26.790156)scale(0.1 -0.1)\">\r\n       <use xlink:href=\"#DejaVuSans-78\"/>\r\n       <use x=\"74.804688\" xlink:href=\"#DejaVuSans-85\"/>\r\n       <use x=\"147.998047\" xlink:href=\"#DejaVuSans-77\"/>\r\n       <use x=\"234.277344\" xlink:href=\"#DejaVuSans-66\"/>\r\n       <use x=\"302.880859\" xlink:href=\"#DejaVuSans-69\"/>\r\n       <use x=\"366.064453\" xlink:href=\"#DejaVuSans-82\"/>\r\n       <use x=\"435.546875\" xlink:href=\"#DejaVuSans-95\"/>\r\n       <use x=\"485.546875\" xlink:href=\"#DejaVuSans-83\"/>\r\n       <use x=\"549.023438\" xlink:href=\"#DejaVuSans-80\"/>\r\n       <use x=\"609.326172\" xlink:href=\"#DejaVuSans-69\"/>\r\n       <use x=\"672.509766\" xlink:href=\"#DejaVuSans-67\"/>\r\n       <use x=\"742.333984\" xlink:href=\"#DejaVuSans-73\"/>\r\n       <use x=\"771.826172\" xlink:href=\"#DejaVuSans-65\"/>\r\n       <use x=\"840.234375\" xlink:href=\"#DejaVuSans-76\"/>\r\n       <use x=\"895.947266\" xlink:href=\"#DejaVuSans-95\"/>\r\n       <use x=\"945.947266\" xlink:href=\"#DejaVuSans-67\"/>\r\n       <use x=\"1015.771484\" xlink:href=\"#DejaVuSans-72\"/>\r\n       <use x=\"1090.966797\" xlink:href=\"#DejaVuSans-65\"/>\r\n       <use x=\"1159.375\" xlink:href=\"#DejaVuSans-82\"/>\r\n       <use x=\"1224.857422\" xlink:href=\"#DejaVuSans-65\"/>\r\n       <use x=\"1291.515625\" xlink:href=\"#DejaVuSans-67\"/>\r\n       <use x=\"1361.339844\" xlink:href=\"#DejaVuSans-84\"/>\r\n       <use x=\"1422.423828\" xlink:href=\"#DejaVuSans-69\"/>\r\n       <use x=\"1485.607422\" xlink:href=\"#DejaVuSans-82\"/>\r\n       <use x=\"1555.089844\" xlink:href=\"#DejaVuSans-83\"/>\r\n      </g>\r\n     </g>\r\n    </g>\r\n    <g id=\"ytick_2\">\r\n     <g id=\"line2d_11\">\r\n      <g>\r\n       <use style=\"stroke:#000000;stroke-width:0.8;\" x=\"177.525\" xlink:href=\"#m80064af34f\" y=\"47.239219\"/>\r\n      </g>\r\n     </g>\r\n     <g id=\"text_11\">\r\n      <!-- TCP_CONVERSATION_EXCHANGE -->\r\n      <g transform=\"translate(7.2 50.950156)scale(0.1 -0.1)\">\r\n       <use xlink:href=\"#DejaVuSans-84\"/>\r\n       <use x=\"55.208984\" xlink:href=\"#DejaVuSans-67\"/>\r\n       <use x=\"125.033203\" xlink:href=\"#DejaVuSans-80\"/>\r\n       <use x=\"185.335938\" xlink:href=\"#DejaVuSans-95\"/>\r\n       <use x=\"235.335938\" xlink:href=\"#DejaVuSans-67\"/>\r\n       <use x=\"305.160156\" xlink:href=\"#DejaVuSans-79\"/>\r\n       <use x=\"383.871094\" xlink:href=\"#DejaVuSans-78\"/>\r\n       <use x=\"458.675781\" xlink:href=\"#DejaVuSans-86\"/>\r\n       <use x=\"527.083984\" xlink:href=\"#DejaVuSans-69\"/>\r\n       <use x=\"590.267578\" xlink:href=\"#DejaVuSans-82\"/>\r\n       <use x=\"659.75\" xlink:href=\"#DejaVuSans-83\"/>\r\n       <use x=\"725.101562\" xlink:href=\"#DejaVuSans-65\"/>\r\n       <use x=\"785.759766\" xlink:href=\"#DejaVuSans-84\"/>\r\n       <use x=\"846.84375\" xlink:href=\"#DejaVuSans-73\"/>\r\n       <use x=\"876.335938\" xlink:href=\"#DejaVuSans-79\"/>\r\n       <use x=\"955.046875\" xlink:href=\"#DejaVuSans-78\"/>\r\n       <use x=\"1029.851562\" xlink:href=\"#DejaVuSans-95\"/>\r\n       <use x=\"1079.851562\" xlink:href=\"#DejaVuSans-69\"/>\r\n       <use x=\"1143.035156\" xlink:href=\"#DejaVuSans-88\"/>\r\n       <use x=\"1204.291016\" xlink:href=\"#DejaVuSans-67\"/>\r\n       <use x=\"1274.115234\" xlink:href=\"#DejaVuSans-72\"/>\r\n       <use x=\"1349.310547\" xlink:href=\"#DejaVuSans-65\"/>\r\n       <use x=\"1417.71875\" xlink:href=\"#DejaVuSans-78\"/>\r\n       <use x=\"1492.523438\" xlink:href=\"#DejaVuSans-71\"/>\r\n       <use x=\"1570.013672\" xlink:href=\"#DejaVuSans-69\"/>\r\n      </g>\r\n     </g>\r\n    </g>\r\n    <g id=\"ytick_3\">\r\n     <g id=\"line2d_12\">\r\n      <g>\r\n       <use style=\"stroke:#000000;stroke-width:0.8;\" x=\"177.525\" xlink:href=\"#m80064af34f\" y=\"71.399219\"/>\r\n      </g>\r\n     </g>\r\n     <g id=\"text_12\">\r\n      <!-- DIST_REMOTE_TCP_PORT -->\r\n      <g transform=\"translate(45.459375 75.110156)scale(0.1 -0.1)\">\r\n       <use xlink:href=\"#DejaVuSans-68\"/>\r\n       <use x=\"77.001953\" xlink:href=\"#DejaVuSans-73\"/>\r\n       <use x=\"106.494141\" xlink:href=\"#DejaVuSans-83\"/>\r\n       <use x=\"169.970703\" xlink:href=\"#DejaVuSans-84\"/>\r\n       <use x=\"231.054688\" xlink:href=\"#DejaVuSans-95\"/>\r\n       <use x=\"281.054688\" xlink:href=\"#DejaVuSans-82\"/>\r\n       <use x=\"350.537109\" xlink:href=\"#DejaVuSans-69\"/>\r\n       <use x=\"413.720703\" xlink:href=\"#DejaVuSans-77\"/>\r\n       <use x=\"500\" xlink:href=\"#DejaVuSans-79\"/>\r\n       <use x=\"578.710938\" xlink:href=\"#DejaVuSans-84\"/>\r\n       <use x=\"639.794922\" xlink:href=\"#DejaVuSans-69\"/>\r\n       <use x=\"702.978516\" xlink:href=\"#DejaVuSans-95\"/>\r\n       <use x=\"752.978516\" xlink:href=\"#DejaVuSans-84\"/>\r\n       <use x=\"808.1875\" xlink:href=\"#DejaVuSans-67\"/>\r\n       <use x=\"878.011719\" xlink:href=\"#DejaVuSans-80\"/>\r\n       <use x=\"938.314453\" xlink:href=\"#DejaVuSans-95\"/>\r\n       <use x=\"988.314453\" xlink:href=\"#DejaVuSans-80\"/>\r\n       <use x=\"1048.617188\" xlink:href=\"#DejaVuSans-79\"/>\r\n       <use x=\"1127.328125\" xlink:href=\"#DejaVuSans-82\"/>\r\n       <use x=\"1189.560547\" xlink:href=\"#DejaVuSans-84\"/>\r\n      </g>\r\n     </g>\r\n    </g>\r\n    <g id=\"ytick_4\">\r\n     <g id=\"line2d_13\">\r\n      <g>\r\n       <use style=\"stroke:#000000;stroke-width:0.8;\" x=\"177.525\" xlink:href=\"#m80064af34f\" y=\"95.559219\"/>\r\n      </g>\r\n     </g>\r\n     <g id=\"text_13\">\r\n      <!-- REMOTE_IPS -->\r\n      <g transform=\"translate(108.003125 99.270156)scale(0.1 -0.1)\">\r\n       <use xlink:href=\"#DejaVuSans-82\"/>\r\n       <use x=\"69.482422\" xlink:href=\"#DejaVuSans-69\"/>\r\n       <use x=\"132.666016\" xlink:href=\"#DejaVuSans-77\"/>\r\n       <use x=\"218.945312\" xlink:href=\"#DejaVuSans-79\"/>\r\n       <use x=\"297.65625\" xlink:href=\"#DejaVuSans-84\"/>\r\n       <use x=\"358.740234\" xlink:href=\"#DejaVuSans-69\"/>\r\n       <use x=\"421.923828\" xlink:href=\"#DejaVuSans-95\"/>\r\n       <use x=\"471.923828\" xlink:href=\"#DejaVuSans-73\"/>\r\n       <use x=\"501.416016\" xlink:href=\"#DejaVuSans-80\"/>\r\n       <use x=\"561.71875\" xlink:href=\"#DejaVuSans-83\"/>\r\n      </g>\r\n     </g>\r\n    </g>\r\n    <g id=\"ytick_5\">\r\n     <g id=\"line2d_14\">\r\n      <g>\r\n       <use style=\"stroke:#000000;stroke-width:0.8;\" x=\"177.525\" xlink:href=\"#m80064af34f\" y=\"119.719219\"/>\r\n      </g>\r\n     </g>\r\n     <g id=\"text_14\">\r\n      <!-- SOURCE_APP_BYTES -->\r\n      <g transform=\"translate(69.142188 123.430156)scale(0.1 -0.1)\">\r\n       <use xlink:href=\"#DejaVuSans-83\"/>\r\n       <use x=\"63.476562\" xlink:href=\"#DejaVuSans-79\"/>\r\n       <use x=\"142.1875\" xlink:href=\"#DejaVuSans-85\"/>\r\n       <use x=\"215.380859\" xlink:href=\"#DejaVuSans-82\"/>\r\n       <use x=\"279.863281\" xlink:href=\"#DejaVuSans-67\"/>\r\n       <use x=\"349.6875\" xlink:href=\"#DejaVuSans-69\"/>\r\n       <use x=\"412.871094\" xlink:href=\"#DejaVuSans-95\"/>\r\n       <use x=\"462.871094\" xlink:href=\"#DejaVuSans-65\"/>\r\n       <use x=\"531.279297\" xlink:href=\"#DejaVuSans-80\"/>\r\n       <use x=\"591.582031\" xlink:href=\"#DejaVuSans-80\"/>\r\n       <use x=\"651.884766\" xlink:href=\"#DejaVuSans-95\"/>\r\n       <use x=\"701.884766\" xlink:href=\"#DejaVuSans-66\"/>\r\n       <use x=\"764.988281\" xlink:href=\"#DejaVuSans-89\"/>\r\n       <use x=\"826.072266\" xlink:href=\"#DejaVuSans-84\"/>\r\n       <use x=\"887.15625\" xlink:href=\"#DejaVuSans-69\"/>\r\n       <use x=\"950.339844\" xlink:href=\"#DejaVuSans-83\"/>\r\n      </g>\r\n     </g>\r\n    </g>\r\n    <g id=\"ytick_6\">\r\n     <g id=\"line2d_15\">\r\n      <g>\r\n       <use style=\"stroke:#000000;stroke-width:0.8;\" x=\"177.525\" xlink:href=\"#m80064af34f\" y=\"143.879219\"/>\r\n      </g>\r\n     </g>\r\n     <g id=\"text_15\">\r\n      <!-- REMOTE_APP_BYTES -->\r\n      <g transform=\"translate(68.2375 147.590156)scale(0.1 -0.1)\">\r\n       <use xlink:href=\"#DejaVuSans-82\"/>\r\n       <use x=\"69.482422\" xlink:href=\"#DejaVuSans-69\"/>\r\n       <use x=\"132.666016\" xlink:href=\"#DejaVuSans-77\"/>\r\n       <use x=\"218.945312\" xlink:href=\"#DejaVuSans-79\"/>\r\n       <use x=\"297.65625\" xlink:href=\"#DejaVuSans-84\"/>\r\n       <use x=\"358.740234\" xlink:href=\"#DejaVuSans-69\"/>\r\n       <use x=\"421.923828\" xlink:href=\"#DejaVuSans-95\"/>\r\n       <use x=\"471.923828\" xlink:href=\"#DejaVuSans-65\"/>\r\n       <use x=\"540.332031\" xlink:href=\"#DejaVuSans-80\"/>\r\n       <use x=\"600.634766\" xlink:href=\"#DejaVuSans-80\"/>\r\n       <use x=\"660.9375\" xlink:href=\"#DejaVuSans-95\"/>\r\n       <use x=\"710.9375\" xlink:href=\"#DejaVuSans-66\"/>\r\n       <use x=\"774.041016\" xlink:href=\"#DejaVuSans-89\"/>\r\n       <use x=\"835.125\" xlink:href=\"#DejaVuSans-84\"/>\r\n       <use x=\"896.208984\" xlink:href=\"#DejaVuSans-69\"/>\r\n       <use x=\"959.392578\" xlink:href=\"#DejaVuSans-83\"/>\r\n      </g>\r\n     </g>\r\n    </g>\r\n    <g id=\"ytick_7\">\r\n     <g id=\"line2d_16\">\r\n      <g>\r\n       <use style=\"stroke:#000000;stroke-width:0.8;\" x=\"177.525\" xlink:href=\"#m80064af34f\" y=\"168.039219\"/>\r\n      </g>\r\n     </g>\r\n     <g id=\"text_16\">\r\n      <!-- APP_PACKETS -->\r\n      <g transform=\"translate(102.251563 171.750156)scale(0.1 -0.1)\">\r\n       <use xlink:href=\"#DejaVuSans-65\"/>\r\n       <use x=\"68.408203\" xlink:href=\"#DejaVuSans-80\"/>\r\n       <use x=\"128.710938\" xlink:href=\"#DejaVuSans-80\"/>\r\n       <use x=\"189.013672\" xlink:href=\"#DejaVuSans-95\"/>\r\n       <use x=\"239.013672\" xlink:href=\"#DejaVuSans-80\"/>\r\n       <use x=\"292.941406\" xlink:href=\"#DejaVuSans-65\"/>\r\n       <use x=\"359.599609\" xlink:href=\"#DejaVuSans-67\"/>\r\n       <use x=\"429.423828\" xlink:href=\"#DejaVuSans-75\"/>\r\n       <use x=\"495\" xlink:href=\"#DejaVuSans-69\"/>\r\n       <use x=\"558.183594\" xlink:href=\"#DejaVuSans-84\"/>\r\n       <use x=\"619.267578\" xlink:href=\"#DejaVuSans-83\"/>\r\n      </g>\r\n     </g>\r\n    </g>\r\n    <g id=\"ytick_8\">\r\n     <g id=\"line2d_17\">\r\n      <g>\r\n       <use style=\"stroke:#000000;stroke-width:0.8;\" x=\"177.525\" xlink:href=\"#m80064af34f\" y=\"192.199219\"/>\r\n      </g>\r\n     </g>\r\n     <g id=\"text_17\">\r\n      <!-- DNS_QUERY_TIMES -->\r\n      <g transform=\"translate(74.714062 195.910156)scale(0.1 -0.1)\">\r\n       <use xlink:href=\"#DejaVuSans-68\"/>\r\n       <use x=\"77.001953\" xlink:href=\"#DejaVuSans-78\"/>\r\n       <use x=\"151.806641\" xlink:href=\"#DejaVuSans-83\"/>\r\n       <use x=\"215.283203\" xlink:href=\"#DejaVuSans-95\"/>\r\n       <use x=\"265.283203\" xlink:href=\"#DejaVuSans-81\"/>\r\n       <use x=\"343.994141\" xlink:href=\"#DejaVuSans-85\"/>\r\n       <use x=\"417.1875\" xlink:href=\"#DejaVuSans-69\"/>\r\n       <use x=\"480.371094\" xlink:href=\"#DejaVuSans-82\"/>\r\n       <use x=\"543.478516\" xlink:href=\"#DejaVuSans-89\"/>\r\n       <use x=\"604.5625\" xlink:href=\"#DejaVuSans-95\"/>\r\n       <use x=\"654.5625\" xlink:href=\"#DejaVuSans-84\"/>\r\n       <use x=\"715.646484\" xlink:href=\"#DejaVuSans-73\"/>\r\n       <use x=\"745.138672\" xlink:href=\"#DejaVuSans-77\"/>\r\n       <use x=\"831.417969\" xlink:href=\"#DejaVuSans-69\"/>\r\n       <use x=\"894.601562\" xlink:href=\"#DejaVuSans-83\"/>\r\n      </g>\r\n     </g>\r\n    </g>\r\n    <g id=\"ytick_9\">\r\n     <g id=\"line2d_18\">\r\n      <g>\r\n       <use style=\"stroke:#000000;stroke-width:0.8;\" x=\"177.525\" xlink:href=\"#m80064af34f\" y=\"216.359219\"/>\r\n      </g>\r\n     </g>\r\n     <g id=\"text_18\">\r\n      <!-- Type -->\r\n      <g transform=\"translate(147.559375 220.158437)scale(0.1 -0.1)\">\r\n       <use xlink:href=\"#DejaVuSans-84\"/>\r\n       <use x=\"45.458984\" xlink:href=\"#DejaVuSans-121\"/>\r\n       <use x=\"104.638672\" xlink:href=\"#DejaVuSans-112\"/>\r\n       <use x=\"168.115234\" xlink:href=\"#DejaVuSans-101\"/>\r\n      </g>\r\n     </g>\r\n    </g>\r\n   </g>\r\n  </g>\r\n  <g id=\"axes_2\">\r\n   <g id=\"patch_3\">\r\n    <path clip-path=\"url(#p4e1633011f)\" d=\"M 462.105 228.439219 \r\nL 462.105 227.589844 \r\nL 462.105 11.848594 \r\nL 462.105 10.999219 \r\nL 472.977 10.999219 \r\nL 472.977 11.848594 \r\nL 472.977 227.589844 \r\nL 472.977 228.439219 \r\nz\r\n\" style=\"fill:#ffffff;stroke:#ffffff;stroke-linejoin:miter;stroke-width:0.01;\"/>\r\n   </g>\r\n   <image height=\"217\" id=\"image9389d0e18a\" transform=\"scale(1 -1)translate(0 -217)\" width=\"11\" x=\"462\" xlink:href=\"data:image/png;base64,\r\niVBORw0KGgoAAAANSUhEUgAAAAsAAADZCAYAAAD2WsoCAAAABHNCSVQICAgIfAhkiAAAAS9JREFUaIHVmMENQyEMQwOfwTpah+i6n3SFvIMlm3MUGduYwPp8f13DdfZa09o6zwbFi3RGxQBFnVUqGIgNxLMJdc/eAAbjGcAwoc5F7nGpFIYuCpRyj2vrPAuYH2IGMEyoE8otyw2XDXqEOWODmD8xzHX3YOIGt0fWmVCXmHWRyR940Zvkc6Lc6IFgQt32mPlZ53EpfuIFJr9QbtnHgs78JlHAREFG6vHXV51633lx9wWdEQzSuS/qDIr7AjaUmFU8N5PbAzPqTHiGcltgZq4TRoEHZtSZbDAyvpjriNwm8YVEuUiUxChQZV1kfLEoQBZFRvKYkWRTgfB064ykO92Bckde9CzMVaebjZcmIzHJOpcnXuJFbzIjsblOJ7fFjCR80TOLepwUj98eYcgAnv8kUw7Ch9MONQAAAABJRU5ErkJggg==\" y=\"-10\"/>\r\n   <g id=\"matplotlib.axis_3\"/>\r\n   <g id=\"matplotlib.axis_4\">\r\n    <g id=\"ytick_10\">\r\n     <g id=\"line2d_19\">\r\n      <defs>\r\n       <path d=\"M 0 0 \r\nL 3.5 0 \r\n\" id=\"mfd109a552c\" style=\"stroke:#000000;stroke-width:0.8;\"/>\r\n      </defs>\r\n      <g>\r\n       <use style=\"stroke:#000000;stroke-width:0.8;\" x=\"472.977\" xlink:href=\"#mfd109a552c\" y=\"228.439219\"/>\r\n      </g>\r\n     </g>\r\n     <g id=\"text_19\">\r\n      <!-- −1.00 -->\r\n      <defs>\r\n       <path d=\"M 10.59375 35.5 \r\nL 73.1875 35.5 \r\nL 73.1875 27.203125 \r\nL 10.59375 27.203125 \r\nz\r\n\" id=\"DejaVuSans-8722\"/>\r\n       <path d=\"M 12.40625 8.296875 \r\nL 28.515625 8.296875 \r\nL 28.515625 63.921875 \r\nL 10.984375 60.40625 \r\nL 10.984375 69.390625 \r\nL 28.421875 72.90625 \r\nL 38.28125 72.90625 \r\nL 38.28125 8.296875 \r\nL 54.390625 8.296875 \r\nL 54.390625 0 \r\nL 12.40625 0 \r\nz\r\n\" id=\"DejaVuSans-49\"/>\r\n       <path d=\"M 10.6875 12.40625 \r\nL 21 12.40625 \r\nL 21 0 \r\nL 10.6875 0 \r\nz\r\n\" id=\"DejaVuSans-46\"/>\r\n       <path d=\"M 31.78125 66.40625 \r\nQ 24.171875 66.40625 20.328125 58.90625 \r\nQ 16.5 51.421875 16.5 36.375 \r\nQ 16.5 21.390625 20.328125 13.890625 \r\nQ 24.171875 6.390625 31.78125 6.390625 \r\nQ 39.453125 6.390625 43.28125 13.890625 \r\nQ 47.125 21.390625 47.125 36.375 \r\nQ 47.125 51.421875 43.28125 58.90625 \r\nQ 39.453125 66.40625 31.78125 66.40625 \r\nz\r\nM 31.78125 74.21875 \r\nQ 44.046875 74.21875 50.515625 64.515625 \r\nQ 56.984375 54.828125 56.984375 36.375 \r\nQ 56.984375 17.96875 50.515625 8.265625 \r\nQ 44.046875 -1.421875 31.78125 -1.421875 \r\nQ 19.53125 -1.421875 13.0625 8.265625 \r\nQ 6.59375 17.96875 6.59375 36.375 \r\nQ 6.59375 54.828125 13.0625 64.515625 \r\nQ 19.53125 74.21875 31.78125 74.21875 \r\nz\r\n\" id=\"DejaVuSans-48\"/>\r\n      </defs>\r\n      <g transform=\"translate(479.977 232.238437)scale(0.1 -0.1)\">\r\n       <use xlink:href=\"#DejaVuSans-8722\"/>\r\n       <use x=\"83.789062\" xlink:href=\"#DejaVuSans-49\"/>\r\n       <use x=\"147.412109\" xlink:href=\"#DejaVuSans-46\"/>\r\n       <use x=\"179.199219\" xlink:href=\"#DejaVuSans-48\"/>\r\n       <use x=\"242.822266\" xlink:href=\"#DejaVuSans-48\"/>\r\n      </g>\r\n     </g>\r\n    </g>\r\n    <g id=\"ytick_11\">\r\n     <g id=\"line2d_20\">\r\n      <g>\r\n       <use style=\"stroke:#000000;stroke-width:0.8;\" x=\"472.977\" xlink:href=\"#mfd109a552c\" y=\"201.259219\"/>\r\n      </g>\r\n     </g>\r\n     <g id=\"text_20\">\r\n      <!-- −0.75 -->\r\n      <defs>\r\n       <path d=\"M 8.203125 72.90625 \r\nL 55.078125 72.90625 \r\nL 55.078125 68.703125 \r\nL 28.609375 0 \r\nL 18.3125 0 \r\nL 43.21875 64.59375 \r\nL 8.203125 64.59375 \r\nz\r\n\" id=\"DejaVuSans-55\"/>\r\n       <path d=\"M 10.796875 72.90625 \r\nL 49.515625 72.90625 \r\nL 49.515625 64.59375 \r\nL 19.828125 64.59375 \r\nL 19.828125 46.734375 \r\nQ 21.96875 47.46875 24.109375 47.828125 \r\nQ 26.265625 48.1875 28.421875 48.1875 \r\nQ 40.625 48.1875 47.75 41.5 \r\nQ 54.890625 34.8125 54.890625 23.390625 \r\nQ 54.890625 11.625 47.5625 5.09375 \r\nQ 40.234375 -1.421875 26.90625 -1.421875 \r\nQ 22.3125 -1.421875 17.546875 -0.640625 \r\nQ 12.796875 0.140625 7.71875 1.703125 \r\nL 7.71875 11.625 \r\nQ 12.109375 9.234375 16.796875 8.0625 \r\nQ 21.484375 6.890625 26.703125 6.890625 \r\nQ 35.15625 6.890625 40.078125 11.328125 \r\nQ 45.015625 15.765625 45.015625 23.390625 \r\nQ 45.015625 31 40.078125 35.4375 \r\nQ 35.15625 39.890625 26.703125 39.890625 \r\nQ 22.75 39.890625 18.8125 39.015625 \r\nQ 14.890625 38.140625 10.796875 36.28125 \r\nz\r\n\" id=\"DejaVuSans-53\"/>\r\n      </defs>\r\n      <g transform=\"translate(479.977 205.058437)scale(0.1 -0.1)\">\r\n       <use xlink:href=\"#DejaVuSans-8722\"/>\r\n       <use x=\"83.789062\" xlink:href=\"#DejaVuSans-48\"/>\r\n       <use x=\"147.412109\" xlink:href=\"#DejaVuSans-46\"/>\r\n       <use x=\"179.199219\" xlink:href=\"#DejaVuSans-55\"/>\r\n       <use x=\"242.822266\" xlink:href=\"#DejaVuSans-53\"/>\r\n      </g>\r\n     </g>\r\n    </g>\r\n    <g id=\"ytick_12\">\r\n     <g id=\"line2d_21\">\r\n      <g>\r\n       <use style=\"stroke:#000000;stroke-width:0.8;\" x=\"472.977\" xlink:href=\"#mfd109a552c\" y=\"174.079219\"/>\r\n      </g>\r\n     </g>\r\n     <g id=\"text_21\">\r\n      <!-- −0.50 -->\r\n      <g transform=\"translate(479.977 177.878437)scale(0.1 -0.1)\">\r\n       <use xlink:href=\"#DejaVuSans-8722\"/>\r\n       <use x=\"83.789062\" xlink:href=\"#DejaVuSans-48\"/>\r\n       <use x=\"147.412109\" xlink:href=\"#DejaVuSans-46\"/>\r\n       <use x=\"179.199219\" xlink:href=\"#DejaVuSans-53\"/>\r\n       <use x=\"242.822266\" xlink:href=\"#DejaVuSans-48\"/>\r\n      </g>\r\n     </g>\r\n    </g>\r\n    <g id=\"ytick_13\">\r\n     <g id=\"line2d_22\">\r\n      <g>\r\n       <use style=\"stroke:#000000;stroke-width:0.8;\" x=\"472.977\" xlink:href=\"#mfd109a552c\" y=\"146.899219\"/>\r\n      </g>\r\n     </g>\r\n     <g id=\"text_22\">\r\n      <!-- −0.25 -->\r\n      <defs>\r\n       <path d=\"M 19.1875 8.296875 \r\nL 53.609375 8.296875 \r\nL 53.609375 0 \r\nL 7.328125 0 \r\nL 7.328125 8.296875 \r\nQ 12.9375 14.109375 22.625 23.890625 \r\nQ 32.328125 33.6875 34.8125 36.53125 \r\nQ 39.546875 41.84375 41.421875 45.53125 \r\nQ 43.3125 49.21875 43.3125 52.78125 \r\nQ 43.3125 58.59375 39.234375 62.25 \r\nQ 35.15625 65.921875 28.609375 65.921875 \r\nQ 23.96875 65.921875 18.8125 64.3125 \r\nQ 13.671875 62.703125 7.8125 59.421875 \r\nL 7.8125 69.390625 \r\nQ 13.765625 71.78125 18.9375 73 \r\nQ 24.125 74.21875 28.421875 74.21875 \r\nQ 39.75 74.21875 46.484375 68.546875 \r\nQ 53.21875 62.890625 53.21875 53.421875 \r\nQ 53.21875 48.921875 51.53125 44.890625 \r\nQ 49.859375 40.875 45.40625 35.40625 \r\nQ 44.1875 33.984375 37.640625 27.21875 \r\nQ 31.109375 20.453125 19.1875 8.296875 \r\nz\r\n\" id=\"DejaVuSans-50\"/>\r\n      </defs>\r\n      <g transform=\"translate(479.977 150.698437)scale(0.1 -0.1)\">\r\n       <use xlink:href=\"#DejaVuSans-8722\"/>\r\n       <use x=\"83.789062\" xlink:href=\"#DejaVuSans-48\"/>\r\n       <use x=\"147.412109\" xlink:href=\"#DejaVuSans-46\"/>\r\n       <use x=\"179.199219\" xlink:href=\"#DejaVuSans-50\"/>\r\n       <use x=\"242.822266\" xlink:href=\"#DejaVuSans-53\"/>\r\n      </g>\r\n     </g>\r\n    </g>\r\n    <g id=\"ytick_14\">\r\n     <g id=\"line2d_23\">\r\n      <g>\r\n       <use style=\"stroke:#000000;stroke-width:0.8;\" x=\"472.977\" xlink:href=\"#mfd109a552c\" y=\"119.719219\"/>\r\n      </g>\r\n     </g>\r\n     <g id=\"text_23\">\r\n      <!-- 0.00 -->\r\n      <g transform=\"translate(479.977 123.518438)scale(0.1 -0.1)\">\r\n       <use xlink:href=\"#DejaVuSans-48\"/>\r\n       <use x=\"63.623047\" xlink:href=\"#DejaVuSans-46\"/>\r\n       <use x=\"95.410156\" xlink:href=\"#DejaVuSans-48\"/>\r\n       <use x=\"159.033203\" xlink:href=\"#DejaVuSans-48\"/>\r\n      </g>\r\n     </g>\r\n    </g>\r\n    <g id=\"ytick_15\">\r\n     <g id=\"line2d_24\">\r\n      <g>\r\n       <use style=\"stroke:#000000;stroke-width:0.8;\" x=\"472.977\" xlink:href=\"#mfd109a552c\" y=\"92.539219\"/>\r\n      </g>\r\n     </g>\r\n     <g id=\"text_24\">\r\n      <!-- 0.25 -->\r\n      <g transform=\"translate(479.977 96.338437)scale(0.1 -0.1)\">\r\n       <use xlink:href=\"#DejaVuSans-48\"/>\r\n       <use x=\"63.623047\" xlink:href=\"#DejaVuSans-46\"/>\r\n       <use x=\"95.410156\" xlink:href=\"#DejaVuSans-50\"/>\r\n       <use x=\"159.033203\" xlink:href=\"#DejaVuSans-53\"/>\r\n      </g>\r\n     </g>\r\n    </g>\r\n    <g id=\"ytick_16\">\r\n     <g id=\"line2d_25\">\r\n      <g>\r\n       <use style=\"stroke:#000000;stroke-width:0.8;\" x=\"472.977\" xlink:href=\"#mfd109a552c\" y=\"65.359219\"/>\r\n      </g>\r\n     </g>\r\n     <g id=\"text_25\">\r\n      <!-- 0.50 -->\r\n      <g transform=\"translate(479.977 69.158437)scale(0.1 -0.1)\">\r\n       <use xlink:href=\"#DejaVuSans-48\"/>\r\n       <use x=\"63.623047\" xlink:href=\"#DejaVuSans-46\"/>\r\n       <use x=\"95.410156\" xlink:href=\"#DejaVuSans-53\"/>\r\n       <use x=\"159.033203\" xlink:href=\"#DejaVuSans-48\"/>\r\n      </g>\r\n     </g>\r\n    </g>\r\n    <g id=\"ytick_17\">\r\n     <g id=\"line2d_26\">\r\n      <g>\r\n       <use style=\"stroke:#000000;stroke-width:0.8;\" x=\"472.977\" xlink:href=\"#mfd109a552c\" y=\"38.179219\"/>\r\n      </g>\r\n     </g>\r\n     <g id=\"text_26\">\r\n      <!-- 0.75 -->\r\n      <g transform=\"translate(479.977 41.978438)scale(0.1 -0.1)\">\r\n       <use xlink:href=\"#DejaVuSans-48\"/>\r\n       <use x=\"63.623047\" xlink:href=\"#DejaVuSans-46\"/>\r\n       <use x=\"95.410156\" xlink:href=\"#DejaVuSans-55\"/>\r\n       <use x=\"159.033203\" xlink:href=\"#DejaVuSans-53\"/>\r\n      </g>\r\n     </g>\r\n    </g>\r\n    <g id=\"ytick_18\">\r\n     <g id=\"line2d_27\">\r\n      <g>\r\n       <use style=\"stroke:#000000;stroke-width:0.8;\" x=\"472.977\" xlink:href=\"#mfd109a552c\" y=\"10.999219\"/>\r\n      </g>\r\n     </g>\r\n     <g id=\"text_27\">\r\n      <!-- 1.00 -->\r\n      <g transform=\"translate(479.977 14.798437)scale(0.1 -0.1)\">\r\n       <use xlink:href=\"#DejaVuSans-49\"/>\r\n       <use x=\"63.623047\" xlink:href=\"#DejaVuSans-46\"/>\r\n       <use x=\"95.410156\" xlink:href=\"#DejaVuSans-48\"/>\r\n       <use x=\"159.033203\" xlink:href=\"#DejaVuSans-48\"/>\r\n      </g>\r\n     </g>\r\n    </g>\r\n   </g>\r\n   <g id=\"patch_4\">\r\n    <path d=\"M 462.105 228.439219 \r\nL 462.105 227.589844 \r\nL 462.105 11.848594 \r\nL 462.105 10.999219 \r\nL 472.977 10.999219 \r\nL 472.977 11.848594 \r\nL 472.977 227.589844 \r\nL 472.977 228.439219 \r\nz\r\n\" style=\"fill:none;\"/>\r\n   </g>\r\n  </g>\r\n </g>\r\n <defs>\r\n  <clipPath id=\"p5db74c8c37\">\r\n   <rect height=\"217.44\" width=\"267.84\" x=\"177.525\" y=\"10.999219\"/>\r\n  </clipPath>\r\n  <clipPath id=\"p4e1633011f\">\r\n   <rect height=\"217.44\" width=\"10.872\" x=\"462.105\" y=\"10.999219\"/>\r\n  </clipPath>\r\n </defs>\r\n</svg>\r\n",
      "image/png": "[encoded data removed]"
     },
     "metadata": {
      "needs_background": "light"
     }
    }
   ],
   "source": [
    "# Print heatmap again\n",
    "corrMatrix = websites_clean_numeric.corr()\n",
    "sns.heatmap(corrMatrix, cmap=cmap, vmax=1, vmin=-1)\n",
    "plt.show()"
   ]
  },
  {
   "cell_type": "markdown",
   "metadata": {},
   "source": [
    "# Challenge 3 - Handle Missing Values\n",
    "\n",
    "The next step would be handling missing values. **We start by examining the number of missing values in each column, which you will do in the next cell.**"
   ]
  },
  {
   "cell_type": "code",
   "execution_count": 22,
   "metadata": {},
   "outputs": [],
   "source": [
    "# Your code here\n",
    "#Lo hice en el EDA"
   ]
  },
  {
   "cell_type": "markdown",
   "metadata": {},
   "source": [
    "If you remember in the previous labs, we drop a column if the column contains a high proportion of missing values. After dropping those problematic columns, we drop the rows with missing values.\n",
    "\n",
    "#### In the cells below, handle the missing values from the dataset. Remember to comment the rationale of your decisions."
   ]
  },
  {
   "cell_type": "code",
   "execution_count": 23,
   "metadata": {},
   "outputs": [],
   "source": [
    "# Your code here\n",
    "#Lo hice en el EDA"
   ]
  },
  {
   "cell_type": "code",
   "execution_count": 24,
   "metadata": {},
   "outputs": [],
   "source": [
    "# Your comment here\n",
    "#He eliminado una columna en la que los faltantes eran casi la mitad del dataset y dos filas en las que había un faltante en cada una de ellas. "
   ]
  },
  {
   "cell_type": "markdown",
   "metadata": {},
   "source": [
    "#### Again, examine the number of missing values in each column. \n",
    "\n",
    "If all cleaned, proceed. Otherwise, go back and do more cleaning."
   ]
  },
  {
   "cell_type": "code",
   "execution_count": 25,
   "metadata": {},
   "outputs": [],
   "source": [
    "# Examine missing values in each column\n",
    "#Datos ya limpiados en el EDA"
   ]
  },
  {
   "cell_type": "markdown",
   "metadata": {},
   "source": [
    "# Challenge 4 - Handle `WHOIS_*` Categorical Data"
   ]
  },
  {
   "cell_type": "markdown",
   "metadata": {},
   "source": [
    "There are several categorical columns we need to handle. These columns are:\n",
    "\n",
    "* `URL`\n",
    "* `CHARSET`\n",
    "* `SERVER`\n",
    "* `WHOIS_COUNTRY`\n",
    "* `WHOIS_STATEPRO`\n",
    "* `WHOIS_REGDATE`\n",
    "* `WHOIS_UPDATED_DATE`\n",
    "\n",
    "How to handle string columns is always case by case. Let's start by working on `WHOIS_COUNTRY`. Your steps are:\n",
    "\n",
    "1. List out the unique values of `WHOIS_COUNTRY`.\n",
    "1. Consolidate the country values with consistent country codes. For example, the following values refer to the same country and should use consistent country code:\n",
    "    * `CY` and `Cyprus`\n",
    "    * `US` and `us`\n",
    "    * `SE` and `se`\n",
    "    * `GB`, `United Kingdom`, and `[u'GB'; u'UK']`\n",
    "\n",
    "#### In the cells below, fix the country values as intructed above."
   ]
  },
  {
   "cell_type": "code",
   "execution_count": 26,
   "metadata": {},
   "outputs": [
    {
     "output_type": "execute_result",
     "data": {
      "text/plain": [
       "array(['None', 'US', 'SC', 'GB', 'UK', 'RU', 'AU', 'CA', 'PA', 'se', 'IN',\n",
       "       'LU', 'TH', \"[u'GB'; u'UK']\", 'FR', 'NL', 'UG', 'JP', 'CN', 'SE',\n",
       "       'SI', 'IL', 'ru', 'KY', 'AT', 'CZ', 'PH', 'BE', 'NO', 'TR', 'LV',\n",
       "       'DE', 'ES', 'BR', 'us', 'KR', 'HK', 'UA', 'CH', 'United Kingdom',\n",
       "       'BS', 'PK', 'IT', 'Cyprus', 'BY', 'AE', 'IE', 'UY', 'KG'],\n",
       "      dtype=object)"
      ]
     },
     "metadata": {},
     "execution_count": 26
    }
   ],
   "source": [
    "# Your code here\n",
    "websites_clean[\"WHOIS_COUNTRY\"].unique()"
   ]
  },
  {
   "cell_type": "code",
   "execution_count": 27,
   "metadata": {},
   "outputs": [],
   "source": [
    " countries_dict = { \n",
    "     \"Cyprus\": \"CY\",\n",
    "     \"United Kingdom\" : \"UK\",\n",
    "     \"[u'GB'; u'UK']\": \"UK\"\n",
    "}\n",
    "for wrong, right in countries_dict.items():\n",
    "    websites_clean.loc[websites_clean[\"WHOIS_COUNTRY\"]==wrong, \"WHOIS_COUNTRY\"] = right\n",
    "\n",
    "\n",
    "    "
   ]
  },
  {
   "cell_type": "code",
   "execution_count": 28,
   "metadata": {},
   "outputs": [
    {
     "output_type": "execute_result",
     "data": {
      "text/plain": [
       "array(['None', 'US', 'SC', 'GB', 'UK', 'RU', 'AU', 'CA', 'PA', 'se', 'IN',\n",
       "       'LU', 'TH', 'FR', 'NL', 'UG', 'JP', 'CN', 'SE', 'SI', 'IL', 'ru',\n",
       "       'KY', 'AT', 'CZ', 'PH', 'BE', 'NO', 'TR', 'LV', 'DE', 'ES', 'BR',\n",
       "       'us', 'KR', 'HK', 'UA', 'CH', 'BS', 'PK', 'IT', 'CY', 'BY', 'AE',\n",
       "       'IE', 'UY', 'KG'], dtype=object)"
      ]
     },
     "metadata": {},
     "execution_count": 28
    }
   ],
   "source": [
    "websites_clean[\"WHOIS_COUNTRY\"].unique()\n"
   ]
  },
  {
   "cell_type": "code",
   "execution_count": 29,
   "metadata": {},
   "outputs": [],
   "source": [
    "websites_clean[\"WHOIS_COUNTRY\"] = websites_clean[\"WHOIS_COUNTRY\"].str.upper()"
   ]
  },
  {
   "cell_type": "code",
   "execution_count": null,
   "metadata": {},
   "outputs": [],
   "source": []
  },
  {
   "cell_type": "markdown",
   "metadata": {},
   "source": [
    "Since we have fixed the country values, can we convert this column to ordinal now?\n",
    "\n",
    "Not yet. If you reflect on the previous labs how we handle categorical columns, you probably remember we ended up dropping a lot of those columns because there are too many unique values. Too many unique values in a column is not desirable in machine learning because it makes prediction inaccurate. But there are workarounds under certain conditions. One of the fixable conditions is:\n",
    "\n",
    "#### If a limited number of values account for the majority of data, we can retain these top values and re-label all other rare values.\n",
    "\n",
    "The `WHOIS_COUNTRY` column happens to be this case. You can verify it by print a bar chart of the `value_counts` in the next cell to verify:"
   ]
  },
  {
   "cell_type": "code",
   "execution_count": 30,
   "metadata": {},
   "outputs": [
    {
     "output_type": "execute_result",
     "data": {
      "text/plain": [
       "US      1105\n",
       "NONE     306\n",
       "CA        83\n",
       "ES        63\n",
       "AU        35\n",
       "PA        21\n",
       "GB        19\n",
       "UK        16\n",
       "JP        11\n",
       "IN        10\n",
       "CN        10\n",
       "CZ         9\n",
       "FR         9\n",
       "NL         6\n",
       "CH         6\n",
       "RU         6\n",
       "KR         5\n",
       "SE         4\n",
       "AT         4\n",
       "BS         4\n",
       "PH         4\n",
       "SC         3\n",
       "BE         3\n",
       "KY         3\n",
       "HK         3\n",
       "DE         3\n",
       "TR         3\n",
       "BR         2\n",
       "KG         2\n",
       "NO         2\n",
       "CY         2\n",
       "UY         2\n",
       "IL         2\n",
       "UA         2\n",
       "SI         2\n",
       "PK         1\n",
       "IT         1\n",
       "LV         1\n",
       "BY         1\n",
       "AE         1\n",
       "TH         1\n",
       "LU         1\n",
       "UG         1\n",
       "IE         1\n",
       "Name: WHOIS_COUNTRY, dtype: int64"
      ]
     },
     "metadata": {},
     "execution_count": 30
    }
   ],
   "source": [
    "# Your code here\n",
    "websites_clean[\"WHOIS_COUNTRY\"].value_counts()"
   ]
  },
  {
   "cell_type": "markdown",
   "metadata": {},
   "source": [
    "#### After verifying, now let's keep the top 10 values of the column and re-label other columns with `OTHER`."
   ]
  },
  {
   "cell_type": "code",
   "execution_count": 31,
   "metadata": {},
   "outputs": [],
   "source": [
    "top_ten = websites_clean[\"WHOIS_COUNTRY\"].value_counts()[:10].index.values "
   ]
  },
  {
   "cell_type": "code",
   "execution_count": 32,
   "metadata": {},
   "outputs": [],
   "source": [
    "\n",
    "for country in websites_clean[\"WHOIS_COUNTRY\"].unique():\n",
    "    if country not in top_ten:\n",
    "        websites_clean.loc[websites_clean[\"WHOIS_COUNTRY\"]==country, \"WHOIS_COUNTRY\"]=\"OTHER\"\n",
    "   "
   ]
  },
  {
   "cell_type": "code",
   "execution_count": 33,
   "metadata": {},
   "outputs": [
    {
     "output_type": "execute_result",
     "data": {
      "text/plain": [
       "US       1105\n",
       "NONE      306\n",
       "OTHER     110\n",
       "CA         83\n",
       "ES         63\n",
       "AU         35\n",
       "PA         21\n",
       "GB         19\n",
       "UK         16\n",
       "JP         11\n",
       "IN         10\n",
       "Name: WHOIS_COUNTRY, dtype: int64"
      ]
     },
     "metadata": {},
     "execution_count": 33
    }
   ],
   "source": [
    "websites_clean[\"WHOIS_COUNTRY\"].value_counts()"
   ]
  },
  {
   "cell_type": "markdown",
   "metadata": {},
   "source": [
    "Now since `WHOIS_COUNTRY` has been re-labelled, we don't need `WHOIS_STATEPRO` any more because the values of the states or provinces may not be relevant any more. We'll drop this column.\n",
    "\n",
    "In addition, we will also drop `WHOIS_REGDATE` and `WHOIS_UPDATED_DATE`. These are the registration and update dates of the website domains. Not of our concerns.\n",
    "\n",
    "#### In the next cell, drop `['WHOIS_STATEPRO', 'WHOIS_REGDATE', 'WHOIS_UPDATED_DATE']`."
   ]
  },
  {
   "cell_type": "code",
   "execution_count": 34,
   "metadata": {},
   "outputs": [],
   "source": [
    "# Your code here\n",
    "websites_clean = websites_clean.drop(columns=['WHOIS_STATEPRO', 'WHOIS_REGDATE', 'WHOIS_UPDATED_DATE'], axis=1) "
   ]
  },
  {
   "cell_type": "markdown",
   "metadata": {},
   "source": [
    "# Challenge 5 - Handle Remaining Categorical Data & Convert to Ordinal\n",
    "\n",
    "Now print the `dtypes` of the data again. Besides `WHOIS_COUNTRY` which we already fixed, there should be 3 categorical columns left: `URL`, `CHARSET`, and `SERVER`."
   ]
  },
  {
   "cell_type": "code",
   "execution_count": 35,
   "metadata": {},
   "outputs": [
    {
     "output_type": "execute_result",
     "data": {
      "text/plain": [
       "URL                           object\n",
       "URL_LENGTH                     int64\n",
       "NUMBER_SPECIAL_CHARACTERS      int64\n",
       "CHARSET                       object\n",
       "SERVER                        object\n",
       "WHOIS_COUNTRY                 object\n",
       "TCP_CONVERSATION_EXCHANGE      int64\n",
       "DIST_REMOTE_TCP_PORT           int64\n",
       "REMOTE_IPS                     int64\n",
       "APP_BYTES                      int64\n",
       "SOURCE_APP_PACKETS             int64\n",
       "REMOTE_APP_PACKETS             int64\n",
       "SOURCE_APP_BYTES               int64\n",
       "REMOTE_APP_BYTES               int64\n",
       "APP_PACKETS                    int64\n",
       "DNS_QUERY_TIMES              float64\n",
       "Type                           int64\n",
       "dtype: object"
      ]
     },
     "metadata": {},
     "execution_count": 35
    }
   ],
   "source": [
    "# Your code here\n",
    "websites_clean.dtypes"
   ]
  },
  {
   "cell_type": "markdown",
   "metadata": {},
   "source": [
    "#### `URL` is easy. We'll simply drop it because it has too many unique values that there's no way for us to consolidate."
   ]
  },
  {
   "cell_type": "code",
   "execution_count": 36,
   "metadata": {},
   "outputs": [],
   "source": [
    "# Your code here\n",
    "websites_clean = websites_clean.drop(columns=['URL'], axis=1)"
   ]
  },
  {
   "cell_type": "markdown",
   "metadata": {},
   "source": [
    "#### Print the unique value counts of `CHARSET`. You see there are only a few unique values. So we can keep it as it is."
   ]
  },
  {
   "cell_type": "code",
   "execution_count": 37,
   "metadata": {},
   "outputs": [
    {
     "output_type": "execute_result",
     "data": {
      "text/plain": [
       "array(['iso-8859-1', 'UTF-8', 'us-ascii', 'ISO-8859-1', 'utf-8', 'None',\n",
       "       'windows-1251', 'ISO-8859', 'windows-1252'], dtype=object)"
      ]
     },
     "metadata": {},
     "execution_count": 37
    }
   ],
   "source": [
    "# Your code here\n",
    "websites_clean[\"CHARSET\"].unique()"
   ]
  },
  {
   "cell_type": "markdown",
   "metadata": {},
   "source": [
    "`SERVER` is a little more complicated. Print its unique values and think about how you can consolidate those values.\n",
    "\n",
    "#### Before you think of your own solution, don't read the instructions that come next."
   ]
  },
  {
   "cell_type": "code",
   "execution_count": 38,
   "metadata": {},
   "outputs": [
    {
     "output_type": "execute_result",
     "data": {
      "text/plain": [
       "Apache                   385\n",
       "nginx                    211\n",
       "None                     175\n",
       "Microsoft-HTTPAPI/2.0    113\n",
       "cloudflare-nginx          94\n",
       "Microsoft-IIS/7.5         51\n",
       "GSE                       49\n",
       "Server                    49\n",
       "YouTubeFrontEnd           42\n",
       "nginx/1.12.0              36\n",
       "Name: SERVER, dtype: int64"
      ]
     },
     "metadata": {},
     "execution_count": 38
    }
   ],
   "source": [
    "# Your code here\n",
    "websites_clean[\"SERVER\"].value_counts()[:10]"
   ]
  },
  {
   "cell_type": "markdown",
   "metadata": {},
   "source": [
    "![Think Hard](../think-hard.jpg)"
   ]
  },
  {
   "cell_type": "code",
   "execution_count": 39,
   "metadata": {},
   "outputs": [],
   "source": [
    "# Your comment here\n",
    "#Cogemos los más populares y los demás los catalogamos como otros, buscaremos solo el entorno de desarrollo porque tienen tags"
   ]
  },
  {
   "cell_type": "markdown",
   "metadata": {},
   "source": [
    "Although there are so many unique values in the `SERVER` column, there are actually only 3 main server types: `Microsoft`, `Apache`, and `nginx`. Just check if each `SERVER` value contains any of those server types and re-label them. For `SERVER` values that don't contain any of those substrings, label with `Other`.\n",
    "\n",
    "At the end, your `SERVER` column should only contain 4 unique values: `Microsoft`, `Apache`, `nginx`, and `Other`."
   ]
  },
  {
   "cell_type": "code",
   "execution_count": 40,
   "metadata": {},
   "outputs": [],
   "source": [
    "# Your code here\n",
    "top_three = [\"Microsoft\", \"Apache\", \"nginx\"]"
   ]
  },
  {
   "cell_type": "code",
   "execution_count": 41,
   "metadata": {},
   "outputs": [],
   "source": [
    "for server in websites_clean[\"SERVER\"].unique():\n",
    "    assign = \"OTHER\"\n",
    "    for serverT3 in top_three:\n",
    "        if serverT3.lower() in server.lower():\n",
    "            assign = serverT3\n",
    "    websites_clean.loc[websites_clean[\"SERVER\"]==server, \"SERVER\"]=assign"
   ]
  },
  {
   "cell_type": "code",
   "execution_count": 42,
   "metadata": {
    "scrolled": false
   },
   "outputs": [
    {
     "output_type": "execute_result",
     "data": {
      "text/plain": [
       "Apache       642\n",
       "OTHER        503\n",
       "nginx        436\n",
       "Microsoft    198\n",
       "Name: SERVER, dtype: int64"
      ]
     },
     "metadata": {},
     "execution_count": 42
    }
   ],
   "source": [
    "# Count `SERVER` value counts here\n",
    "websites_clean[\"SERVER\"].value_counts()"
   ]
  },
  {
   "cell_type": "markdown",
   "metadata": {},
   "source": [
    "OK, all our categorical data are fixed now. **Let's convert them to ordinal data using Pandas' `get_dummies` function ([documentation](https://pandas.pydata.org/pandas-docs/stable/generated/pandas.get_dummies.html)).** Make sure you drop the categorical columns by passing `drop_first=True` to `get_dummies` as we don't need them any more. **Also, assign the data with dummy values to a new variable `website_dummy`.**"
   ]
  },
  {
   "cell_type": "code",
   "execution_count": 43,
   "metadata": {},
   "outputs": [],
   "source": [
    "# Your code here\n",
    "website_dummy = pd.get_dummies(websites_clean)"
   ]
  },
  {
   "cell_type": "markdown",
   "metadata": {},
   "source": [
    "Now, inspect `website_dummy` to make sure the data and types are intended - there shouldn't be any categorical columns at this point."
   ]
  },
  {
   "cell_type": "code",
   "execution_count": 44,
   "metadata": {},
   "outputs": [
    {
     "output_type": "execute_result",
     "data": {
      "text/plain": [
       "URL_LENGTH                     int64\n",
       "NUMBER_SPECIAL_CHARACTERS      int64\n",
       "TCP_CONVERSATION_EXCHANGE      int64\n",
       "DIST_REMOTE_TCP_PORT           int64\n",
       "REMOTE_IPS                     int64\n",
       "APP_BYTES                      int64\n",
       "SOURCE_APP_PACKETS             int64\n",
       "REMOTE_APP_PACKETS             int64\n",
       "SOURCE_APP_BYTES               int64\n",
       "REMOTE_APP_BYTES               int64\n",
       "APP_PACKETS                    int64\n",
       "DNS_QUERY_TIMES              float64\n",
       "Type                           int64\n",
       "CHARSET_ISO-8859               uint8\n",
       "CHARSET_ISO-8859-1             uint8\n",
       "CHARSET_None                   uint8\n",
       "CHARSET_UTF-8                  uint8\n",
       "CHARSET_iso-8859-1             uint8\n",
       "CHARSET_us-ascii               uint8\n",
       "CHARSET_utf-8                  uint8\n",
       "CHARSET_windows-1251           uint8\n",
       "CHARSET_windows-1252           uint8\n",
       "SERVER_Apache                  uint8\n",
       "SERVER_Microsoft               uint8\n",
       "SERVER_OTHER                   uint8\n",
       "SERVER_nginx                   uint8\n",
       "WHOIS_COUNTRY_AU               uint8\n",
       "WHOIS_COUNTRY_CA               uint8\n",
       "WHOIS_COUNTRY_ES               uint8\n",
       "WHOIS_COUNTRY_GB               uint8\n",
       "WHOIS_COUNTRY_IN               uint8\n",
       "WHOIS_COUNTRY_JP               uint8\n",
       "WHOIS_COUNTRY_NONE             uint8\n",
       "WHOIS_COUNTRY_OTHER            uint8\n",
       "WHOIS_COUNTRY_PA               uint8\n",
       "WHOIS_COUNTRY_UK               uint8\n",
       "WHOIS_COUNTRY_US               uint8\n",
       "dtype: object"
      ]
     },
     "metadata": {},
     "execution_count": 44
    }
   ],
   "source": [
    "# Your code here\n",
    "website_dummy.dtypes"
   ]
  },
  {
   "cell_type": "markdown",
   "metadata": {},
   "source": [
    "# Challenge 6 - Modeling, Prediction, and Evaluation\n",
    "\n",
    "We'll start off this section by splitting the data to train and test. **Name your 4 variables `X_train`, `X_test`, `y_train`, and `y_test`. Select 80% of the data for training and 20% for testing.**"
   ]
  },
  {
   "cell_type": "code",
   "execution_count": 45,
   "metadata": {},
   "outputs": [],
   "source": [
    "from sklearn.model_selection import train_test_split\n",
    "\n",
    "# Your code here:\n"
   ]
  },
  {
   "cell_type": "code",
   "execution_count": 46,
   "metadata": {},
   "outputs": [],
   "source": [
    "X = website_dummy.drop(columns=[\"Type\"], axis=1)\n",
    "y = website_dummy[\"Type\"]"
   ]
  },
  {
   "cell_type": "code",
   "execution_count": 47,
   "metadata": {},
   "outputs": [],
   "source": [
    "X_train, X_test, y_train, y_test = train_test_split(X,y, test_size= 0.20)"
   ]
  },
  {
   "cell_type": "markdown",
   "metadata": {},
   "source": [
    "#### In this lab, we will try two different models and compare our results.\n",
    "\n",
    "The first model we will use in this lab is logistic regression. We have previously learned about logistic regression as a classification algorithm. In the cell below, load `LogisticRegression` from scikit-learn and initialize the model."
   ]
  },
  {
   "cell_type": "code",
   "execution_count": 48,
   "metadata": {},
   "outputs": [],
   "source": [
    "# Your code here:\n",
    "from sklearn.linear_model import LogisticRegression"
   ]
  },
  {
   "cell_type": "code",
   "execution_count": 49,
   "metadata": {},
   "outputs": [],
   "source": [
    "log_reg = LogisticRegression()"
   ]
  },
  {
   "cell_type": "markdown",
   "metadata": {},
   "source": [
    "Next, fit the model to our training data. We have already separated our data into 4 parts. Use those in your model."
   ]
  },
  {
   "cell_type": "code",
   "execution_count": 50,
   "metadata": {},
   "outputs": [
    {
     "output_type": "execute_result",
     "data": {
      "text/plain": [
       "LogisticRegression()"
      ]
     },
     "metadata": {},
     "execution_count": 50
    }
   ],
   "source": [
    "# Your code here:\n",
    "log_reg.fit(X_train,y_train)"
   ]
  },
  {
   "cell_type": "markdown",
   "metadata": {},
   "source": [
    "finally, import `confusion_matrix` and `accuracy_score` from `sklearn.metrics` and fit our testing data. Assign the fitted data to `y_pred` and print the confusion matrix as well as the accuracy score"
   ]
  },
  {
   "cell_type": "code",
   "execution_count": 51,
   "metadata": {},
   "outputs": [],
   "source": [
    "# Your code here:\n",
    "from sklearn.metrics import confusion_matrix, accuracy_score\n"
   ]
  },
  {
   "cell_type": "code",
   "execution_count": 52,
   "metadata": {},
   "outputs": [],
   "source": [
    "y_pred = log_reg.predict(X_test)"
   ]
  },
  {
   "cell_type": "code",
   "execution_count": 53,
   "metadata": {},
   "outputs": [
    {
     "output_type": "execute_result",
     "data": {
      "text/plain": [
       "array([[317,   2],\n",
       "       [ 35,   2]], dtype=int64)"
      ]
     },
     "metadata": {},
     "execution_count": 53
    }
   ],
   "source": [
    "confusion_matrix (y_test, y_pred)"
   ]
  },
  {
   "cell_type": "code",
   "execution_count": 54,
   "metadata": {},
   "outputs": [
    {
     "output_type": "execute_result",
     "data": {
      "text/plain": [
       "array([[0.89044944, 0.00561798],\n",
       "       [0.09831461, 0.00561798]])"
      ]
     },
     "metadata": {},
     "execution_count": 54
    }
   ],
   "source": [
    "confusion_matrix(y_test, y_pred, normalize=\"all\")"
   ]
  },
  {
   "cell_type": "code",
   "execution_count": 55,
   "metadata": {},
   "outputs": [
    {
     "output_type": "execute_result",
     "data": {
      "text/plain": [
       "0.8960674157303371"
      ]
     },
     "metadata": {},
     "execution_count": 55
    }
   ],
   "source": [
    "accuracy_score(y_test, y_pred)"
   ]
  },
  {
   "cell_type": "markdown",
   "metadata": {},
   "source": [
    "What are your thoughts on the performance of the model? Write your conclusions below."
   ]
  },
  {
   "cell_type": "code",
   "execution_count": 56,
   "metadata": {},
   "outputs": [],
   "source": [
    "# Your conclusions here:\n",
    "#La matriz de confusión nos indica que el porcentaje de falsos negativos y falsos positivos es bastante pequeño. Nuestro modelo está aparentemente bien ajustado. En el caso de los negativos, el modelo es menos preciso y el algoritmo cataloga mal algunos positivos como negativos. Respecto a la accuracy score nos indica que el sesgo es pequeño."
   ]
  },
  {
   "cell_type": "markdown",
   "metadata": {},
   "source": [
    "#### Our second algorithm is is K-Nearest Neighbors. \n",
    "\n",
    "Though is it not required, we will fit a model using the training data and then test the performance of the model using the testing data. Start by loading `KNeighborsClassifier` from scikit-learn and then initializing and fitting the model. We'll start off with a model where k=3."
   ]
  },
  {
   "cell_type": "code",
   "execution_count": 57,
   "metadata": {},
   "outputs": [],
   "source": [
    "# Your code here:\n",
    "from sklearn.neighbors import KNeighborsClassifier as KNN"
   ]
  },
  {
   "cell_type": "code",
   "execution_count": 58,
   "metadata": {},
   "outputs": [],
   "source": [
    "mod = KNN(n_neighbors=3)"
   ]
  },
  {
   "cell_type": "code",
   "execution_count": 59,
   "metadata": {},
   "outputs": [
    {
     "output_type": "execute_result",
     "data": {
      "text/plain": [
       "KNeighborsClassifier(n_neighbors=3)"
      ]
     },
     "metadata": {},
     "execution_count": 59
    }
   ],
   "source": [
    "mod.fit(X_train,y_train)"
   ]
  },
  {
   "cell_type": "markdown",
   "metadata": {},
   "source": [
    "To test your model, compute the predicted values for the testing sample and print the confusion matrix as well as the accuracy score."
   ]
  },
  {
   "cell_type": "code",
   "execution_count": 60,
   "metadata": {},
   "outputs": [],
   "source": [
    "# Your code here:\n",
    "y_pred = mod.predict(X_test)\n"
   ]
  },
  {
   "cell_type": "code",
   "execution_count": 61,
   "metadata": {},
   "outputs": [
    {
     "output_type": "execute_result",
     "data": {
      "text/plain": [
       "array([[0.86516854, 0.03089888],\n",
       "       [0.04494382, 0.05898876]])"
      ]
     },
     "metadata": {},
     "execution_count": 61
    }
   ],
   "source": [
    "confusion_matrix(y_test, y_pred, normalize=\"all\")"
   ]
  },
  {
   "cell_type": "code",
   "execution_count": 62,
   "metadata": {},
   "outputs": [
    {
     "output_type": "execute_result",
     "data": {
      "text/plain": [
       "0.9241573033707865"
      ]
     },
     "metadata": {},
     "execution_count": 62
    }
   ],
   "source": [
    "accuracy_score(y_test, y_pred)"
   ]
  },
  {
   "cell_type": "markdown",
   "metadata": {},
   "source": [
    "#### We'll create another K-Nearest Neighbors model with k=5. \n",
    "\n",
    "Initialize and fit the model below and print the confusion matrix and the accuracy score."
   ]
  },
  {
   "cell_type": "code",
   "execution_count": 63,
   "metadata": {},
   "outputs": [],
   "source": [
    "# Your code here:\n",
    "mod2 = KNN(n_neighbors=5)"
   ]
  },
  {
   "cell_type": "code",
   "execution_count": 64,
   "metadata": {},
   "outputs": [
    {
     "output_type": "execute_result",
     "data": {
      "text/plain": [
       "KNeighborsClassifier()"
      ]
     },
     "metadata": {},
     "execution_count": 64
    }
   ],
   "source": [
    "mod2.fit(X_train,y_train)"
   ]
  },
  {
   "cell_type": "code",
   "execution_count": 65,
   "metadata": {},
   "outputs": [],
   "source": [
    "y_pred = mod2.predict(X_test)"
   ]
  },
  {
   "cell_type": "code",
   "execution_count": 66,
   "metadata": {},
   "outputs": [
    {
     "output_type": "execute_result",
     "data": {
      "text/plain": [
       "array([[0.87078652, 0.0252809 ],\n",
       "       [0.03932584, 0.06460674]])"
      ]
     },
     "metadata": {},
     "execution_count": 66
    }
   ],
   "source": [
    "confusion_matrix(y_test, y_pred, normalize=\"all\")"
   ]
  },
  {
   "cell_type": "code",
   "execution_count": 67,
   "metadata": {},
   "outputs": [
    {
     "output_type": "execute_result",
     "data": {
      "text/plain": [
       "0.9353932584269663"
      ]
     },
     "metadata": {},
     "execution_count": 67
    }
   ],
   "source": [
    "accuracy_score(y_test, y_pred)"
   ]
  },
  {
   "cell_type": "markdown",
   "metadata": {},
   "source": [
    "Did you see an improvement in the confusion matrix when increasing k to 5? Did you see an improvement in the accuracy score? Write your conclusions below."
   ]
  },
  {
   "cell_type": "code",
   "execution_count": 68,
   "metadata": {},
   "outputs": [],
   "source": [
    "# Your conclusions here:\n",
    "#Cuando usamos una constante 3 el modelo mejora, sin embargo cuando metemos la constante 5, empeora. Esto probablemente se deba a que los casos de frontera se mezclen. \n"
   ]
  },
  {
   "cell_type": "markdown",
   "metadata": {},
   "source": [
    "# Bonus Challenge - Feature Scaling\n",
    "\n",
    "Problem-solving in machine learning is iterative. You can improve your model prediction with various techniques (there is a sweetspot for the time you spend and the improvement you receive though). Now you've completed only one iteration of ML analysis. There are more iterations you can conduct to make improvements. In order to be able to do that, you will need deeper knowledge in statistics and master more data analysis techniques. In this bootcamp, we don't have time to achieve that advanced goal. But you will make constant efforts after the bootcamp to eventually get there.\n",
    "\n",
    "However, now we do want you to learn one of the advanced techniques which is called *feature scaling*. The idea of feature scaling is to standardize/normalize the range of independent variables or features of the data. This can make the outliers more apparent so that you can remove them. This step needs to happen during Challenge 6 after you split the training and test data because you don't want to split the data again which makes it impossible to compare your results with and without feature scaling. For general concepts about feature scaling, click [here](https://en.wikipedia.org/wiki/Feature_scaling). To read deeper, click [here](https://medium.com/greyatom/why-how-and-when-to-scale-your-features-4b30ab09db5e).\n",
    "\n",
    "In the next cell, attempt to improve your model prediction accuracy by means of feature scaling. A library you can utilize is `sklearn.preprocessing.RobustScaler` ([documentation](https://scikit-learn.org/stable/modules/generated/sklearn.preprocessing.RobustScaler.html)). You'll use the `RobustScaler` to fit and transform your `X_train`, then transform `X_test`. You will use logistic regression to fit and predict your transformed data and obtain the accuracy score in the same way. Compare the accuracy score with your normalized data with the previous accuracy data. Is there an improvement?"
   ]
  },
  {
   "cell_type": "code",
   "execution_count": 69,
   "metadata": {},
   "outputs": [],
   "source": [
    "# Your code here"
   ]
  }
 ],
 "metadata": {
  "kernelspec": {
   "display_name": "Python 3",
   "language": "python",
   "name": "python3"
  },
  "language_info": {
   "codemirror_mode": {
    "name": "ipython",
    "version": 3
   },
   "file_extension": ".py",
   "mimetype": "text/x-python",
   "name": "python",
   "nbconvert_exporter": "python",
   "pygments_lexer": "ipython3",
   "version": "3.8.3-final"
  }
 },
 "nbformat": 4,
 "nbformat_minor": 2
}