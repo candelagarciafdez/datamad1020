{
 "cells": [
  {
   "cell_type": "markdown",
   "metadata": {},
   "source": [
    "# Before your start:\n",
    "- Read the README.md file\n",
    "- Comment as much as you can and use the resources (README.md file)\n",
    "- Happy learning!"
   ]
  },
  {
   "cell_type": "code",
   "execution_count": 3,
   "metadata": {},
   "outputs": [],
   "source": [
    "# import numpy and pandas\n",
    "import pandas as pd\n",
    "import numpy as np"
   ]
  },
  {
   "cell_type": "markdown",
   "metadata": {},
   "source": [
    "# Challenge 1 - Exploring the Data\n",
    "\n",
    "In this challenge, we will examine all salaries of employees of the City of Chicago. We will start by loading the dataset and examining its contents"
   ]
  },
  {
   "cell_type": "code",
   "execution_count": 4,
   "metadata": {},
   "outputs": [],
   "source": [
    "# Run this code:\n",
    "\n",
    "salaries = pd.read_csv('../Current_Employee_Names__Salaries__and_Position_Titles.csv')"
   ]
  },
  {
   "cell_type": "markdown",
   "metadata": {},
   "source": [
    "Examine the `salaries` dataset using the `head` function below."
   ]
  },
  {
   "cell_type": "code",
   "execution_count": 5,
   "metadata": {},
   "outputs": [
    {
     "output_type": "execute_result",
     "data": {
      "text/plain": [
       "                  Name                              Job Titles  \\\n",
       "0    AARON,  JEFFERY M                                SERGEANT   \n",
       "1      AARON,  KARINA   POLICE OFFICER (ASSIGNED AS DETECTIVE)   \n",
       "2  AARON,  KIMBERLEI R                CHIEF CONTRACT EXPEDITER   \n",
       "3  ABAD JR,  VICENTE M                       CIVIL ENGINEER IV   \n",
       "4    ABASCAL,  REECE E             TRAFFIC CONTROL AIDE-HOURLY   \n",
       "\n",
       "         Department Full or Part-Time Salary or Hourly  Typical Hours  \\\n",
       "0            POLICE                 F           Salary            NaN   \n",
       "1            POLICE                 F           Salary            NaN   \n",
       "2  GENERAL SERVICES                 F           Salary            NaN   \n",
       "3       WATER MGMNT                 F           Salary            NaN   \n",
       "4              OEMC                 P           Hourly           20.0   \n",
       "\n",
       "   Annual Salary  Hourly Rate  \n",
       "0       101442.0          NaN  \n",
       "1        94122.0          NaN  \n",
       "2       101592.0          NaN  \n",
       "3       110064.0          NaN  \n",
       "4            NaN        19.86  "
      ],
      "text/html": "<div>\n<style scoped>\n    .dataframe tbody tr th:only-of-type {\n        vertical-align: middle;\n    }\n\n    .dataframe tbody tr th {\n        vertical-align: top;\n    }\n\n    .dataframe thead th {\n        text-align: right;\n    }\n</style>\n<table border=\"1\" class=\"dataframe\">\n  <thead>\n    <tr style=\"text-align: right;\">\n      <th></th>\n      <th>Name</th>\n      <th>Job Titles</th>\n      <th>Department</th>\n      <th>Full or Part-Time</th>\n      <th>Salary or Hourly</th>\n      <th>Typical Hours</th>\n      <th>Annual Salary</th>\n      <th>Hourly Rate</th>\n    </tr>\n  </thead>\n  <tbody>\n    <tr>\n      <th>0</th>\n      <td>AARON,  JEFFERY M</td>\n      <td>SERGEANT</td>\n      <td>POLICE</td>\n      <td>F</td>\n      <td>Salary</td>\n      <td>NaN</td>\n      <td>101442.0</td>\n      <td>NaN</td>\n    </tr>\n    <tr>\n      <th>1</th>\n      <td>AARON,  KARINA</td>\n      <td>POLICE OFFICER (ASSIGNED AS DETECTIVE)</td>\n      <td>POLICE</td>\n      <td>F</td>\n      <td>Salary</td>\n      <td>NaN</td>\n      <td>94122.0</td>\n      <td>NaN</td>\n    </tr>\n    <tr>\n      <th>2</th>\n      <td>AARON,  KIMBERLEI R</td>\n      <td>CHIEF CONTRACT EXPEDITER</td>\n      <td>GENERAL SERVICES</td>\n      <td>F</td>\n      <td>Salary</td>\n      <td>NaN</td>\n      <td>101592.0</td>\n      <td>NaN</td>\n    </tr>\n    <tr>\n      <th>3</th>\n      <td>ABAD JR,  VICENTE M</td>\n      <td>CIVIL ENGINEER IV</td>\n      <td>WATER MGMNT</td>\n      <td>F</td>\n      <td>Salary</td>\n      <td>NaN</td>\n      <td>110064.0</td>\n      <td>NaN</td>\n    </tr>\n    <tr>\n      <th>4</th>\n      <td>ABASCAL,  REECE E</td>\n      <td>TRAFFIC CONTROL AIDE-HOURLY</td>\n      <td>OEMC</td>\n      <td>P</td>\n      <td>Hourly</td>\n      <td>20.0</td>\n      <td>NaN</td>\n      <td>19.86</td>\n    </tr>\n  </tbody>\n</table>\n</div>"
     },
     "metadata": {},
     "execution_count": 5
    }
   ],
   "source": [
    "# Your code here:\n",
    "salaries.head()"
   ]
  },
  {
   "cell_type": "markdown",
   "metadata": {},
   "source": [
    "We see from looking at the `head` function that there is quite a bit of missing data. Let's examine how much missing data is in each column. Produce this output in the cell below"
   ]
  },
  {
   "cell_type": "code",
   "execution_count": 6,
   "metadata": {},
   "outputs": [
    {
     "output_type": "execute_result",
     "data": {
      "text/plain": [
       "Name                 0.00000\n",
       "Job Titles           0.00000\n",
       "Department           0.00000\n",
       "Full or Part-Time    0.00000\n",
       "Salary or Hourly     0.00000\n",
       "Typical Hours        0.75825\n",
       "Annual Salary        0.24175\n",
       "Hourly Rate          0.75825\n",
       "dtype: float64"
      ]
     },
     "metadata": {},
     "execution_count": 6
    }
   ],
   "source": [
    "# Your code here:\n",
    "salaries.isna().sum(axis=0)/salaries.shape[0]"
   ]
  },
  {
   "cell_type": "markdown",
   "metadata": {},
   "source": [
    "Let's also look at the count of hourly vs. salaried employees. Write the code in the cell below"
   ]
  },
  {
   "cell_type": "code",
   "execution_count": 7,
   "metadata": {},
   "outputs": [
    {
     "output_type": "execute_result",
     "data": {
      "text/plain": [
       "Salary    25161\n",
       "Hourly     8022\n",
       "Name: Salary or Hourly, dtype: int64"
      ]
     },
     "metadata": {},
     "execution_count": 7
    }
   ],
   "source": [
    "# Your code here:\n",
    "\n",
    "salaries[\"Salary or Hourly\"].value_counts()"
   ]
  },
  {
   "cell_type": "markdown",
   "metadata": {},
   "source": [
    "What this information indicates is that the table contains information about two types of employees - salaried and hourly. Some columns apply only to one type of employee while other columns only apply to another kind. This is why there are so many missing values. Therefore, we will not do anything to handle the missing values."
   ]
  },
  {
   "cell_type": "markdown",
   "metadata": {},
   "source": [
    "There are different departments in the city. List all departments and the count of employees in each department."
   ]
  },
  {
   "cell_type": "code",
   "execution_count": 8,
   "metadata": {},
   "outputs": [
    {
     "output_type": "execute_result",
     "data": {
      "text/plain": [
       "POLICE                   13414\n",
       "FIRE                      4641\n",
       "STREETS & SAN             2198\n",
       "OEMC                      2102\n",
       "WATER MGMNT               1879\n",
       "AVIATION                  1629\n",
       "TRANSPORTN                1140\n",
       "PUBLIC LIBRARY            1015\n",
       "GENERAL SERVICES           980\n",
       "FAMILY & SUPPORT           615\n",
       "FINANCE                    560\n",
       "HEALTH                     488\n",
       "CITY COUNCIL               411\n",
       "LAW                        407\n",
       "BUILDINGS                  269\n",
       "COMMUNITY DEVELOPMENT      207\n",
       "BUSINESS AFFAIRS           171\n",
       "COPA                       116\n",
       "BOARD OF ELECTION          107\n",
       "DoIT                        99\n",
       "PROCUREMENT                 92\n",
       "INSPECTOR GEN               87\n",
       "MAYOR'S OFFICE              85\n",
       "CITY CLERK                  84\n",
       "ANIMAL CONTRL               81\n",
       "HUMAN RESOURCES             79\n",
       "CULTURAL AFFAIRS            65\n",
       "BUDGET & MGMT               46\n",
       "ADMIN HEARNG                39\n",
       "DISABILITIES                28\n",
       "TREASURER                   22\n",
       "HUMAN RELATIONS             16\n",
       "BOARD OF ETHICS              8\n",
       "POLICE BOARD                 2\n",
       "LICENSE APPL COMM            1\n",
       "Name: Department, dtype: int64"
      ]
     },
     "metadata": {},
     "execution_count": 8
    }
   ],
   "source": [
    "# Your code here:\n",
    "salaries[\"Department\"].value_counts()"
   ]
  },
  {
   "cell_type": "markdown",
   "metadata": {},
   "source": [
    "# Challenge 2 - Hypothesis Tests\n",
    "\n",
    "In this section of the lab, we will test whether the hourly wage of all hourly workers is significantly different from $30/hr. Import the correct one sample test function from scipy and perform the hypothesis test for a 95% two sided confidence interval."
   ]
  },
  {
   "cell_type": "code",
   "execution_count": 9,
   "metadata": {},
   "outputs": [
    {
     "output_type": "execute_result",
     "data": {
      "text/plain": [
       "array(['Salary', 'Hourly'], dtype=object)"
      ]
     },
     "metadata": {},
     "execution_count": 9
    }
   ],
   "source": [
    "salaries[\"Salary or Hourly\"].unique()"
   ]
  },
  {
   "cell_type": "code",
   "execution_count": 10,
   "metadata": {},
   "outputs": [],
   "source": [
    "# Your code here:\n",
    "hourly_worker = salaries[salaries[\"Salary or Hourly\"] == \"Hourly\"][\"Hourly Rate\"]\n",
    "salary_hour = 30\n"
   ]
  },
  {
   "cell_type": "code",
   "execution_count": 11,
   "metadata": {},
   "outputs": [],
   "source": [
    "from scipy.stats import ttest_1samp"
   ]
  },
  {
   "cell_type": "code",
   "execution_count": 12,
   "metadata": {},
   "outputs": [],
   "source": [
    "prob = ttest_1samp(hourly_worker, salary_hour)"
   ]
  },
  {
   "cell_type": "code",
   "execution_count": 13,
   "metadata": {},
   "outputs": [
    {
     "output_type": "execute_result",
     "data": {
      "text/plain": [
       "Ttest_1sampResult(statistic=20.6198057854942, pvalue=4.3230240486229894e-92)"
      ]
     },
     "metadata": {},
     "execution_count": 13
    }
   ],
   "source": [
    "prob"
   ]
  },
  {
   "cell_type": "code",
   "execution_count": null,
   "metadata": {},
   "outputs": [],
   "source": [
    "#pvalue es menor que 0.05, así que rechazamos la hipótesis nula."
   ]
  },
  {
   "cell_type": "markdown",
   "metadata": {},
   "source": [
    "We are also curious about salaries in the police force. The chief of police in Chicago claimed in a press briefing that salaries this year are higher than last year's mean of $86000/year a year for all salaried employees. Test this one sided hypothesis using a 95% confidence interval.\n",
    "\n",
    "Hint: A one tailed test has a p-value that is half of the two tailed p-value. If our hypothesis is greater than, then to reject, the test statistic must also be positive."
   ]
  },
  {
   "cell_type": "code",
   "execution_count": 14,
   "metadata": {},
   "outputs": [],
   "source": [
    "# Your code here:\n",
    "last_year_mean = 86000\n",
    "curr_salary = salaries[salaries[\"Salary or Hourly\"] == \"Salary\"][\"Annual Salary\"]"
   ]
  },
  {
   "cell_type": "code",
   "execution_count": 15,
   "metadata": {},
   "outputs": [],
   "source": [
    "prob2 = ttest_1samp(curr_salary, last_year_mean)"
   ]
  },
  {
   "cell_type": "code",
   "execution_count": 16,
   "metadata": {},
   "outputs": [
    {
     "output_type": "execute_result",
     "data": {
      "text/plain": [
       "Ttest_1sampResult(statistic=5.932870515690814, pvalue=3.015758519916386e-09)"
      ]
     },
     "metadata": {},
     "execution_count": 16
    }
   ],
   "source": [
    "prob2"
   ]
  },
  {
   "cell_type": "code",
   "execution_count": 17,
   "metadata": {},
   "outputs": [
    {
     "output_type": "execute_result",
     "data": {
      "text/plain": [
       "1.507879259958193e-09"
      ]
     },
     "metadata": {},
     "execution_count": 17
    }
   ],
   "source": [
    "3.015758519916386e-09/2"
   ]
  },
  {
   "cell_type": "code",
   "execution_count": null,
   "metadata": {},
   "outputs": [],
   "source": [
    "#pvalue es menor que 0.05, así que rechazamos la hipótesis nula."
   ]
  },
  {
   "cell_type": "markdown",
   "metadata": {},
   "source": [
    "Using the `crosstab` function, find the department that has the most hourly workers. "
   ]
  },
  {
   "cell_type": "code",
   "execution_count": 18,
   "metadata": {},
   "outputs": [
    {
     "output_type": "execute_result",
     "data": {
      "text/plain": [
       "Salary or Hourly  Hourly  Salary\n",
       "Department                      \n",
       "STREETS & SAN       1862     336\n",
       "WATER MGMNT         1513     366\n",
       "OEMC                1273     829\n",
       "AVIATION            1082     547\n",
       "GENERAL SERVICES     765     215"
      ],
      "text/html": "<div>\n<style scoped>\n    .dataframe tbody tr th:only-of-type {\n        vertical-align: middle;\n    }\n\n    .dataframe tbody tr th {\n        vertical-align: top;\n    }\n\n    .dataframe thead th {\n        text-align: right;\n    }\n</style>\n<table border=\"1\" class=\"dataframe\">\n  <thead>\n    <tr style=\"text-align: right;\">\n      <th>Salary or Hourly</th>\n      <th>Hourly</th>\n      <th>Salary</th>\n    </tr>\n    <tr>\n      <th>Department</th>\n      <th></th>\n      <th></th>\n    </tr>\n  </thead>\n  <tbody>\n    <tr>\n      <th>STREETS &amp; SAN</th>\n      <td>1862</td>\n      <td>336</td>\n    </tr>\n    <tr>\n      <th>WATER MGMNT</th>\n      <td>1513</td>\n      <td>366</td>\n    </tr>\n    <tr>\n      <th>OEMC</th>\n      <td>1273</td>\n      <td>829</td>\n    </tr>\n    <tr>\n      <th>AVIATION</th>\n      <td>1082</td>\n      <td>547</td>\n    </tr>\n    <tr>\n      <th>GENERAL SERVICES</th>\n      <td>765</td>\n      <td>215</td>\n    </tr>\n  </tbody>\n</table>\n</div>"
     },
     "metadata": {},
     "execution_count": 18
    }
   ],
   "source": [
    "# Your code here:\n",
    "pd.crosstab(salaries.Department, salaries[\"Salary or Hourly\"]).sort_values(\"Hourly\", ascending = False).head()"
   ]
  },
  {
   "cell_type": "markdown",
   "metadata": {},
   "source": [
    "The workers from the department with the most hourly workers have complained that their hourly wage is less than $35/hour. Using a one sample t-test, test this one-sided hypothesis at the 95% confidence level."
   ]
  },
  {
   "cell_type": "code",
   "execution_count": 19,
   "metadata": {},
   "outputs": [],
   "source": [
    "# Your code here:\n",
    "salary_hour = salaries[(salaries.Department == \"STREETS & SAN\") & (salaries[\"Salary or Hourly\"] == \"Hourly\")][\"Hourly Rate\"].values"
   ]
  },
  {
   "cell_type": "code",
   "execution_count": 20,
   "metadata": {},
   "outputs": [],
   "source": [
    "less_35 = ttest_1samp(salary_hour, 35)"
   ]
  },
  {
   "cell_type": "code",
   "execution_count": 21,
   "metadata": {},
   "outputs": [
    {
     "output_type": "execute_result",
     "data": {
      "text/plain": [
       "Ttest_1sampResult(statistic=-9.567447887848152, pvalue=3.3378530564707717e-21)"
      ]
     },
     "metadata": {},
     "execution_count": 21
    }
   ],
   "source": [
    "less_35"
   ]
  },
  {
   "cell_type": "code",
   "execution_count": null,
   "metadata": {},
   "outputs": [],
   "source": [
    "#pvalue es menor que 0.05, así que rechazamos la hipótesis nula."
   ]
  },
  {
   "cell_type": "markdown",
   "metadata": {},
   "source": [
    "# Challenge 3 - Constructing Confidence Intervals\n",
    "\n",
    "While testing our hypothesis is a great way to gather empirical evidence for accepting or rejecting the hypothesis, another way to gather evidence is by creating a confidence interval. A confidence interval gives us information about the true mean of the population. So for a 95% confidence interval, we are 95% sure that the mean of the population is within the confidence interval. \n",
    ").\n",
    "\n",
    "To read more about confidence intervals, click [here](https://en.wikipedia.org/wiki/Confidence_interval).\n",
    "\n",
    "\n",
    "In the cell below, we will construct a 95% confidence interval for the mean hourly wage of all hourly workers. \n",
    "\n",
    "The confidence interval is computed in SciPy using the `t.interval` function. You can read more about this function [here](https://docs.scipy.org/doc/scipy-0.14.0/reference/generated/scipy.stats.t.html).\n",
    "\n",
    "To compute the confidence interval of the hourly wage, use the 0.95 for the confidence level, number of rows - 1 for degrees of freedom, the mean of the sample for the location parameter and the standard error for the scale. The standard error can be computed using [this](https://docs.scipy.org/doc/scipy/reference/generated/scipy.stats.sem.html) function in SciPy."
   ]
  },
  {
   "cell_type": "code",
   "execution_count": 25,
   "metadata": {},
   "outputs": [
    {
     "output_type": "execute_result",
     "data": {
      "text/plain": [
       "       Typical Hours  Annual Salary  Hourly Rate\n",
       "count    8022.000000   25161.000000  8022.000000\n",
       "mean       34.507604   86786.999790    32.788558\n",
       "std         9.252077   21041.354602    12.112573\n",
       "min        10.000000    7200.000000     2.650000\n",
       "25%        20.000000   76266.000000    21.200000\n",
       "50%        40.000000   90024.000000    35.600000\n",
       "75%        40.000000   96060.000000    40.200000\n",
       "max        40.000000  300000.000000   109.000000"
      ],
      "text/html": "<div>\n<style scoped>\n    .dataframe tbody tr th:only-of-type {\n        vertical-align: middle;\n    }\n\n    .dataframe tbody tr th {\n        vertical-align: top;\n    }\n\n    .dataframe thead th {\n        text-align: right;\n    }\n</style>\n<table border=\"1\" class=\"dataframe\">\n  <thead>\n    <tr style=\"text-align: right;\">\n      <th></th>\n      <th>Typical Hours</th>\n      <th>Annual Salary</th>\n      <th>Hourly Rate</th>\n    </tr>\n  </thead>\n  <tbody>\n    <tr>\n      <th>count</th>\n      <td>8022.000000</td>\n      <td>25161.000000</td>\n      <td>8022.000000</td>\n    </tr>\n    <tr>\n      <th>mean</th>\n      <td>34.507604</td>\n      <td>86786.999790</td>\n      <td>32.788558</td>\n    </tr>\n    <tr>\n      <th>std</th>\n      <td>9.252077</td>\n      <td>21041.354602</td>\n      <td>12.112573</td>\n    </tr>\n    <tr>\n      <th>min</th>\n      <td>10.000000</td>\n      <td>7200.000000</td>\n      <td>2.650000</td>\n    </tr>\n    <tr>\n      <th>25%</th>\n      <td>20.000000</td>\n      <td>76266.000000</td>\n      <td>21.200000</td>\n    </tr>\n    <tr>\n      <th>50%</th>\n      <td>40.000000</td>\n      <td>90024.000000</td>\n      <td>35.600000</td>\n    </tr>\n    <tr>\n      <th>75%</th>\n      <td>40.000000</td>\n      <td>96060.000000</td>\n      <td>40.200000</td>\n    </tr>\n    <tr>\n      <th>max</th>\n      <td>40.000000</td>\n      <td>300000.000000</td>\n      <td>109.000000</td>\n    </tr>\n  </tbody>\n</table>\n</div>"
     },
     "metadata": {},
     "execution_count": 25
    }
   ],
   "source": [
    "# Your code here:\n",
    "from scipy.stats import t \n",
    "salaries.describe()"
   ]
  },
  {
   "cell_type": "code",
   "execution_count": 30,
   "metadata": {},
   "outputs": [
    {
     "output_type": "execute_result",
     "data": {
      "text/plain": [
       "(45544.71855637952, 128029.28102392354)"
      ]
     },
     "metadata": {},
     "execution_count": 30
    }
   ],
   "source": [
    "muestra = salaries[salaries[\"Salary or Hourly\"] == \"Salary\"]['Annual Salary']\n",
    "media = muestra.mean()\n",
    "stdv = muestra.std()\n",
    "grad_lib = len(muestra) - 1\n",
    "\n",
    "\n",
    "intervalo = t.interval(0.95, grad_lib, loc= media, scale= stdv)\n",
    "intervalo"
   ]
  },
  {
   "cell_type": "markdown",
   "metadata": {},
   "source": [
    "Now construct the 95% confidence interval for all salaried employeed in the police in the cell below."
   ]
  },
  {
   "cell_type": "code",
   "execution_count": 32,
   "metadata": {},
   "outputs": [
    {
     "output_type": "execute_result",
     "data": {
      "text/plain": [
       "(45544.71855637952, 128029.28102392354)"
      ]
     },
     "metadata": {},
     "execution_count": 32
    }
   ],
   "source": [
    "# Your code here:\n",
    "muestra2 = salaries[(salaries[\"Salary or Hourly\"] == \"Salary\") & (salaries[\"Department\"] == \"POLICE\")][\"Annual Salary\"]\n",
    "media2 = muestra.mean()\n",
    "stdv2 = muestra.std()\n",
    "grad_lib2 = len(muestra) - 1\n",
    "\n",
    "\n",
    "intervalo = t.interval(0.95, grad_lib2, loc= media2, scale= stdv2)\n",
    "intervalo"
   ]
  },
  {
   "cell_type": "markdown",
   "metadata": {},
   "source": [
    "# Challenge 4 - Hypothesis Tests of Proportions\n",
    "\n",
    "Another type of one sample test is a hypothesis test of proportions. In this test, we examine whether the proportion of a group in our sample is significantly different than a fraction. \n",
    "\n",
    "You can read more about one sample proportion tests [here](http://sphweb.bumc.bu.edu/otlt/MPH-Modules/BS/SAS/SAS6-CategoricalData/SAS6-CategoricalData2.html).\n",
    "\n",
    "In the cell below, use the `proportions_ztest` function from `statsmodels` to perform a hypothesis test that will determine whether the number of hourly workers in the City of Chicago is significantly different from 25% at the 95% confidence level."
   ]
  },
  {
   "cell_type": "code",
   "execution_count": 33,
   "metadata": {},
   "outputs": [],
   "source": [
    "# Your code here:\n",
    "from statsmodels.stats.proportion import proportions_ztest"
   ]
  },
  {
   "cell_type": "code",
   "execution_count": 49,
   "metadata": {},
   "outputs": [
    {
     "output_type": "execute_result",
     "data": {
      "text/plain": [
       "0.0004481127249057967"
      ]
     },
     "metadata": {},
     "execution_count": 49
    }
   ],
   "source": [
    "alpha = 0.05\n",
    "muestra3 = salaries[salaries[\"Salary or Hourly\"] == \"Hourly\"]\n",
    "nobs = salaries[\"Salary or Hourly\"]\n",
    "pval = proportions_ztest(len(muestra3), len(nobs),value = 0.25)[1]\n"
   ]
  },
  {
   "cell_type": "code",
   "execution_count": 55,
   "metadata": {},
   "outputs": [],
   "source": [
    "#pval es menor que 0.05, así que rechazamos la hipótesis nula."
   ]
  }
 ],
 "metadata": {
  "kernelspec": {
   "display_name": "Python 3",
   "language": "python",
   "name": "python3"
  },
  "language_info": {
   "codemirror_mode": {
    "name": "ipython",
    "version": 3
   },
   "file_extension": ".py",
   "mimetype": "text/x-python",
   "name": "python",
   "nbconvert_exporter": "python",
   "pygments_lexer": "ipython3",
   "version": "3.8.3-final"
  }
 },
 "nbformat": 4,
 "nbformat_minor": 2
}